{
 "cells": [
  {
   "cell_type": "markdown",
   "metadata": {
    "slideshow": {
     "slide_type": "slide"
    }
   },
   "source": [
    "#### Autori: Domenico Lembo, Antonella Poggi, Giuseppe Santucci and Marco Schaerf\n",
    "\n",
    "[Dipartimento di Ingegneria informatica, automatica e gestionale](https://www.diag.uniroma1.it)\n",
    "\n",
    "<img src=\"https://mirrors.creativecommons.org/presskit/buttons/88x31/png/by-nc-sa.eu.png\"\n",
    "     alt=\"License\"\n",
    "     style=\"float: left;\"\n",
    "     height=\"40\" width=\"100\" />\n",
    "This notebook is distributed with license Creative Commons *CC BY-NC-SA*"
   ]
  },
  {
   "cell_type": "markdown",
   "metadata": {},
   "source": [
    "# Ciclo While\n",
    "\n",
    "1. Iterazioni (numero di ripetizioni noto:`for`  o ignoto:`while`)\n",
    "  + 1.1 Istruzione while\n",
    "  + 1.2 Esempio: stringa casuale che termina per \"o\"\n",
    "  + 1.3 Esempio: ciclo di controllo su interi negativi e positivi\n",
    "2. Ciclo while controllato da \"sentinella\"\n",
    "3. Cicli definiti ed indefiniti \n",
    "6. Esempio uso del While per ripetere programma\n",
    "8. Esercizi"
   ]
  },
  {
   "cell_type": "markdown",
   "metadata": {},
   "source": [
    "### Iterazioni\n",
    "In molte situazioni alcune istruzioni devono essere ripetute più volte ma senza sapere fin dall'inizio quante volte. Ad esempio, se dovessimo sommare dei numeri letti da tastiera fino a chè non venga inserita il numero 0, questa operazione sarebbe difficilmente realizzabile con un ciclo `for`\n",
    "\n",
    "Per risolvere questa tipologia di problemi useremo l'istruzione di ciclo `while`"
   ]
  },
  {
   "cell_type": "markdown",
   "metadata": {},
   "source": [
    "#### Istruzione while\n",
    "L'istruzione `while` in Python ha il seguente formato:\n",
    "\n",
    "```python\n",
    "while condizione:\n",
    "    istruzione/i\n",
    "```\n",
    "\n",
    "L'istruzione `while` dell'esempio sopra va letta nel seguente modo:\n",
    "*Finché la condizione è vera, esegui l' istruzione/i.\n",
    "La condizione è un'espressione booleana il cui valore può essere `True` o `False`.\n",
    "L'esecuzione dell'istruzione `while` avviene nel seguente modo:\n",
    "1. Si verifica se la condizione è `True`\n",
    "  * In caso positivo, vengono eseguite le istruzione/i e si torna al punto 1\n",
    "  * In caso negativo, il ciclo termina e si esegue la prima istruzione FUORI dal ciclo While\n",
    "  \n",
    "\n",
    "Di seguito un semplice diagramma di flusso che rappresenta graficamente una generica istruzione `while`.\n",
    "\n",
    "<img src=\"./immagini/FlussoWhileS.png\" alt=\"drawing\" style=\"width:300px;\" align=\"middle\"/>"
   ]
  },
  {
   "cell_type": "code",
   "execution_count": 1,
   "metadata": {},
   "outputs": [
    {
     "name": "stdout",
     "output_type": "stream",
     "text": [
      "19\n"
     ]
    }
   ],
   "source": [
    "#Esempio leggi e somma dei numeri interi da tastiera fino a quando non viene inserito il valore 0\n",
    "somma = 0\n",
    "n = int(input('Inserisci un numero intero (0 per terminare): '))\n",
    "\n",
    "while n != 0:\n",
    "    somma = somma + n\n",
    "    n = int(input('Inserisci un numero intero (0 per terminare): '))\n",
    "print(somma)"
   ]
  },
  {
   "cell_type": "markdown",
   "metadata": {},
   "source": [
    "Già da questo semplice esempio si vedono alcuni degli elementi principali associati a un ciclo `while`: \n",
    "\n",
    "(a) inizializzazione delle variabili fuori dal ciclo (`somma = 0` e `n = int(input('Inserisci un numero intero (0 per terminare): '))`); \n",
    "\n",
    "(b) specifica della condizione, che deve essere vera perchè si esegua il ciclo (`n != 0`). La variabile `n` viene anche chiamata variabile di controllo del ciclo (non sempre presente); \n",
    "\n",
    "(c) definizione delle operazioni da eseguire per ogni esecuzione del ciclo (`somma = somma + n`, `n = int(input('Inserisci un numero intero (0 per terminare): '))`); \n",
    "\n",
    "Quanto appena detto costituisce uno schema di base che, come vedremo, può avere diverse varianti. "
   ]
  },
  {
   "cell_type": "markdown",
   "metadata": {},
   "source": [
    "#### Esempio: stringa casuale che termina per \"o\"\n",
    "scrivere un programma che stampa una stringa casuale di sole lettere alfabetiche minuscole che termina con il carattere 'o' e non contiene altre 'o' al suo interno."
   ]
  },
  {
   "cell_type": "code",
   "execution_count": 3,
   "metadata": {},
   "outputs": [
    {
     "name": "stdout",
     "output_type": "stream",
     "text": [
      "cuglipibzfrkxbjhyafyayo"
     ]
    }
   ],
   "source": [
    "# Soluzione\n",
    "import random\n",
    "c=333  #qualunque intero diverso da ord('o')\n",
    "\n",
    "while chr(c)!=\"o\":\n",
    "    c=random.randint(ord(\"a\"),ord(\"z\"))\n",
    "    print(chr(c),end='') # se usiamo print(chr(c),end='') la stringa è stampata in una sola riga.\n",
    "    \n",
    "# in questo caso la variabile di controllo è la variabile c"
   ]
  },
  {
   "cell_type": "markdown",
   "metadata": {},
   "source": [
    "#### Esempio: ciclo di controllo su valore in un intervallo\n",
    "\n",
    "In questo esempio vogliamo che l'utente inserisca un valore tra 1 e 10; per impedire che venga inserito un valore scorretto, il programma chiede ripetutamente all'utente di inserire un numero stampando l'intero inserito solo quando viene inserito un valore corretto. Si noti comunque che il programma assume che venga sempre inserito un intero."
   ]
  },
  {
   "cell_type": "code",
   "execution_count": 5,
   "metadata": {},
   "outputs": [
    {
     "name": "stdout",
     "output_type": "stream",
     "text": [
      "Il valore inserito NON è corretto:\n",
      "Il valore inserito è corretto:\n",
      "9\n"
     ]
    }
   ],
   "source": [
    "corretto=False\n",
    "while not corretto:\n",
    "    s=input(\"Inserisci un intero tra 1 e 10: \")\n",
    "    n=int(s)\n",
    "    if n >=1 and n <= 10:\n",
    "        print(\"Il valore inserito è corretto:\")\n",
    "        corretto = True\n",
    "    else:\n",
    "        print(\"Il valore inserito NON è corretto:\")\n",
    "        \n",
    "print(n)"
   ]
  },
  {
   "cell_type": "markdown",
   "metadata": {},
   "source": [
    "### Ciclo while controllato da \"sentinella\"\n",
    "\n",
    "La condizione del `while` è in questo caso dipendente dai valori inseriti iterativamente in input dall'utente, e il ciclo termina quando l'utente inserisce un valore speciale, detto *valore sentinella*. Questo valore in genere non è significativo per la computazione che il ciclo deve effettuare e ha come unico scopo quello di comunicare al programma che il ciclo deve interrompersi. \n",
    "\n",
    "Se vogliamo leggere una sequenza di n elementi terminata da un valore *sentinella*, abbiamo\n",
    "tre operazioni da svolgere (non necessariamente nell'ordine): \n",
    "- leggere un elemento\n",
    "- valutare la condizione\n",
    "- elaborare l'elemento letto\n",
    "\n",
    "In particolare possiamo usare uno schema che prevede la *lettura solo nel ciclo*, oppure *lettura prima e dentro il ciclo* (interessanti vantaggi)"
   ]
  },
  {
   "cell_type": "code",
   "execution_count": 10,
   "metadata": {},
   "outputs": [
    {
     "name": "stdout",
     "output_type": "stream",
     "text": [
      "Hai inserito: 87\n",
      "Hai inserito: 0\n",
      "Hai inserito: 9\n"
     ]
    }
   ],
   "source": [
    "# gestione sequenza di n>=0 interi con LETTURA SOLO DENTRO IL CICLO\n",
    "# inizializzazione variabile di controllo del ciclo prima del ciclo stesso.\n",
    "# Nel while: prima leggo ed assegno alla variabile i quelloc ho letto e poi, \n",
    "# if i!=sentinella, elaboro\n",
    "\n",
    "i=\"0\" # la variabile di controllo è inizializzata ad un valore che forza l'esecuzione del ciclo (prima iterazione) \n",
    "while i!=\"*\":  # * è il valore \"sentinella\"\n",
    "    i=input(\"inserici un intero  (* per terminare): \")\n",
    "    if i!='*':\n",
    "        print(\"Hai inserito:\",int(i))\n",
    "    \n",
    "    \n",
    "# il ciclo while viene eseguito n+1 volte \n",
    "# (per chiarezza: n+1 è il numero di volte che viene \n",
    "# eseguito il blocco di istruzioni contenuto nel ciclo;\n",
    "# l'ultima volta è per l'inserimento della sentinella).\n",
    "# La condizione del while (i!=\"*\") viene verificata \n",
    "# una volta in più, quella in cui fallisce e si esce \n",
    "# dal ciclo. Questo è sempre vero quando si usa il while"
   ]
  },
  {
   "cell_type": "markdown",
   "metadata": {},
   "source": [
    "Quando si decide di avere letture solo nel ciclo è importante ricordarsi di: \n",
    "- (a) inizializzare la variabile di controllo ad un valore che forzi l'esecuzione del ciclo almeno una volta \n",
    "- (b) evitare di processare il dato quando viene inserita la \"sentinella\" (input speciale che indica la terminazione della sequenza)."
   ]
  },
  {
   "cell_type": "code",
   "execution_count": 13,
   "metadata": {},
   "outputs": [
    {
     "name": "stdout",
     "output_type": "stream",
     "text": [
      "Hai inserito: 98\n"
     ]
    }
   ],
   "source": [
    "# gestione sequenza di n>=0 interi con LETTURA FUORI DAL CICLO\n",
    "# leggo una sola volta fuori ciclo\n",
    "# nel while: prima elaboro e poi leggo (senza if)\n",
    "\n",
    "i=input(\"inserici un intero  (* per terminare): \")\n",
    "while i!=\"*\":\n",
    "    print(\"Hai inserito:\",int(i))\n",
    "    i=input(\"inserici un intero  (* per terminare): \")\n",
    "    \n",
    "# il ciclo while viene eseguito n volte\n",
    "# (ma le letture sono sempre n+1)"
   ]
  },
  {
   "cell_type": "markdown",
   "metadata": {},
   "source": [
    "Di seguito proponiamo una variante dello schema con lettura solo dentro il ciclo, in cui si utilizza una variabile di controllo Booleana."
   ]
  },
  {
   "cell_type": "code",
   "execution_count": null,
   "metadata": {},
   "outputs": [],
   "source": [
    "# gestione sequenza di n>=0 interi con LETTURA SOLO DENTRO IL CICLO\n",
    "# e variabile di controllo del ciclo booleana.\n",
    "# Occorre eseguire la prima parte del ciclo per vedere se il ciclo è terminato\n",
    "\n",
    "finito=False\n",
    "\n",
    "while not finito:\n",
    "    i=input(\"inserici un intero  (* per terminare): \")\n",
    "    if i==\"*\":\n",
    "        finito=True\n",
    "    else:\n",
    "        print(\"Hai inserito:\",int(i))\n",
    "\n",
    "# il ciclo while viene eseguito n+1 volte"
   ]
  },
  {
   "cell_type": "markdown",
   "metadata": {
    "tags": []
   },
   "source": [
    "### Cicli definiti e indefiniti e confronto con il `for`\n",
    "\n",
    "Il programma che conta gli elementi di una sequenza fino all'inserimento di una sentinella contiene un ciclo *indefinito* perchè il numero delle iterazioni che verranno eseguite *non* è prevedibile analizzando il contenuto delle variabili all'inizio del ciclo. \n",
    "\n",
    "Nei casi in cui questo numero di iterazioni è invece prevedibile sulla base del valore delle variabili all'inizio del ciclo, si parla di cicli *definiti*. I cicli *definiti* sono spesso più facilmente risolvibili usando il ciclo `for`, che ha invece difficoltà a risolvere i cicli *indefiniti*.\n",
    "\n",
    "Notate però che il ciclo `while` è più versatile del ciclo `for`, in quanto si adatta naturalmente sia a cicli *definiti* che a quelli *indefiniti*.\n",
    "\n",
    "Di seguito riportiamo tre esempi di cicli definiti (anche il primo esempio di ciclo `while` contenuto in questa sezione è in effetti un esempio di ciclo definito. Infatti, all'inizio del ciclo sappiamo già di quanti elementi è composta la stringa s (basta calcolare len(s)). Tutti gli altri esempi fin qui visti si refiriscono a cicli indefiniti). "
   ]
  },
  {
   "cell_type": "code",
   "execution_count": 14,
   "metadata": {
    "tags": []
   },
   "outputs": [
    {
     "name": "stdout",
     "output_type": "stream",
     "text": [
      "CIAO\n",
      "CIAO\n",
      "CIAO\n",
      "CIAO\n",
      "CIAO\n",
      "CIAO\n"
     ]
    }
   ],
   "source": [
    "## programma che stampa per n volte la parola CIAO, con n acquisito da tastiera\n",
    "\n",
    "n = int(input(\"inserisci il numero di volte che vuoi stampare la parola 'CIAO'\"))\n",
    "i=1\n",
    "while i <=n:\n",
    "    print('CIAO')\n",
    "    i+=1"
   ]
  },
  {
   "cell_type": "code",
   "execution_count": 15,
   "metadata": {},
   "outputs": [
    {
     "name": "stdout",
     "output_type": "stream",
     "text": [
      "CIAO\n",
      "CIAO\n",
      "CIAO\n",
      "CIAO\n",
      "CIAO\n",
      "CIAO\n",
      "CIAO\n"
     ]
    }
   ],
   "source": [
    "## programma che stampa per n volte la parola CIAO, con n acquisito da tastiera\n",
    "## Risolto con il ciclo for\n",
    "\n",
    "n = int(input(\"inserisci il numero di volte che vuoi stampare la parola 'CIAO'\"))\n",
    "for i in range(n):\n",
    "    print('CIAO')"
   ]
  },
  {
   "cell_type": "code",
   "execution_count": 16,
   "metadata": {
    "tags": []
   },
   "outputs": [
    {
     "name": "stdout",
     "output_type": "stream",
     "text": [
      "1 \u0001\n",
      "2 \u0002\n",
      "3 \u0003\n",
      "4 \u0004\n",
      "5 \u0005\n",
      "6 \u0006\n",
      "7 \u0007\n",
      "8\n",
      "9 \t\n",
      "10 \n",
      "\n",
      "11 \u000b\n",
      "12 \f\n",
      "13 \n",
      "14 \u000e\n",
      "15 \u000f\n",
      "16 \u0010\n",
      "17 \u0011\n",
      "18 \u0012\n",
      "19 \u0013\n",
      "20 \u0014\n",
      "21 \u0015\n",
      "22 \u0016\n",
      "23 \u0017\n",
      "24 \u0018\n",
      "25 \u0019\n",
      "26 \u001a\n",
      "27 \u001b\n",
      "28 \u001c\n",
      "29 \u001d\n",
      "30 \u001e\n",
      "31 \u001f\n",
      "32  \n",
      "33 !\n",
      "34 \"\n",
      "35 #\n",
      "36 $\n",
      "37 %\n",
      "38 &\n",
      "39 '\n",
      "40 (\n",
      "41 )\n",
      "42 *\n",
      "43 +\n",
      "44 ,\n",
      "45 -\n",
      "46 .\n",
      "47 /\n",
      "48 0\n",
      "49 1\n",
      "50 2\n",
      "51 3\n",
      "52 4\n",
      "53 5\n",
      "54 6\n",
      "55 7\n",
      "56 8\n",
      "57 9\n",
      "58 :\n",
      "59 ;\n",
      "60 <\n",
      "61 =\n",
      "62 >\n",
      "63 ?\n",
      "64 @\n",
      "65 A\n",
      "66 B\n",
      "67 C\n",
      "68 D\n",
      "69 E\n",
      "70 F\n",
      "71 G\n",
      "72 H\n",
      "73 I\n",
      "74 J\n",
      "75 K\n",
      "76 L\n",
      "77 M\n",
      "78 N\n",
      "79 O\n",
      "80 P\n",
      "81 Q\n",
      "82 R\n",
      "83 S\n",
      "84 T\n",
      "85 U\n",
      "86 V\n",
      "87 W\n",
      "88 X\n",
      "89 Y\n",
      "90 Z\n",
      "91 [\n",
      "92 \\\n",
      "93 ]\n",
      "94 ^\n",
      "95 _\n",
      "96 `\n",
      "97 a\n",
      "98 b\n",
      "99 c\n",
      "100 d\n",
      "101 e\n",
      "102 f\n",
      "103 g\n",
      "104 h\n",
      "105 i\n",
      "106 j\n",
      "107 k\n",
      "108 l\n",
      "109 m\n",
      "110 n\n",
      "111 o\n",
      "112 p\n",
      "113 q\n",
      "114 r\n",
      "115 s\n",
      "116 t\n",
      "117 u\n",
      "118 v\n",
      "119 w\n",
      "120 x\n",
      "121 y\n",
      "122 z\n",
      "123 {\n",
      "124 |\n",
      "125 }\n",
      "126 ~\n",
      "127 \n"
     ]
    }
   ],
   "source": [
    "## programma che stampa i 127 caratteri ascii \n",
    "\n",
    "i=1\n",
    "while i <=127:\n",
    "    print(i, chr(i))\n",
    "    i+=1"
   ]
  },
  {
   "cell_type": "code",
   "execution_count": 17,
   "metadata": {},
   "outputs": [
    {
     "name": "stdout",
     "output_type": "stream",
     "text": [
      "0 \u0000\n",
      "1 \u0001\n",
      "2 \u0002\n",
      "3 \u0003\n",
      "4 \u0004\n",
      "5 \u0005\n",
      "6 \u0006\n",
      "7 \u0007\n",
      "8\n",
      "9 \t\n",
      "10 \n",
      "\n",
      "11 \u000b\n",
      "12 \f\n",
      "13 \n",
      "14 \u000e\n",
      "15 \u000f\n",
      "16 \u0010\n",
      "17 \u0011\n",
      "18 \u0012\n",
      "19 \u0013\n",
      "20 \u0014\n",
      "21 \u0015\n",
      "22 \u0016\n",
      "23 \u0017\n",
      "24 \u0018\n",
      "25 \u0019\n",
      "26 \u001a\n",
      "27 \u001b\n",
      "28 \u001c\n",
      "29 \u001d\n",
      "30 \u001e\n",
      "31 \u001f\n",
      "32  \n",
      "33 !\n",
      "34 \"\n",
      "35 #\n",
      "36 $\n",
      "37 %\n",
      "38 &\n",
      "39 '\n",
      "40 (\n",
      "41 )\n",
      "42 *\n",
      "43 +\n",
      "44 ,\n",
      "45 -\n",
      "46 .\n",
      "47 /\n",
      "48 0\n",
      "49 1\n",
      "50 2\n",
      "51 3\n",
      "52 4\n",
      "53 5\n",
      "54 6\n",
      "55 7\n",
      "56 8\n",
      "57 9\n",
      "58 :\n",
      "59 ;\n",
      "60 <\n",
      "61 =\n",
      "62 >\n",
      "63 ?\n",
      "64 @\n",
      "65 A\n",
      "66 B\n",
      "67 C\n",
      "68 D\n",
      "69 E\n",
      "70 F\n",
      "71 G\n",
      "72 H\n",
      "73 I\n",
      "74 J\n",
      "75 K\n",
      "76 L\n",
      "77 M\n",
      "78 N\n",
      "79 O\n",
      "80 P\n",
      "81 Q\n",
      "82 R\n",
      "83 S\n",
      "84 T\n",
      "85 U\n",
      "86 V\n",
      "87 W\n",
      "88 X\n",
      "89 Y\n",
      "90 Z\n",
      "91 [\n",
      "92 \\\n",
      "93 ]\n",
      "94 ^\n",
      "95 _\n",
      "96 `\n",
      "97 a\n",
      "98 b\n",
      "99 c\n",
      "100 d\n",
      "101 e\n",
      "102 f\n",
      "103 g\n",
      "104 h\n",
      "105 i\n",
      "106 j\n",
      "107 k\n",
      "108 l\n",
      "109 m\n",
      "110 n\n",
      "111 o\n",
      "112 p\n",
      "113 q\n",
      "114 r\n",
      "115 s\n",
      "116 t\n",
      "117 u\n",
      "118 v\n",
      "119 w\n",
      "120 x\n",
      "121 y\n",
      "122 z\n",
      "123 {\n",
      "124 |\n",
      "125 }\n",
      "126 ~\n",
      "127 \n"
     ]
    }
   ],
   "source": [
    "## programma che stampa i 127 caratteri ascii\n",
    "## Risolto con il ciclo for\n",
    "\n",
    "for i in range(128):\n",
    "    print(i, chr(i))"
   ]
  },
  {
   "cell_type": "code",
   "execution_count": 18,
   "metadata": {},
   "outputs": [
    {
     "name": "stdout",
     "output_type": "stream",
     "text": [
      "1 1\n",
      "2 4\n",
      "3 9\n",
      "4 16\n",
      "5 25\n",
      "6 36\n"
     ]
    }
   ],
   "source": [
    "## programma che stampa i quadrati dei primi n numeri interi, con n acquisito da tastiera\n",
    "\n",
    "n = int(input(\"inserisci il numero di interi di cui vuoi i quadrati\"))\n",
    "i=1\n",
    "while i <=n:\n",
    "    print(i,i**2)\n",
    "    i+=1"
   ]
  },
  {
   "cell_type": "code",
   "execution_count": 21,
   "metadata": {},
   "outputs": [
    {
     "name": "stdout",
     "output_type": "stream",
     "text": [
      "1 1\n",
      "2 4\n",
      "3 9\n",
      "4 16\n",
      "5 25\n",
      "6 36\n"
     ]
    }
   ],
   "source": [
    "## programma che stampa i quadrati dei primi n numeri interi, con n acquisito da tastiera\n",
    "## Risolto con il ciclo for\n",
    "\n",
    "n = int(input(\"inserisci il numero di interi di cui vuoi i quadrati\"))\n",
    "for i in range(1,n+1):\n",
    "    print(i,i**2)"
   ]
  },
  {
   "cell_type": "code",
   "execution_count": 27,
   "metadata": {
    "tags": []
   },
   "outputs": [
    {
     "name": "stdout",
     "output_type": "stream",
     "text": [
      "3\n",
      "2\n",
      "1\n",
      "0\n"
     ]
    }
   ],
   "source": [
    "## Programma che acquisisce un numero intero e stampa \n",
    "## in ordine decrescente, a partire da questo, i numeri \n",
    "## interi fino allo zero incluso\n",
    " \n",
    "n = int(input(\"Inserire un numero intero non negativo: \"))\n",
    "\n",
    "while n >= 0: \n",
    "    print(n)  \n",
    "    n = n-1"
   ]
  },
  {
   "cell_type": "code",
   "execution_count": 28,
   "metadata": {},
   "outputs": [
    {
     "name": "stdout",
     "output_type": "stream",
     "text": [
      "3\n",
      "2\n",
      "1\n",
      "0\n"
     ]
    }
   ],
   "source": [
    "## Programma che acquisisce un numero intero e stampa \n",
    "## in ordine decrescente, a partire da questo, i numeri \n",
    "## interi fino allo zero incluso\n",
    "## Risolto con il ciclo for\n",
    " \n",
    "n = int(input(\"Inserire un numero intero non negativo: \"))\n",
    "\n",
    "for i in range(n,-1,-1):\n",
    "    print(i)"
   ]
  },
  {
   "cell_type": "markdown",
   "metadata": {
    "tags": []
   },
   "source": [
    "### Come trasformare il for in un while\n",
    "Come detto, il ciclo `for` si può (quasi) sempre trasformare in un ciclo `while`. Vediamo l'idea generale:\n",
    "\n",
    "`for i in range(n)`  \n",
    "`    istruzioni`  \n",
    "    \n",
    "può essere riscritto come:  \n",
    "  \n",
    " \n",
    "`i = 0`  \n",
    "`while i < n:`  \n",
    "`    istruzioni`  \n",
    "`    i = i + 1`  "
   ]
  },
  {
   "cell_type": "markdown",
   "metadata": {},
   "source": [
    "### Esempio uso del while per chiamare più volte una funzione\n",
    "\n",
    "Un uso comodo del `while` è per chiamare più volte di seguito una funzione senza bisogno di ri-avviare il programma. Vedimao un esempio con una funzione che calcola il fattoriale di un numero che viene invocata più volte."
   ]
  },
  {
   "cell_type": "code",
   "execution_count": 34,
   "metadata": {},
   "outputs": [
    {
     "name": "stdout",
     "output_type": "stream",
     "text": [
      "il fattoriale di 3 è 6\n"
     ]
    }
   ],
   "source": [
    "#ripetizione di una funzione con un ciclo while\n",
    "\n",
    "#funzione che calcola il fattoriale di un numero n > 0\n",
    "def fattoriale(n):\n",
    "    ris = 1\n",
    "    for i in range(2,n+1):\n",
    "        ris = ris * i\n",
    "    return ris\n",
    "\n",
    "finito=False\n",
    "while finito!=True:\n",
    "    \n",
    "    #--leggo il numero ed invoco la funzione\n",
    "    n=int(input(\"inserisci un intero positivo: \"))\n",
    "    print(\"il fattoriale di\", n, \"è\", fattoriale(n))\n",
    "    #--Fine programma\n",
    "    \n",
    "    s1=input(\"----Finisco (si/no)? \")\n",
    "    if s1.lower()==\"si\":\n",
    "        finito=True"
   ]
  },
  {
   "cell_type": "markdown",
   "metadata": {},
   "source": [
    "### Esempio con while che contiene for (ciclo annidato)\n",
    "\n",
    "Leggere sequenza di stringhe (finita da stringa vuota) e calcola il numero massimo di vocali presenti in una stringa. Fare una soluzione senza funzioni ed una con una funzione che calcola il numero di vocali di una stringa"
   ]
  },
  {
   "cell_type": "code",
   "execution_count": 35,
   "metadata": {},
   "outputs": [
    {
     "name": "stdout",
     "output_type": "stream",
     "text": [
      "3\n"
     ]
    }
   ],
   "source": [
    "#prima soluzione senza funzioni\n",
    "\n",
    "max_vocali = 0 #inizializzo la variabile a 0 non avendo ancora letto alcuna stringa\n",
    "s = input('Inserisci la prima stringa (stringa vuota per terminare): ')\n",
    "\n",
    "while s != '':\n",
    "    conta = 0\n",
    "    for c in s:\n",
    "        if c in 'aeiou':\n",
    "            conta = conta + 1\n",
    "    if conta > max_vocali:\n",
    "        max_vocali = conta\n",
    "    s = input('Inserisci un\"altra stringa (stringa vuota per terminare): ')\n",
    "\n",
    "print(max_vocali)"
   ]
  },
  {
   "cell_type": "code",
   "execution_count": 36,
   "metadata": {},
   "outputs": [
    {
     "name": "stdout",
     "output_type": "stream",
     "text": [
      "3\n"
     ]
    }
   ],
   "source": [
    "#seconda soluzione con funzione che calcola il numero di vocali in una stringa\n",
    "\n",
    "def conta_vocali(s):\n",
    "    conta = 0\n",
    "    for c in s:\n",
    "        if c in 'aeiou':\n",
    "            conta = conta + 1\n",
    "    return conta\n",
    "\n",
    "max_vocali = 0 #inizializzo la variabile a 0 non avendo ancora letto alcuna stringa\n",
    "s = input('Inserisci la prima stringa (stringa vuota per terminare): ')\n",
    "\n",
    "while s != '':\n",
    "    conta = conta_vocali(s)\n",
    "    if conta > max_vocali:\n",
    "        max_vocali = conta\n",
    "    s = input('Inserisci un\"altra stringa (stringa vuota per terminare): ')\n",
    "\n",
    "print(max_vocali)"
   ]
  },
  {
   "cell_type": "markdown",
   "metadata": {},
   "source": [
    "### Esercizi\n",
    "Completate questi esercizi prima di cominciare il prossimo argomento"
   ]
  },
  {
   "cell_type": "markdown",
   "metadata": {},
   "source": [
    "### Esercizio 1: \n",
    "Scrivere un programma che legge una sequenza di stringhe inserite da input (una alla volta), ne stampa la lunghezza e termina all'inserimento di una stringa vuota (solo invio).\n",
    "\n",
    "*Fornite due soluzioni, una con prima lettura fuori dal ciclo e una soluzione con lettura solo nel ciclo*"
   ]
  },
  {
   "cell_type": "code",
   "execution_count": 39,
   "metadata": {},
   "outputs": [
    {
     "name": "stdout",
     "output_type": "stream",
     "text": [
      "4\n",
      "3\n"
     ]
    }
   ],
   "source": [
    "#Esercizio: legge stringhe e ne stampa la lunghezza (con prima lettura fuori dal ciclo)\n",
    "x=input()\n",
    "while x!='':\n",
    "    x=len(x)\n",
    "    print(x)\n",
    "    x=input()\n"
   ]
  },
  {
   "cell_type": "code",
   "execution_count": 40,
   "metadata": {
    "scrolled": true
   },
   "outputs": [
    {
     "name": "stdout",
     "output_type": "stream",
     "text": [
      "4\n",
      "3\n"
     ]
    }
   ],
   "source": [
    "#Esercizio: legge stringhe e ne stampa la lunghezza (con lettura solo nel ciclo)\n",
    "finito=False\n",
    "while finito!=True:\n",
    "    x=input()\n",
    "    if x!='':\n",
    "        print(len(x))\n",
    "    else:\n",
    "        finito=True"
   ]
  },
  {
   "cell_type": "markdown",
   "metadata": {},
   "source": [
    "### Esercizio 2:\n",
    "Scrivere un programma che legge da input una sequenza di interi positivi terminata da '*' e per ognuno stampa a schermo se è pari o dispari."
   ]
  },
  {
   "cell_type": "code",
   "execution_count": 42,
   "metadata": {},
   "outputs": [
    {
     "name": "stdout",
     "output_type": "stream",
     "text": [
      "il numero è pari\n",
      "il numero è dispari\n",
      "il numero è dispari\n",
      "il numero è pari\n",
      "il numero è dispari\n",
      "il numero è dispari\n",
      "il numero è dispari\n",
      "il numero è pari\n",
      "il numero è pari\n"
     ]
    }
   ],
   "source": [
    "# lettura di una sequenza di interi positivi terminata da '*' e per ognuno stampa \n",
    "# a schermo se è pari o dispari.\n",
    "x=input()\n",
    "while x!='*':\n",
    "    if int(x)%2:\n",
    "        print('il numero è dispari')\n",
    "    else:\n",
    "        print('il numero è pari')\n",
    "    x=input()"
   ]
  },
  {
   "cell_type": "markdown",
   "metadata": {
    "tags": []
   },
   "source": [
    "### Esercizio 3:\n",
    "Scrivere un programma che legge da tastiera una stringa `s` ed un carattere `c` e stampa a schermo una nuova stringa uguale ad `s` ma senza la prima occorrenza del carattere `c`: 'casa','a'->> 'csa'.<br>Se il carattere `c` non compare in `s` il programma stampa la stringa `s`. Fornite 2 soluzioni, una che usa il ciclo while e una che non usa né il while né il metodo `replace()`"
   ]
  },
  {
   "cell_type": "code",
   "execution_count": 1,
   "metadata": {},
   "outputs": [
    {
     "ename": "TypeError",
     "evalue": "slice indices must be integers or None or have an __index__ method",
     "output_type": "error",
     "traceback": [
      "\u001b[1;31m---------------------------------------------------------------------------\u001b[0m",
      "\u001b[1;31mTypeError\u001b[0m                                 Traceback (most recent call last)",
      "\u001b[1;32mc:\\Users\\campe\\Desktop\\Vittorio UNI\\Programazione\\07While\\While.ipynb Cell 39\u001b[0m line \u001b[0;36m9\n\u001b[0;32m      <a href='vscode-notebook-cell:/c%3A/Users/campe/Desktop/Vittorio%20UNI/Programazione/07While/While.ipynb#X53sZmlsZQ%3D%3D?line=6'>7</a>\u001b[0m \u001b[39mwhile\u001b[39;00m finito\u001b[39m!=\u001b[39m\u001b[39mTrue\u001b[39;00m:\n\u001b[0;32m      <a href='vscode-notebook-cell:/c%3A/Users/campe/Desktop/Vittorio%20UNI/Programazione/07While/While.ipynb#X53sZmlsZQ%3D%3D?line=7'>8</a>\u001b[0m     \u001b[39mif\u001b[39;00m s[i]\u001b[39m==\u001b[39mc:\n\u001b[1;32m----> <a href='vscode-notebook-cell:/c%3A/Users/campe/Desktop/Vittorio%20UNI/Programazione/07While/While.ipynb#X53sZmlsZQ%3D%3D?line=8'>9</a>\u001b[0m         s\u001b[39m+\u001b[39m\u001b[39m=\u001b[39ms[\u001b[39m0\u001b[39;49m:s[i]\u001b[39m+\u001b[39;49ms[i\u001b[39m+\u001b[39;49m\u001b[39m1\u001b[39;49m]:]\n\u001b[0;32m     <a href='vscode-notebook-cell:/c%3A/Users/campe/Desktop/Vittorio%20UNI/Programazione/07While/While.ipynb#X53sZmlsZQ%3D%3D?line=9'>10</a>\u001b[0m         finito\u001b[39m=\u001b[39m\u001b[39mTrue\u001b[39;00m\n\u001b[0;32m     <a href='vscode-notebook-cell:/c%3A/Users/campe/Desktop/Vittorio%20UNI/Programazione/07While/While.ipynb#X53sZmlsZQ%3D%3D?line=10'>11</a>\u001b[0m     i\u001b[39m+\u001b[39m\u001b[39m=\u001b[39m\u001b[39m1\u001b[39m\n",
      "\u001b[1;31mTypeError\u001b[0m: slice indices must be integers or None or have an __index__ method"
     ]
    }
   ],
   "source": [
    "s=input()\n",
    "c=input()\n",
    "i=0\n",
    "finito=False\n",
    "if c not in s:\n",
    "    print(s)\n",
    "while finito!=True:\n",
    "    if s[i]==c:\n",
    "        s+=s[0:s[i]+s[i+1]:]\n",
    "        finito=True\n",
    "    i+=1\n",
    "print(s)"
   ]
  },
  {
   "cell_type": "code",
   "execution_count": 54,
   "metadata": {},
   "outputs": [
    {
     "name": "stdout",
     "output_type": "stream",
     "text": [
      "csa\n"
     ]
    }
   ],
   "source": [
    "s=input()\n",
    "c=input()\n",
    "x=s.find(c)\n",
    "s=s[0:x]+s[x+1:]\n",
    "print(s)"
   ]
  },
  {
   "cell_type": "markdown",
   "metadata": {},
   "source": [
    "## Esercizio 4:\n",
    "Scrivere un programma che legge da tastiera una sequenza di stringhe (terminata quando si inserisce la stringa vuota) e per ogni stringa `s` stampa la stringa composta dai soli caratteri di `s` il cui codice UNICODE è un numero primo. Si consiglia di scrivere 2 funzioni, una funzione `is_primo(n)` che restituisce `True` se `n` è un numero primo, `False` altrimenti, e una funzione che prende in input una stringa `s` e restituisce la stringa composta dai caratteri di `s` il cui codice UNICODE è un numero primo."
   ]
  },
  {
   "cell_type": "code",
   "execution_count": 72,
   "metadata": {},
   "outputs": [
    {
     "name": "stdout",
     "output_type": "stream",
     "text": [
      "qeagkm\n"
     ]
    }
   ],
   "source": [
    "def is_primo(n):\n",
    "    if n<1:\n",
    "        return False\n",
    "    u=2\n",
    "    while u * u <= n:\n",
    "        if n%u==0:\n",
    "            return False\n",
    "        u+=1\n",
    "    return True\n",
    "def numpr(s):\n",
    "    i=0\n",
    "    r=''\n",
    "    while i<len(s):\n",
    "        e=ord(s[i])\n",
    "        if is_primo(e)==True:\n",
    "             r+=s[i]\n",
    "        i+=1\n",
    "    return r\n",
    "        \n",
    "\n",
    "x=input()\n",
    "print(numpr(x))\n"
   ]
  },
  {
   "cell_type": "code",
   "execution_count": 73,
   "metadata": {},
   "outputs": [
    {
     "name": "stdout",
     "output_type": "stream",
     "text": [
      "113 q\n",
      "101 e\n",
      "97 a\n",
      "103 g\n",
      "107 k\n",
      "109 m\n"
     ]
    }
   ],
   "source": [
    "x=input()\n",
    "for i in x:\n",
    "    y=ord(i)\n",
    "    print(y,i)"
   ]
  },
  {
   "cell_type": "markdown",
   "metadata": {},
   "source": [
    "##### Esercizio 5:\n",
    "Scrivere e testare una funzione `int2bin` che riceve in ingresso un numero intero `n` e restituisce una stringa con la sua codifica in binario puro (usare il metodo delle divisioni per 2)."
   ]
  },
  {
   "cell_type": "code",
   "execution_count": 85,
   "metadata": {},
   "outputs": [
    {
     "name": "stdout",
     "output_type": "stream",
     "text": [
      "11001\n"
     ]
    }
   ],
   "source": [
    "def int2bit(n):\n",
    "    #i=0\n",
    "    d=''\n",
    "    while int(n)!=0:\n",
    "        if n%2==0:\n",
    "            d+='0'\n",
    "        else:\n",
    "            d+='1'\n",
    "        n=n//2\n",
    "    if d=='':\n",
    "        return '0'\n",
    "    return d[::-1]\n",
    "\n",
    "x=int(input())\n",
    "print(int2bit(x))\n"
   ]
  },
  {
   "cell_type": "code",
   "execution_count": 79,
   "metadata": {},
   "outputs": [
    {
     "data": {
      "text/plain": [
       "1"
      ]
     },
     "execution_count": 79,
     "metadata": {},
     "output_type": "execute_result"
    }
   ],
   "source": [
    "2//2\n",
    "25%2"
   ]
  },
  {
   "cell_type": "markdown",
   "metadata": {},
   "source": [
    "##### Esercizio 6:\n",
    "Scrivere e testare una funzione `bin2int` che riceve in ingresso una stringa `s`  contenente una sequenza di 0 e 1 e restituisce un intero calcolato interpretando la stringa in binario puro."
   ]
  },
  {
   "cell_type": "code",
   "execution_count": 104,
   "metadata": {},
   "outputs": [
    {
     "name": "stdout",
     "output_type": "stream",
     "text": [
      "5\n"
     ]
    },
    {
     "ename": "",
     "evalue": "",
     "output_type": "error",
     "traceback": [
      "\u001b[1;31mThe Kernel crashed while executing code in the the current cell or a previous cell. Please review the code in the cell(s) to identify a possible cause of the failure. Click <a href='https://aka.ms/vscodeJupyterKernelCrash'>here</a> for more info. View Jupyter <a href='command:jupyter.viewOutput'>log</a> for further details."
     ]
    }
   ],
   "source": [
    "def bin2int(s):\n",
    "    co=0\n",
    "    r=1\n",
    "    for i in range(len(s) -1, -1, -1):\n",
    "        if s[i]=='1':\n",
    "            co+=r\n",
    "        r=r*2\n",
    "    return co\n",
    "x=input()\n",
    "print(bin2int(x))\n"
   ]
  },
  {
   "cell_type": "markdown",
   "metadata": {},
   "source": [
    "##### Esercizio 7:\n",
    "Testare la coerenza di `int2bin` e `bin2int` con 10.000 interi casuali."
   ]
  }
 ],
 "metadata": {
  "kernelspec": {
   "display_name": "Python 3 (ipykernel)",
   "language": "python",
   "name": "python3"
  },
  "language_info": {
   "codemirror_mode": {
    "name": "ipython",
    "version": 3
   },
   "file_extension": ".py",
   "mimetype": "text/x-python",
   "name": "python",
   "nbconvert_exporter": "python",
   "pygments_lexer": "ipython3",
   "version": "3.12.0"
  }
 },
 "nbformat": 4,
 "nbformat_minor": 4
}
