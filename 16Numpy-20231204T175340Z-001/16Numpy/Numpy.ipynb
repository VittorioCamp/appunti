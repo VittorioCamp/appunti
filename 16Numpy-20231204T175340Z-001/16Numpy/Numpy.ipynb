{
 "cells": [
  {
   "cell_type": "markdown",
   "metadata": {
    "slideshow": {
     "slide_type": "slide"
    }
   },
   "source": [
    "#### Autori: Domenico Lembo, Antonella Poggi, Giuseppe Santucci and Marco Schaerf\n",
    "\n",
    "[Dipartimento di Ingegneria informatica, automatica e gestionale](https://www.diag.uniroma1.it)\n",
    "\n",
    "<img src=\"https://mirrors.creativecommons.org/presskit/buttons/88x31/png/by-nc-sa.eu.png\"\n",
    "     alt=\"License\"\n",
    "     style=\"float: left;\"\n",
    "     height=\"40\" width=\"100\" />\n",
    "This notebook is distributed with license Creative Commons *CC BY-NC-SA*"
   ]
  },
  {
   "cell_type": "markdown",
   "metadata": {
    "tags": []
   },
   "source": [
    "# La libreria NumPy\n",
    "1. NumPy\n",
    "2. Il tipo array di NumPy\n",
    "3. Creazione di un array in NumPy\n",
    "4. Rappresentazione interna degli array ed i metodi `reshape()` e `flatten()`\n",
    "5. Attributi, operatori e funzioni della classe `ndarray` (array)\n",
    "6. Indicizzazione, slicing e iterazione\n",
    "7. Lettura di un array da file\n",
    "8. Esercizi su matrici come NumPy array"
   ]
  },
  {
   "cell_type": "markdown",
   "metadata": {},
   "source": [
    "## Numpy\n",
    "Questa lezione è basata sul tutorial [Quickstart](https://numpy.org/devdocs/user/quickstart.html) del sito ufficiale di [NumPy](https://numpy.org/) (in inglese).\n",
    "Per eseguire questo notebook dovete installare sul vostro computer il modulo numpy, istruzioni dettagliate sono disponibili [qui](https://scipy.org/install.html), comunque per la maggior parte delle installazioni dovete solo aprire una shell di comandi e dare il comando: `pip3 install numpy`; per installarlo nell'ambiente  notebook dovete dare il comando  `%pip3 install numpy`.\n",
    "\n",
    "Perchè? Ottimizzazione!\n",
    "\n",
    "NumPy fa parte di un pacchetto di moduli Python per il calcolo scientifico, noi vedremo, brevemente, anche [Matplotlib](https://matplotlib.org/)."
   ]
  },
  {
   "cell_type": "code",
   "execution_count": 2,
   "metadata": {},
   "outputs": [
    {
     "name": "stdout",
     "output_type": "stream",
     "text": [
      "Collecting numpy\n",
      "  Obtaining dependency information for numpy from https://files.pythonhosted.org/packages/ad/11/52fbe97fd84c91105b651d25a122f8deed6d3519afb14f9771fac1c9b7de/numpy-1.26.3-cp312-cp312-win_amd64.whl.metadata\n",
      "  Downloading numpy-1.26.3-cp312-cp312-win_amd64.whl.metadata (61 kB)\n",
      "     ---------------------------------------- 0.0/61.2 kB ? eta -:--:--\n",
      "     ------------ ------------------------- 20.5/61.2 kB 320.0 kB/s eta 0:00:01\n",
      "     -------------------------------------- 61.2/61.2 kB 542.2 kB/s eta 0:00:00\n",
      "Downloading numpy-1.26.3-cp312-cp312-win_amd64.whl (15.5 MB)\n",
      "   ---------------------------------------- 0.0/15.5 MB ? eta -:--:--\n",
      "   ---------------------------------------- 0.1/15.5 MB 4.3 MB/s eta 0:00:04\n",
      "   - -------------------------------------- 0.5/15.5 MB 6.8 MB/s eta 0:00:03\n",
      "   -- ------------------------------------- 1.0/15.5 MB 7.8 MB/s eta 0:00:02\n",
      "   --- ------------------------------------ 1.4/15.5 MB 8.2 MB/s eta 0:00:02\n",
      "   ---- ----------------------------------- 1.9/15.5 MB 8.4 MB/s eta 0:00:02\n",
      "   ----- ---------------------------------- 2.3/15.5 MB 8.6 MB/s eta 0:00:02\n",
      "   ------- -------------------------------- 2.7/15.5 MB 8.7 MB/s eta 0:00:02\n",
      "   -------- ------------------------------- 3.1/15.5 MB 8.7 MB/s eta 0:00:02\n",
      "   --------- ------------------------------ 3.6/15.5 MB 8.8 MB/s eta 0:00:02\n",
      "   ---------- ----------------------------- 4.0/15.5 MB 8.9 MB/s eta 0:00:02\n",
      "   ----------- ---------------------------- 4.4/15.5 MB 8.9 MB/s eta 0:00:02\n",
      "   ------------ --------------------------- 4.9/15.5 MB 8.9 MB/s eta 0:00:02\n",
      "   ------------- -------------------------- 5.4/15.5 MB 9.1 MB/s eta 0:00:02\n",
      "   --------------- ------------------------ 5.9/15.5 MB 8.9 MB/s eta 0:00:02\n",
      "   ---------------- ----------------------- 6.3/15.5 MB 8.9 MB/s eta 0:00:02\n",
      "   ----------------- ---------------------- 6.7/15.5 MB 9.0 MB/s eta 0:00:01\n",
      "   ------------------ --------------------- 7.2/15.5 MB 9.0 MB/s eta 0:00:01\n",
      "   ------------------- -------------------- 7.6/15.5 MB 9.0 MB/s eta 0:00:01\n",
      "   -------------------- ------------------- 8.0/15.5 MB 9.0 MB/s eta 0:00:01\n",
      "   --------------------- ------------------ 8.5/15.5 MB 9.0 MB/s eta 0:00:01\n",
      "   ---------------------- ----------------- 8.9/15.5 MB 9.2 MB/s eta 0:00:01\n",
      "   ------------------------ --------------- 9.3/15.5 MB 9.0 MB/s eta 0:00:01\n",
      "   ------------------------- -------------- 9.7/15.5 MB 9.2 MB/s eta 0:00:01\n",
      "   -------------------------- ------------- 10.2/15.5 MB 9.2 MB/s eta 0:00:01\n",
      "   --------------------------- ------------ 10.6/15.5 MB 9.4 MB/s eta 0:00:01\n",
      "   ---------------------------- ----------- 11.0/15.5 MB 9.4 MB/s eta 0:00:01\n",
      "   ----------------------------- ---------- 11.5/15.5 MB 9.4 MB/s eta 0:00:01\n",
      "   ------------------------------ --------- 11.9/15.5 MB 9.4 MB/s eta 0:00:01\n",
      "   ------------------------------- -------- 12.3/15.5 MB 9.4 MB/s eta 0:00:01\n",
      "   -------------------------------- ------- 12.7/15.5 MB 9.2 MB/s eta 0:00:01\n",
      "   --------------------------------- ------ 13.2/15.5 MB 9.2 MB/s eta 0:00:01\n",
      "   ----------------------------------- ---- 13.6/15.5 MB 9.2 MB/s eta 0:00:01\n",
      "   ------------------------------------ --- 14.0/15.5 MB 9.4 MB/s eta 0:00:01\n",
      "   ------------------------------------- -- 14.5/15.5 MB 9.2 MB/s eta 0:00:01\n",
      "   -------------------------------------- - 14.8/15.5 MB 9.2 MB/s eta 0:00:01\n",
      "   ---------------------------------------  15.2/15.5 MB 9.4 MB/s eta 0:00:01\n",
      "   ---------------------------------------  15.5/15.5 MB 9.4 MB/s eta 0:00:01\n",
      "   ---------------------------------------- 15.5/15.5 MB 9.0 MB/s eta 0:00:00\n",
      "Installing collected packages: numpy\n",
      "Successfully installed numpy-1.26.3\n",
      "Note: you may need to restart the kernel to use updated packages.\n"
     ]
    },
    {
     "name": "stderr",
     "output_type": "stream",
     "text": [
      "  WARNING: The script f2py.exe is installed in 'c:\\Users\\campe\\AppData\\Local\\Programs\\Python\\Python312\\Scripts' which is not on PATH.\n",
      "  Consider adding this directory to PATH or, if you prefer to suppress this warning, use --no-warn-script-location.\n",
      "\n",
      "[notice] A new release of pip is available: 23.2.1 -> 23.3.2\n",
      "[notice] To update, run: python.exe -m pip install --upgrade pip\n"
     ]
    }
   ],
   "source": [
    "%pip install numpy"
   ]
  },
  {
   "cell_type": "markdown",
   "metadata": {},
   "source": [
    "## Il tipo array di NumPy \n",
    "L'oggetto principale di NumPy è l'array multidimensionale **omogeneo**. È una tabella di elementi (solitamente numeri), tutti dello stesso tipo, indicizzati da una tupla di numeri interi non negativi. In NumPy le dimensioni sono chiamate assi.\n",
    "\n",
    "Ad esempio, le coordinate di un punto nello spazio \\[1, 2, 1\\] sono rappresentate su un asse. L'asse contiene 3 elementi, quindi diciamo che ha una lunghezza di 3. \n",
    "\n",
    "Nell'esempio mostrato di seguito, l'array ha 2 assi. Il primo asse ha una lunghezza di 2, il secondo asse ha una lunghezza di 3.\n",
    "\n",
    "\\[\\[1., 0., 0.\\],\n",
    " \\[0., 1., 2.\\]\\]\n",
    " \n",
    "N.B. per evitare qualunque confusione useremo i due termini:\n",
    "\n",
    "- asse/i: coordinata/e dell'array\n",
    "- lunghezza asse (o dimensione asse): numero di elementi presenti in un asse\n",
    "\n",
    "Un array 3D (tridimensionale) ha tre assi :-).  La dimensione degli assi ha una lunghezza che dipende dal numero di elementi inseriti.\n",
    " \n",
    "La classe di array di NumPy si chiama *ndarray*. È anche conosciuto con l'alias *array*. Notate che numpy.array non è uguale alla classe Standard Python Library array.array, che gestisce solo array 1D e offre molte meno funzionalità.\n",
    "\n",
    "- *ndarray.ndim*: numero degli assi\n",
    "\n",
    "- *ndarray.shape*: è una tupla di ndim interi che contiene la lunghezza di ogni asse\n",
    "\n",
    "- *ndarray.size*: numero complessivo di elementi dell'array\n",
    "\n",
    "Un esempio:\n",
    " "
   ]
  },
  {
   "cell_type": "code",
   "execution_count": 6,
   "metadata": {},
   "outputs": [
    {
     "name": "stdout",
     "output_type": "stream",
     "text": [
      "[[1. 0. 0.]\n",
      " [0. 1. 2.]]\n",
      "numero assi= 2\n",
      "shape= (2, 3)\n",
      "numero elementi= 6\n"
     ]
    }
   ],
   "source": [
    "import numpy as np\n",
    "\n",
    "#Creiamo, ad esempio, un array a due assi 2x3 (cioè con 2 righe e 3 colonne)\n",
    "a = np.array([[1., 0., 0.],[0., 1., 2.]])\n",
    "\n",
    "print(a)\n",
    "\n",
    "print('numero assi=',a.ndim)\n",
    "print('shape=',a.shape)\n",
    "print('numero elementi=',a.size)\n"
   ]
  },
  {
   "cell_type": "markdown",
   "metadata": {},
   "source": [
    "Per accedere a un elemento di indici `i` e `j` di un array bidimensionale `m` si può usare la notazione delle liste di liste (cioé `m[i][j]`) oppure la notazione semplificata `m[i,j]`. Ovviamente, questo è valido anche per array di dimensione superiore a 2.\n",
    "\n",
    "Un esempio:"
   ]
  },
  {
   "cell_type": "code",
   "execution_count": 12,
   "metadata": {},
   "outputs": [
    {
     "name": "stdout",
     "output_type": "stream",
     "text": [
      "<class 'numpy.ndarray'>\n",
      "a= [[1. 0. 0.]\n",
      " [0. 1. 2.]]\n",
      "\n",
      "elemento riga 0 colonna 1 0.0\n",
      "elemento riga 0 colonna 1 0.0\n",
      "\n",
      "1.0\t0.0\t0.0\t\n",
      "0.0\t1.0\t2.0\t\n"
     ]
    }
   ],
   "source": [
    "import numpy as np\n",
    "\n",
    "#Creiamo, ad esempio, un array 2x3 (cioè con 2 righe e 3 colonne)\n",
    "a = np.array([[1., 0., 0.],[0., 1., 2.]])\n",
    "print(type(a))\n",
    "print('a=',a)\n",
    "print()\n",
    "#Stampiamo uno specifico elemento, ad esempio,\n",
    "#quello sulla riga 0 colonna 1\n",
    "print('elemento riga 0 colonna 1',a[0][1]) #notazione standard per liste di liste\n",
    "print('elemento riga 0 colonna 1',a[0,1]) #notazione semplificata di NumPy\n",
    "# stampa tramite doppio ciclo \n",
    "\n",
    "print()\n",
    "for i in range(a.shape[0]):       # righe\n",
    "    for j in range(a.shape[1]):   # colonne\n",
    "        print(a[i,j],end='\\t')\n",
    "    print()"
   ]
  },
  {
   "cell_type": "markdown",
   "metadata": {},
   "source": [
    "## Creazione di un array in NumPy\n",
    "Ci sono molti modi per creare un array in NumPy, si può direttamente creare un array fornendo tutti i dati, come visto sopra, si può trasformare una lista in array oppure si possono usare le numerose funzioni di inizializzazione presenti in NumPy. **Notate che le dimensioni degli assi dell'array vanno fornite come tuple**, cioè scritte tra parentesi. \n",
    "\n",
    "La funzione *print()* applicata ad un oggetto di tipo array lo stampa automaticamente per righe, se è tridimensionale stampa un piano 2D per volta. Vediamo degli esempi:"
   ]
  },
  {
   "cell_type": "code",
   "execution_count": 14,
   "metadata": {},
   "outputs": [
    {
     "name": "stdout",
     "output_type": "stream",
     "text": [
      "[[1. 1. 1. 1.]\n",
      " [1. 1. 1. 1.]\n",
      " [1. 1. 1. 1.]]\n"
     ]
    }
   ],
   "source": [
    "# Crea un array 2D di uno con 3 righe e 4 colonne\n",
    "print(np.ones((3,4))) "
   ]
  },
  {
   "cell_type": "markdown",
   "metadata": {},
   "source": [
    "Si noti che nell'esempio sopra, la tupla (3,4) è la shape dell'array e denota contemporaneamente:\n",
    "- il numero degli assi (lunghezza della tupla)\n",
    "- la lunghezza di ciascun asse (valori della tupla)\n",
    "\n",
    "La stampa di un array con 3 o più assi richiede stampe ripetute:"
   ]
  },
  {
   "cell_type": "code",
   "execution_count": 15,
   "metadata": {},
   "outputs": [
    {
     "name": "stdout",
     "output_type": "stream",
     "text": [
      "[[[0 0 0 0]\n",
      "  [0 0 0 0]\n",
      "  [0 0 0 0]]\n",
      "\n",
      " [[0 0 0 0]\n",
      "  [0 0 0 0]\n",
      "  [0 0 0 0]]]\n"
     ]
    }
   ],
   "source": [
    "# Crea un array 3D di zeri con shape 2x3x4 ed ogni elemento di tipo intero (con segno) a 16 bit\n",
    "print(np.zeros((2,3,4),dtype=np.int16)) #notate la stampa fatta di 2 matrici 3x4"
   ]
  },
  {
   "cell_type": "code",
   "execution_count": 18,
   "metadata": {},
   "outputs": [
    {
     "name": "stdout",
     "output_type": "stream",
     "text": [
      "[[0.57798644 0.96217855]\n",
      " [0.29942085 0.86041023]]\n"
     ]
    }
   ],
   "source": [
    "# Crea un array 2D di valori casuali (random)\n",
    "print(np.random.random((2,2)))"
   ]
  },
  {
   "cell_type": "code",
   "execution_count": 19,
   "metadata": {},
   "outputs": [
    {
     "name": "stdout",
     "output_type": "stream",
     "text": [
      "[[0. 0.]\n",
      " [0. 0.]\n",
      " [0. 0.]]\n"
     ]
    }
   ],
   "source": [
    "# Crea un array 2D vuoto \n",
    "print(np.empty((3,2)))"
   ]
  },
  {
   "cell_type": "code",
   "execution_count": 20,
   "metadata": {},
   "outputs": [
    {
     "name": "stdout",
     "output_type": "stream",
     "text": [
      "[[7 7]\n",
      " [7 7]]\n"
     ]
    }
   ],
   "source": [
    "# Crea un array 2D pieno con il valore 7 (tutti gli elementi valgono 7)\n",
    "print(np.full((2,2),7))"
   ]
  },
  {
   "cell_type": "code",
   "execution_count": 21,
   "metadata": {},
   "outputs": [
    {
     "name": "stdout",
     "output_type": "stream",
     "text": [
      "[10 15 20 25 30 35 40 45]\n"
     ]
    }
   ],
   "source": [
    "# Crea un array 1D con i valori da 10 a 50 (escluso) con passo 5\n",
    "print(np.arange(10,50,5))"
   ]
  },
  {
   "cell_type": "code",
   "execution_count": 34,
   "metadata": {},
   "outputs": [
    {
     "name": "stdout",
     "output_type": "stream",
     "text": [
      "[0.   0.25 0.5  0.75 1.   1.25 1.5  1.75 2.  ]\n"
     ]
    }
   ],
   "source": [
    "# Crea un array 1D con 9 valori uniformemente spaziati tra 0 e 2 (inclusi)\n",
    "print(np.linspace(0,2,9))"
   ]
  },
  {
   "cell_type": "markdown",
   "metadata": {},
   "source": [
    "## Rappresentazione interna degli array ed i metodi `reshape()` e `flatten()`\n",
    "NumPy rappresenta in memoria gli array usando zone contigue di memoria. Di fatto, l'array viene rappresentato sempre **come un array monodimensionale**, dove le righe vengono scritte una dopo l'altra. Un array di dimensioni (3,4) e un array di dimensioni (2,3,2) sono rappresentati in memoria nella stessa maniera: un array monodimensionale di 12 elementi (12). Per questo motivo, è possibile cambiare facilmente **la shape**  lasciando invariato il numero degli elementi, ovvero la **size**, usando il metodo `reshape()`. Se vogliamo trasformare un array nella sua versione monodimensionale possiamo usare il metodo `flatten()`. Vediamo degli esempi:"
   ]
  },
  {
   "cell_type": "code",
   "execution_count": 39,
   "metadata": {},
   "outputs": [
    {
     "name": "stdout",
     "output_type": "stream",
     "text": [
      "[[0.19608785 0.57427444 0.22051577 0.8164005 ]\n",
      " [0.87629121 0.4274371  0.60690242 0.94974681]\n",
      " [0.05957049 0.67226671 0.11852439 0.5752485 ]]\n"
     ]
    }
   ],
   "source": [
    "a = np.random.random((3,4)) #12 elementi, shape (3,4)\n",
    "print(a)"
   ]
  },
  {
   "cell_type": "code",
   "execution_count": 40,
   "metadata": {},
   "outputs": [
    {
     "name": "stdout",
     "output_type": "stream",
     "text": [
      "[[[0.19608785 0.57427444]\n",
      "  [0.22051577 0.8164005 ]\n",
      "  [0.87629121 0.4274371 ]]\n",
      "\n",
      " [[0.60690242 0.94974681]\n",
      "  [0.05957049 0.67226671]\n",
      "  [0.11852439 0.5752485 ]]]\n"
     ]
    },
    {
     "ename": "ValueError",
     "evalue": "cannot reshape array of size 12 into shape (2,5)",
     "output_type": "error",
     "traceback": [
      "\u001b[1;31m---------------------------------------------------------------------------\u001b[0m",
      "\u001b[1;31mValueError\u001b[0m                                Traceback (most recent call last)",
      "Cell \u001b[1;32mIn[40], line 3\u001b[0m\n\u001b[0;32m      1\u001b[0m b \u001b[38;5;241m=\u001b[39m a\u001b[38;5;241m.\u001b[39mreshape((\u001b[38;5;241m2\u001b[39m,\u001b[38;5;241m3\u001b[39m,\u001b[38;5;241m2\u001b[39m)) \u001b[38;5;66;03m#12 elementi, shape (2,3,2)\u001b[39;00m\n\u001b[0;32m      2\u001b[0m \u001b[38;5;28mprint\u001b[39m(b)\n\u001b[1;32m----> 3\u001b[0m d \u001b[38;5;241m=\u001b[39m \u001b[43ma\u001b[49m\u001b[38;5;241;43m.\u001b[39;49m\u001b[43mreshape\u001b[49m\u001b[43m(\u001b[49m\u001b[43m(\u001b[49m\u001b[38;5;241;43m2\u001b[39;49m\u001b[43m,\u001b[49m\u001b[38;5;241;43m5\u001b[39;49m\u001b[43m)\u001b[49m\u001b[43m)\u001b[49m\n\u001b[0;32m      4\u001b[0m \u001b[38;5;28mprint\u001b[39m(d)\n",
      "\u001b[1;31mValueError\u001b[0m: cannot reshape array of size 12 into shape (2,5)"
     ]
    }
   ],
   "source": [
    "b = a.reshape((2,3,2)) #12 elementi, shape (2,3,2)\n",
    "print(b)\n",
    "d = a.reshape((2,5))\n",
    "print(d)"
   ]
  },
  {
   "cell_type": "code",
   "execution_count": 41,
   "metadata": {},
   "outputs": [
    {
     "name": "stdout",
     "output_type": "stream",
     "text": [
      "[0.19608785 0.57427444 0.22051577 0.8164005  0.87629121 0.4274371\n",
      " 0.60690242 0.94974681 0.05957049 0.67226671 0.11852439 0.5752485 ]\n"
     ]
    }
   ],
   "source": [
    "c = a.flatten() #oppure c = a.reshape((12))\n",
    "print(c)"
   ]
  },
  {
   "cell_type": "markdown",
   "metadata": {},
   "source": [
    "## Attributi, operatori e funzioni della classe ndarray (array)\n",
    "Oltre agli attributi **ndim**, **shape**, e **size**, già introdotti in precedenza, la classe ndarray offre:\n",
    "\n",
    "- **dtype**: il tipo di elementi nella matrice. Si può creare o specificare i tipi usando i tipi standard di Python. Inoltre NumPy fornisce tipi propri: numpy.int32, numpy.int16 e numpy.float64 sono alcuni esempi.\n",
    "- **itemsize**: la dimensione in byte di ciascun elemento dell'array. Ad esempio, un array di elementi di tipo float64 ha itemsize 8 (= 64/8), mentre uno di tipo complex32 ha itemsize 4 (= 32/8). È equivalente a ndarray.dtype.itemsize.\n",
    "\n",
    "- +, \\-, \\*, \\*\\*, \\\\, <, =, > :  operatori che operano su **tutta** la matrice \n"
   ]
  },
  {
   "cell_type": "code",
   "execution_count": 45,
   "metadata": {},
   "outputs": [
    {
     "name": "stdout",
     "output_type": "stream",
     "text": [
      "dtype= int32\n",
      "dtype= float64\n",
      "[[1.+0.j 2.+0.j]\n",
      " [3.+0.j 4.+0.j]]\n",
      "dtype= complex128\n"
     ]
    }
   ],
   "source": [
    "a = np.array ([2,3,4])\n",
    "print('dtype=',a.dtype)\n",
    "b = np.array ([1.2, 3.5, 5.1])\n",
    "print('dtype=',b.dtype)\n",
    "c = np.array([[1,2], [3,4]], dtype = complex)\n",
    "print(c)\n",
    "print('dtype=',c.dtype)"
   ]
  },
  {
   "cell_type": "markdown",
   "metadata": {},
   "source": [
    "### Operazioni di base\n",
    "Gli operatori aritmetici sugli array si applicano a tutti gli elementi. Di regola, un nuovo array viene creato e riempito con il risultato."
   ]
  },
  {
   "cell_type": "code",
   "execution_count": 46,
   "metadata": {},
   "outputs": [
    {
     "name": "stdout",
     "output_type": "stream",
     "text": [
      "[16 26 36 46]\n",
      "\n",
      "a*7= [140 210 280 350]\n",
      "a*b= [ 80 120 160 200]\n"
     ]
    }
   ],
   "source": [
    "a = np.array ([20,30,40,50])\n",
    "b = np.array ([4,4,4,4])\n",
    "c = a-b\n",
    "print(c)\n",
    "print()\n",
    "print('a*7=',a*7)\n",
    "print('a*b=',a*b)"
   ]
  },
  {
   "cell_type": "code",
   "execution_count": 47,
   "metadata": {},
   "outputs": [
    {
     "name": "stdout",
     "output_type": "stream",
     "text": [
      "[16 16 16 16]\n",
      "[ 0.91294525 -0.98803162  0.74511316 -0.26237485]\n"
     ]
    }
   ],
   "source": [
    "print(b**2)\n",
    "print(np.sin(a))"
   ]
  },
  {
   "cell_type": "code",
   "execution_count": 48,
   "metadata": {},
   "outputs": [
    {
     "name": "stdout",
     "output_type": "stream",
     "text": [
      "[20 30 40 50]\n",
      "[ True  True False False]\n"
     ]
    }
   ],
   "source": [
    "print(a)\n",
    "print(a < 35)"
   ]
  },
  {
   "cell_type": "markdown",
   "metadata": {},
   "source": [
    "N.B. A differenza di molti linguaggi a matrice, l'operatore del prodotto * opera elemento per elemento negli array NumPy, cioè moltiplica gli elementi nella stessa posizione dei 2 arrays, che devono avere le stesse dimensioni. Il prodotto tra matrici può essere eseguito utilizzando l'operatore @ (in python> = 3.5) o il metodo dot()"
   ]
  },
  {
   "cell_type": "code",
   "execution_count": 49,
   "metadata": {},
   "outputs": [
    {
     "name": "stdout",
     "output_type": "stream",
     "text": [
      "[[2 0]\n",
      " [0 4]]\n",
      "[[5 4]\n",
      " [3 4]]\n",
      "[[5 4]\n",
      " [3 4]]\n"
     ]
    }
   ],
   "source": [
    "A = np.array([[1,1],\n",
    "              [0,1]]) \n",
    "B = np.array ([[2,0],\n",
    "               [3,4]])\n",
    "print(A * B) # è il prodotto elemento per elemento\n",
    "print(A @ B) # è il prodotto tra matrici\n",
    "print(A.dot(B)) # un altro prodotto tra matrici\n",
    "  \n",
    "# A @ B =     [1,1]   [2,0]      [1*2+1*3, 1*0+1*4]     [5,4]\n",
    "#             [0,1]   [3,4]      [0*2+1*3, 0*0+1*4]     [3,4]"
   ]
  },
  {
   "cell_type": "markdown",
   "metadata": {},
   "source": [
    "Alcune operazioni, come += e \\*=, agiscono per modificare un array esistente anziché crearne uno nuovo."
   ]
  },
  {
   "cell_type": "code",
   "execution_count": 50,
   "metadata": {},
   "outputs": [
    {
     "name": "stdout",
     "output_type": "stream",
     "text": [
      "[[1 1 1]\n",
      " [1 1 1]]\n",
      "[[3 3 3]\n",
      " [3 3 3]]\n"
     ]
    }
   ],
   "source": [
    "a = np.ones((2,3), dtype = int)\n",
    "print(a)\n",
    "\n",
    "a *= 3\n",
    "print(a)"
   ]
  },
  {
   "cell_type": "markdown",
   "metadata": {},
   "source": [
    "Molte operazioni unarie, come calcolare la somma di tutti gli elementi dell'array, sono implementate come metodi della classe ndarray."
   ]
  },
  {
   "cell_type": "code",
   "execution_count": 54,
   "metadata": {},
   "outputs": [
    {
     "name": "stdout",
     "output_type": "stream",
     "text": [
      "[[0.92966586 0.65325584 0.66648273]\n",
      " [0.87965018 0.72267336 0.01079827]]\n",
      "sum= 3.862526240489123\n",
      "a+a= [[1.85933172 1.30651168 1.33296547]\n",
      " [1.75930035 1.44534672 0.02159655]]\n",
      "min= 0.010798274028666732\n",
      "max= 0.9296658594162184\n"
     ]
    }
   ],
   "source": [
    "a = np.random.random((2,3))\n",
    "print(a)\n",
    "print('sum=',a.sum())\n",
    "print('a+a=',a+a)\n",
    "print('min=',a.min())\n",
    "print('max=',a.max())"
   ]
  },
  {
   "cell_type": "code",
   "execution_count": 57,
   "metadata": {},
   "outputs": [
    {
     "name": "stdout",
     "output_type": "stream",
     "text": [
      "a= [[0.41674604 0.80452116 0.42675276]\n",
      " [0.48897789 0.00931901 0.6015321 ]]\n",
      "b= [0.46503017 0.68363798 0.9998155  0.65427169 0.5920402  0.90380766\n",
      " 0.92539217 0.86991664 0.37889761 0.84823625]\n",
      "argmax_b 2\n",
      "argmin_b 8\n",
      "argmax_a 1\n",
      "argmin_a 4\n"
     ]
    }
   ],
   "source": [
    "a = np.random.random((2,3))\n",
    "print('a=',a)\n",
    "b = np.random.random(10)\n",
    "print('b=',b)\n",
    "\n",
    "# per trovare l'indice in cui si trova il massimo (od il minimo) si può usare\n",
    "# la funzione (NON METODO) argmax (argmin). Se l'array è monodimensionale restituisce\n",
    "# l'indice, altrimenti restituisce l'indice dell'array flat (appiattito) in cui tutte\n",
    "# le righe sono messe di seguito. In caso di più elementi pari al massimo (o minimo) \n",
    "# argmax restituisce l'indice più piccolo fra tutti quelli \n",
    "\n",
    "print('argmax_b',np.argmax(b))\n",
    "print('argmin_b',np.argmin(b))\n",
    "\n",
    "print('argmax_a',np.argmax(a)) #di [0.96961376 0.9839157  0.36553127 0.2911096  0.92764884 0.62635703]\n",
    "print('argmin_a',np.argmin(a)) #di [0.96961376 0.9839157  0.36553127 0.2911096  0.92764884 0.62635703]"
   ]
  },
  {
   "cell_type": "markdown",
   "metadata": {},
   "source": [
    "Per impostazione predefinita, queste operazioni si applicano all'array come se fosse un elenco di numeri, indipendentemente dalla sua forma. Tuttavia, specificando il parametro axis è possibile applicare un'operazione lungo l'asse specificato di un array:"
   ]
  },
  {
   "cell_type": "code",
   "execution_count": 60,
   "metadata": {},
   "outputs": [
    {
     "name": "stdout",
     "output_type": "stream",
     "text": [
      "a= [[0.72118327 0.34176791 0.36502927]\n",
      " [0.89727663 0.70382622 0.68914432]]\n",
      "\n",
      "somma delle colonne= [1.6184599  1.04559412 1.05417359]\n",
      "\n",
      "somma delle righe= [1.42798045 2.29024717]\n"
     ]
    }
   ],
   "source": [
    "a = np.random.random((2,3))\n",
    "print('a=',a)\n",
    "print()\n",
    "# somma di ogni colonna, restituisce un array con una dimensione in meno\n",
    "print('somma delle colonne=', a.sum(axis = 0))\n",
    "print()\n",
    "print('somma delle righe=', a.sum(axis = 1))"
   ]
  },
  {
   "cell_type": "code",
   "execution_count": 61,
   "metadata": {},
   "outputs": [
    {
     "name": "stdout",
     "output_type": "stream",
     "text": [
      "[[0.37458253 0.16183428]\n",
      " [0.90171862 0.99709906]\n",
      " [0.36436481 0.3275578 ]]\n",
      "\n",
      "Minimo lungo l'asse 0: [0.36436481 0.16183428]\n",
      "Minimo lungo l'asse 1: [0.16183428 0.90171862 0.3275578 ]\n"
     ]
    }
   ],
   "source": [
    "# min di ogni riga, restituisce un array con una dimensione in meno\n",
    "b = np.random.random((3,2))\n",
    "print(b)\n",
    "print()\n",
    "print('Minimo lungo l\\'asse 0:',b.min(axis = 0))    #colonne\n",
    "print('Minimo lungo l\\'asse 1:',b.min(axis = 1))    #righe"
   ]
  },
  {
   "cell_type": "code",
   "execution_count": 64,
   "metadata": {},
   "outputs": [
    {
     "name": "stdout",
     "output_type": "stream",
     "text": [
      "[[0.37458253 0.16183428]\n",
      " [0.90171862 0.99709906]\n",
      " [0.36436481 0.3275578 ]]\n",
      "\n",
      "Somma cumulativa lungo l'asse 0:\n",
      " [[0.37458253 0.16183428]\n",
      " [1.27630115 1.15893335]\n",
      " [1.64066596 1.48649115]]\n",
      "\n",
      "Minimo lungo l'asse 1:\n",
      " [[0.37458253 0.53641681]\n",
      " [0.90171862 1.89881769]\n",
      " [0.36436481 0.69192261]]\n"
     ]
    }
   ],
   "source": [
    "# somma cumulativa lungo ogni asse\n",
    "print(b)\n",
    "print()\n",
    "print('Somma cumulativa lungo l\\'asse 0:\\n',b.cumsum(axis = 0))\n",
    "print()\n",
    "print('Minimo lungo l\\'asse 1:\\n',b.cumsum(axis = 1))"
   ]
  },
  {
   "cell_type": "markdown",
   "metadata": {},
   "source": [
    "## Indicizzazione, slicing e iterazione\n",
    "Le matrici multidimensionali possono essere indicizzate, suddivise e ripetute, in modo simile alle liste e ad altre sequenze di Python, ma anche **contemporaneamente** su più assi usando la notazione semplificata. Attraverso lo slicing si può, ad esempio, estrarre una colonna della matrice od anche le colonne dispari. Vediamo alcuni esempi."
   ]
  },
  {
   "cell_type": "code",
   "execution_count": 65,
   "metadata": {},
   "outputs": [
    {
     "name": "stdout",
     "output_type": "stream",
     "text": [
      "[0 1 2 3 4 5 6 7 8]\n"
     ]
    }
   ],
   "source": [
    "b = np.arange(9) #crea array 1D di 9 elementi da (ovvero con tutti gli interi da 0 a 9, con passo 1)\n",
    "print(b)"
   ]
  },
  {
   "cell_type": "code",
   "execution_count": 66,
   "metadata": {},
   "outputs": [
    {
     "name": "stdout",
     "output_type": "stream",
     "text": [
      "2\n",
      "[1 3 5 7]\n"
     ]
    }
   ],
   "source": [
    "print(b[2])      # stampa l'elemento di indice 2\n",
    "print(b[1:8:2])  # da indice 1 a indice 8 (escluso) passo 2 "
   ]
  },
  {
   "cell_type": "code",
   "execution_count": 70,
   "metadata": {},
   "outputs": [
    {
     "name": "stdout",
     "output_type": "stream",
     "text": [
      "[ 0  1  2  3  4  5  6  7  8  9 10 11]\n",
      "(12,)\n",
      "[11 10  9  8  7  6  5  4  3  2  1  0]\n"
     ]
    }
   ],
   "source": [
    "b = np.arange(12) #crea array 1D di 12 elementi\n",
    "print(b)\n",
    "d=b[::-1] #restituisce un array 1D invertendo il contenuto di b\n",
    "\n",
    "print(d.shape)  #indica quanti elementi ha l'array\n",
    "print(d)"
   ]
  },
  {
   "cell_type": "code",
   "execution_count": 71,
   "metadata": {},
   "outputs": [
    {
     "name": "stdout",
     "output_type": "stream",
     "text": [
      "[[ 0  1  2  3  4]\n",
      " [ 5  6  7  8  9]\n",
      " [10 11 12 13 14]\n",
      " [15 16 17 18 19]]\n"
     ]
    }
   ],
   "source": [
    "# Consideriamo ora un caso a 2D \n",
    "\n",
    "c = np.arange(20).reshape(4,5) #crea array 4x5 da un array 1D di 20 elementi\n",
    "print(c)"
   ]
  },
  {
   "cell_type": "code",
   "execution_count": 79,
   "metadata": {},
   "outputs": [
    {
     "name": "stdout",
     "output_type": "stream",
     "text": [
      "l'elemento in posizione 2,3 è 13\n",
      "[[ 5  6  7  8  9]\n",
      " [15 16 17 18 19]]\n"
     ]
    }
   ],
   "source": [
    "print('l\\'elemento in posizione 2,3 è',c[2,3]) # stampa l'elemento di indice 2, 3\n",
    "print(c[1:4:2,:]) # stampa per le righe 1 e 3, tutte le colonne (la virgola separa la parte delle righe da quello delle colonne)\n",
    "                  # righe=(1:4:2) 2 indica il passo\n",
    "                  # colonne=(:)"
   ]
  },
  {
   "cell_type": "code",
   "execution_count": 80,
   "metadata": {},
   "outputs": [
    {
     "name": "stdout",
     "output_type": "stream",
     "text": [
      "[[ 0  1  2  3  4]\n",
      " [ 5  6  7  8  9]\n",
      " [10 11 12 13 14]\n",
      " [15 16 17 18 19]]\n",
      "\n",
      "[[0 1 2]\n",
      " [5 6 7]]\n"
     ]
    }
   ],
   "source": [
    "print(c)\n",
    "print()\n",
    "print(c[0:2,0:3]) # seleziona e stampa le righe 0 e 1 e le colonne 0, 1, e 2"
   ]
  },
  {
   "cell_type": "code",
   "execution_count": 81,
   "metadata": {},
   "outputs": [
    {
     "name": "stdout",
     "output_type": "stream",
     "text": [
      "[[ 0  1  2  3  4]\n",
      " [ 5  6  7  8  9]\n",
      " [10 11 12 13 14]\n",
      " [15 16 17 18 19]]\n",
      "\n",
      "[[ 6  7  8]\n",
      " [11 12 13]]\n"
     ]
    }
   ],
   "source": [
    "print(c)\n",
    "print()\n",
    "print(c[1:3,1:4]) # seleziona e stampa le righe 1 e 2 e le colonne 1, 2 e 3"
   ]
  },
  {
   "cell_type": "code",
   "execution_count": 82,
   "metadata": {},
   "outputs": [
    {
     "name": "stdout",
     "output_type": "stream",
     "text": [
      "[[ 0  1  2  3  4]\n",
      " [ 5  6  7  8  9]\n",
      " [10 11 12 13 14]\n",
      " [15 16 17 18 19]]\n",
      "\n",
      "[[ 0  2  4]\n",
      " [ 5  7  9]\n",
      " [10 12 14]\n",
      " [15 17 19]]\n"
     ]
    }
   ],
   "source": [
    "print(c)\n",
    "print()\n",
    "print(c[:,::2]) # seleziona e stampa le colonne pari"
   ]
  },
  {
   "cell_type": "code",
   "execution_count": 87,
   "metadata": {},
   "outputs": [
    {
     "name": "stdout",
     "output_type": "stream",
     "text": [
      "[[ 0  1  2  3  4]\n",
      " [ 5  6  7  8  9]\n",
      " [10 11 12 13 14]\n",
      " [15 16 17 18 19]]\n",
      "\n",
      "la dimensione dell'array c[:,2:3] è (4, 1)\n",
      "il suo tipo è int32\n",
      "[[ 2]\n",
      " [ 7]\n",
      " [12]\n",
      " [17]]\n",
      "la dimensione dell'array c[:,2] è (4,)\n",
      "il suo tipo è int32\n",
      "[ 2  7 12 17]\n"
     ]
    }
   ],
   "source": [
    "print(c)\n",
    "print()\n",
    "d=c[:,2:3] #seleziona la colonna 2\n",
    "print('la dimensione dell\\'array c[:,2:3] è', d.shape)\n",
    "print('il suo tipo è',d.dtype)\n",
    "print(d)\n",
    "e=c[:,2]\n",
    "print('la dimensione dell\\'array c[:,2] è', e.shape)\n",
    "print('il suo tipo è',e.dtype)\n",
    "print(e)"
   ]
  },
  {
   "cell_type": "code",
   "execution_count": 88,
   "metadata": {},
   "outputs": [
    {
     "name": "stdout",
     "output_type": "stream",
     "text": [
      "b= [0 1 2 3]\n",
      "\n",
      "0\n",
      "1\n",
      "4\n",
      "9\n"
     ]
    }
   ],
   "source": [
    "# Vediamo ora degli esempi di iterazioni  con la print()\n",
    "b = np.arange(4) #crea array 1D di 4 elementi\n",
    "print('b=',b)\n",
    "print()\n",
    "for elem in b:\n",
    "    print(elem ** 2) # calcola il quadrato degli elementi di b e stampa ciascun valore su una riga diversa"
   ]
  },
  {
   "cell_type": "code",
   "execution_count": 93,
   "metadata": {},
   "outputs": [
    {
     "name": "stdout",
     "output_type": "stream",
     "text": [
      "[[0 1 2]\n",
      " [3 4 5]]\n",
      "\n",
      "c[0]= [0 1 2]\n",
      "\n",
      "[0 1 4]\n",
      "[ 9 16 25]\n"
     ]
    }
   ],
   "source": [
    "c = np.arange(6).reshape(2,3) #crea array 2x3 da un array 1D di 6 elementi\n",
    "print(c)\n",
    "print()\n",
    "print('c[0]=',c[0])\n",
    "print()\n",
    "for riga in c:\n",
    "    print(riga ** 2) # calcola, riga per riga, il quadrato degli elementi"
   ]
  },
  {
   "cell_type": "code",
   "execution_count": 94,
   "metadata": {},
   "outputs": [
    {
     "name": "stdout",
     "output_type": "stream",
     "text": [
      "0\n",
      "1\n",
      "2\n",
      "3\n",
      "4\n",
      "5\n"
     ]
    }
   ],
   "source": [
    "for i in range(c.shape[0]):    # stampa ciascun valore di c su una riga diversa\n",
    "    for j in range(c.shape[1]):\n",
    "        print(c[i,j]) "
   ]
  },
  {
   "cell_type": "code",
   "execution_count": 95,
   "metadata": {
    "tags": []
   },
   "outputs": [
    {
     "name": "stdout",
     "output_type": "stream",
     "text": [
      "0\n",
      "1\n",
      "2\n",
      "3\n",
      "4\n",
      "5\n"
     ]
    }
   ],
   "source": [
    "for riga in c:    # versione alternativa che itera sugli elementi e non sugli indici\n",
    "    for elem in riga:\n",
    "        print(elem)"
   ]
  },
  {
   "cell_type": "markdown",
   "metadata": {
    "tags": []
   },
   "source": [
    "## Lettura di un array da file\n",
    "NumPy offre il metodo loadtxt() per leggere un file nel seguente formato:\n",
    "\n",
    "`numero`<sub>1,1</sub> `numero`<sub>1,2</sub> `numero`<sub>1,3</sub> .... `numero`<sub>1,n</sub>\n",
    "\n",
    "`numero`<sub>2,1</sub> `numero`<sub>2,2</sub> `numero`<sub>2,3</sub> .... `numero`<sub>2,n</sub>\n",
    "........\n",
    "\n",
    "`numero`<sub>m,1</sub> `numero`<sub>m,2</sub> `numero`<sub>m,3</sub> .... `numero`<sub>m,n</sub>\n",
    "\n",
    "e restituisce un `nd.array` 2D con tutti i valori contenuti nel file."
   ]
  },
  {
   "cell_type": "code",
   "execution_count": 96,
   "metadata": {},
   "outputs": [
    {
     "name": "stdout",
     "output_type": "stream",
     "text": [
      "[[ 0.5  10.2   3.5   2.3   3.1  -1.33]\n",
      " [ 0.5  11.2  -3.5   1.3   3.1  -2.33]\n",
      " [ 1.5   1.2   3.75 -2.3   3.1  -1.33]]\n"
     ]
    }
   ],
   "source": [
    "print(np.loadtxt(\"array1.txt\"))"
   ]
  },
  {
   "cell_type": "markdown",
   "metadata": {},
   "source": [
    "Se il file contiene una sola riga, viene restituito un array 1D"
   ]
  },
  {
   "cell_type": "code",
   "execution_count": 97,
   "metadata": {
    "tags": []
   },
   "outputs": [
    {
     "name": "stdout",
     "output_type": "stream",
     "text": [
      "[ 0.5  10.2   3.4   2.3   3.1  -1.33]\n"
     ]
    }
   ],
   "source": [
    "print(np.loadtxt(\"array2.txt\"))"
   ]
  },
  {
   "cell_type": "markdown",
   "metadata": {},
   "source": [
    "Se il file non contiene lo stesso numero di colonne in ogni riga, la lettura va in errore:"
   ]
  },
  {
   "cell_type": "code",
   "execution_count": 98,
   "metadata": {},
   "outputs": [
    {
     "ename": "ValueError",
     "evalue": "the number of columns changed from 6 to 5 at row 3; use `usecols` to select a subset and avoid this error",
     "output_type": "error",
     "traceback": [
      "\u001b[1;31m---------------------------------------------------------------------------\u001b[0m",
      "\u001b[1;31mValueError\u001b[0m                                Traceback (most recent call last)",
      "Cell \u001b[1;32mIn[98], line 1\u001b[0m\n\u001b[1;32m----> 1\u001b[0m \u001b[38;5;28mprint\u001b[39m(\u001b[43mnp\u001b[49m\u001b[38;5;241;43m.\u001b[39;49m\u001b[43mloadtxt\u001b[49m\u001b[43m(\u001b[49m\u001b[38;5;124;43m\"\u001b[39;49m\u001b[38;5;124;43marray3.txt\u001b[39;49m\u001b[38;5;124;43m\"\u001b[39;49m\u001b[43m)\u001b[49m)\n",
      "File \u001b[1;32mc:\\Users\\campe\\AppData\\Local\\Programs\\Python\\Python312\\Lib\\site-packages\\numpy\\lib\\npyio.py:1373\u001b[0m, in \u001b[0;36mloadtxt\u001b[1;34m(fname, dtype, comments, delimiter, converters, skiprows, usecols, unpack, ndmin, encoding, max_rows, quotechar, like)\u001b[0m\n\u001b[0;32m   1370\u001b[0m \u001b[38;5;28;01mif\u001b[39;00m \u001b[38;5;28misinstance\u001b[39m(delimiter, \u001b[38;5;28mbytes\u001b[39m):\n\u001b[0;32m   1371\u001b[0m     delimiter \u001b[38;5;241m=\u001b[39m delimiter\u001b[38;5;241m.\u001b[39mdecode(\u001b[38;5;124m'\u001b[39m\u001b[38;5;124mlatin1\u001b[39m\u001b[38;5;124m'\u001b[39m)\n\u001b[1;32m-> 1373\u001b[0m arr \u001b[38;5;241m=\u001b[39m \u001b[43m_read\u001b[49m\u001b[43m(\u001b[49m\u001b[43mfname\u001b[49m\u001b[43m,\u001b[49m\u001b[43m \u001b[49m\u001b[43mdtype\u001b[49m\u001b[38;5;241;43m=\u001b[39;49m\u001b[43mdtype\u001b[49m\u001b[43m,\u001b[49m\u001b[43m \u001b[49m\u001b[43mcomment\u001b[49m\u001b[38;5;241;43m=\u001b[39;49m\u001b[43mcomment\u001b[49m\u001b[43m,\u001b[49m\u001b[43m \u001b[49m\u001b[43mdelimiter\u001b[49m\u001b[38;5;241;43m=\u001b[39;49m\u001b[43mdelimiter\u001b[49m\u001b[43m,\u001b[49m\n\u001b[0;32m   1374\u001b[0m \u001b[43m            \u001b[49m\u001b[43mconverters\u001b[49m\u001b[38;5;241;43m=\u001b[39;49m\u001b[43mconverters\u001b[49m\u001b[43m,\u001b[49m\u001b[43m \u001b[49m\u001b[43mskiplines\u001b[49m\u001b[38;5;241;43m=\u001b[39;49m\u001b[43mskiprows\u001b[49m\u001b[43m,\u001b[49m\u001b[43m \u001b[49m\u001b[43musecols\u001b[49m\u001b[38;5;241;43m=\u001b[39;49m\u001b[43musecols\u001b[49m\u001b[43m,\u001b[49m\n\u001b[0;32m   1375\u001b[0m \u001b[43m            \u001b[49m\u001b[43munpack\u001b[49m\u001b[38;5;241;43m=\u001b[39;49m\u001b[43munpack\u001b[49m\u001b[43m,\u001b[49m\u001b[43m \u001b[49m\u001b[43mndmin\u001b[49m\u001b[38;5;241;43m=\u001b[39;49m\u001b[43mndmin\u001b[49m\u001b[43m,\u001b[49m\u001b[43m \u001b[49m\u001b[43mencoding\u001b[49m\u001b[38;5;241;43m=\u001b[39;49m\u001b[43mencoding\u001b[49m\u001b[43m,\u001b[49m\n\u001b[0;32m   1376\u001b[0m \u001b[43m            \u001b[49m\u001b[43mmax_rows\u001b[49m\u001b[38;5;241;43m=\u001b[39;49m\u001b[43mmax_rows\u001b[49m\u001b[43m,\u001b[49m\u001b[43m \u001b[49m\u001b[43mquote\u001b[49m\u001b[38;5;241;43m=\u001b[39;49m\u001b[43mquotechar\u001b[49m\u001b[43m)\u001b[49m\n\u001b[0;32m   1378\u001b[0m \u001b[38;5;28;01mreturn\u001b[39;00m arr\n",
      "File \u001b[1;32mc:\\Users\\campe\\AppData\\Local\\Programs\\Python\\Python312\\Lib\\site-packages\\numpy\\lib\\npyio.py:1016\u001b[0m, in \u001b[0;36m_read\u001b[1;34m(fname, delimiter, comment, quote, imaginary_unit, usecols, skiplines, max_rows, converters, ndmin, unpack, dtype, encoding)\u001b[0m\n\u001b[0;32m   1013\u001b[0m     data \u001b[38;5;241m=\u001b[39m _preprocess_comments(data, comments, encoding)\n\u001b[0;32m   1015\u001b[0m \u001b[38;5;28;01mif\u001b[39;00m read_dtype_via_object_chunks \u001b[38;5;129;01mis\u001b[39;00m \u001b[38;5;28;01mNone\u001b[39;00m:\n\u001b[1;32m-> 1016\u001b[0m     arr \u001b[38;5;241m=\u001b[39m \u001b[43m_load_from_filelike\u001b[49m\u001b[43m(\u001b[49m\n\u001b[0;32m   1017\u001b[0m \u001b[43m        \u001b[49m\u001b[43mdata\u001b[49m\u001b[43m,\u001b[49m\u001b[43m \u001b[49m\u001b[43mdelimiter\u001b[49m\u001b[38;5;241;43m=\u001b[39;49m\u001b[43mdelimiter\u001b[49m\u001b[43m,\u001b[49m\u001b[43m \u001b[49m\u001b[43mcomment\u001b[49m\u001b[38;5;241;43m=\u001b[39;49m\u001b[43mcomment\u001b[49m\u001b[43m,\u001b[49m\u001b[43m \u001b[49m\u001b[43mquote\u001b[49m\u001b[38;5;241;43m=\u001b[39;49m\u001b[43mquote\u001b[49m\u001b[43m,\u001b[49m\n\u001b[0;32m   1018\u001b[0m \u001b[43m        \u001b[49m\u001b[43mimaginary_unit\u001b[49m\u001b[38;5;241;43m=\u001b[39;49m\u001b[43mimaginary_unit\u001b[49m\u001b[43m,\u001b[49m\n\u001b[0;32m   1019\u001b[0m \u001b[43m        \u001b[49m\u001b[43musecols\u001b[49m\u001b[38;5;241;43m=\u001b[39;49m\u001b[43musecols\u001b[49m\u001b[43m,\u001b[49m\u001b[43m \u001b[49m\u001b[43mskiplines\u001b[49m\u001b[38;5;241;43m=\u001b[39;49m\u001b[43mskiplines\u001b[49m\u001b[43m,\u001b[49m\u001b[43m \u001b[49m\u001b[43mmax_rows\u001b[49m\u001b[38;5;241;43m=\u001b[39;49m\u001b[43mmax_rows\u001b[49m\u001b[43m,\u001b[49m\n\u001b[0;32m   1020\u001b[0m \u001b[43m        \u001b[49m\u001b[43mconverters\u001b[49m\u001b[38;5;241;43m=\u001b[39;49m\u001b[43mconverters\u001b[49m\u001b[43m,\u001b[49m\u001b[43m \u001b[49m\u001b[43mdtype\u001b[49m\u001b[38;5;241;43m=\u001b[39;49m\u001b[43mdtype\u001b[49m\u001b[43m,\u001b[49m\n\u001b[0;32m   1021\u001b[0m \u001b[43m        \u001b[49m\u001b[43mencoding\u001b[49m\u001b[38;5;241;43m=\u001b[39;49m\u001b[43mencoding\u001b[49m\u001b[43m,\u001b[49m\u001b[43m \u001b[49m\u001b[43mfilelike\u001b[49m\u001b[38;5;241;43m=\u001b[39;49m\u001b[43mfilelike\u001b[49m\u001b[43m,\u001b[49m\n\u001b[0;32m   1022\u001b[0m \u001b[43m        \u001b[49m\u001b[43mbyte_converters\u001b[49m\u001b[38;5;241;43m=\u001b[39;49m\u001b[43mbyte_converters\u001b[49m\u001b[43m)\u001b[49m\n\u001b[0;32m   1024\u001b[0m \u001b[38;5;28;01melse\u001b[39;00m:\n\u001b[0;32m   1025\u001b[0m     \u001b[38;5;66;03m# This branch reads the file into chunks of object arrays and then\u001b[39;00m\n\u001b[0;32m   1026\u001b[0m     \u001b[38;5;66;03m# casts them to the desired actual dtype.  This ensures correct\u001b[39;00m\n\u001b[0;32m   1027\u001b[0m     \u001b[38;5;66;03m# string-length and datetime-unit discovery (like `arr.astype()`).\u001b[39;00m\n\u001b[0;32m   1028\u001b[0m     \u001b[38;5;66;03m# Due to chunking, certain error reports are less clear, currently.\u001b[39;00m\n\u001b[0;32m   1029\u001b[0m     \u001b[38;5;28;01mif\u001b[39;00m filelike:\n",
      "\u001b[1;31mValueError\u001b[0m: the number of columns changed from 6 to 5 at row 3; use `usecols` to select a subset and avoid this error"
     ]
    }
   ],
   "source": [
    "print(np.loadtxt(\"array3.txt\"))"
   ]
  },
  {
   "cell_type": "markdown",
   "metadata": {
    "tags": []
   },
   "source": [
    "### lettura da file csv\n",
    "Se il file invece di avere lo spazio come separatore ha la ',' (o un altro separatore), basta specificare quale è il delimitatore (delimiter)"
   ]
  },
  {
   "cell_type": "code",
   "execution_count": 99,
   "metadata": {
    "tags": []
   },
   "outputs": [
    {
     "name": "stdout",
     "output_type": "stream",
     "text": [
      "[[ 0.5  10.2   3.5   2.3   3.1  -1.33]\n",
      " [ 0.5  10.2   3.5   2.3   3.1  -1.33]\n",
      " [ 0.5  10.2   3.5   2.3   3.1  -1.33]]\n"
     ]
    }
   ],
   "source": [
    "print(np.loadtxt(\"array1.csv\", delimiter = ','))"
   ]
  },
  {
   "cell_type": "markdown",
   "metadata": {},
   "source": [
    "## Esercizi su matrici come NumPy array\n",
    "\n",
    "1. Esercizio: Ricerca dell'elemento massimo: Funzione che prende in input una matrice e restituisce il valore massimo presente; assume che la matrice non sia vuota. \n",
    "2. Esercizio: Ricerca della riga a somma massima: Funzione che prende in input una matrice e restituisce l'indice della riga di somma massima presente; assume che la matrice non sia vuota e che nel caso ci siano più righe di somma massima la funzione restituisca la riga con indice minore.\n",
    "3. Esercizio: Somma di matrici (stessa dimensione).\n",
    "4. Esercizio: Prodotto di matrici (dimensioni compatibili)."
   ]
  },
  {
   "cell_type": "code",
   "execution_count": 100,
   "metadata": {},
   "outputs": [
    {
     "name": "stdout",
     "output_type": "stream",
     "text": [
      "[[0.56651958 0.24470832 0.50843894]\n",
      " [0.46746988 0.56398491 0.84503163]\n",
      " [0.99059681 0.17600973 0.91187859]\n",
      " [0.40811876 0.56645412 0.83765312]]\n",
      "\n",
      "[[0.12157779 0.34970613 0.1328542 ]\n",
      " [0.95273868 0.68509803 0.75339369]\n",
      " [0.81062855 0.48528743 0.34872088]\n",
      " [0.8499591  0.5197259  0.02645752]]\n",
      "\n",
      "[[0.42752976 0.96345793 0.05100826 0.80541655]\n",
      " [0.66478268 0.86215975 0.97893286 0.69183664]\n",
      " [0.74167964 0.01415158 0.34691716 0.44433635]]\n",
      "\n"
     ]
    }
   ],
   "source": [
    "# Creiamo 2 matrici 4x3 a e b ed una matrice c 3x4, tutte con numeri random\n",
    "a = np.random.random((4,3))\n",
    "b = np.random.random((4,3))\n",
    "c = np.random.random((3,4))\n",
    "print(a)\n",
    "print()\n",
    "print(b)\n",
    "print()\n",
    "print(c)\n",
    "print()"
   ]
  },
  {
   "cell_type": "code",
   "execution_count": 101,
   "metadata": {},
   "outputs": [
    {
     "name": "stdout",
     "output_type": "stream",
     "text": [
      "[[0.56651958 0.24470832 0.50843894]\n",
      " [0.46746988 0.56398491 0.84503163]\n",
      " [0.99059681 0.17600973 0.91187859]\n",
      " [0.40811876 0.56645412 0.83765312]]\n",
      "0.9905968147118269\n"
     ]
    }
   ],
   "source": [
    "# Esercizio 1: basta usare la funzione np.max()\n",
    "print(a)\n",
    "print(np.max(a))"
   ]
  },
  {
   "cell_type": "code",
   "execution_count": 102,
   "metadata": {},
   "outputs": [
    {
     "name": "stdout",
     "output_type": "stream",
     "text": [
      "[[0.56651958 0.24470832 0.50843894]\n",
      " [0.46746988 0.56398491 0.84503163]\n",
      " [0.99059681 0.17600973 0.91187859]\n",
      " [0.40811876 0.56645412 0.83765312]]\n",
      "[1.31966684 1.87648641 2.07848513 1.81222601]\n",
      "2\n"
     ]
    }
   ],
   "source": [
    "# Esercizio 2: Scansiona le righe e trova il massimo\n",
    "print(a)\n",
    "sommarighe = np.sum(a,axis=1) #calcolo il vettore somma delle righe\n",
    "print(sommarighe)\n",
    "\n",
    "print(np.argmax(sommarighe)) #restituisco l'indice dell'elemento massimo"
   ]
  },
  {
   "cell_type": "code",
   "execution_count": 103,
   "metadata": {},
   "outputs": [
    {
     "name": "stdout",
     "output_type": "stream",
     "text": [
      "[[0.68809737 0.59441445 0.64129314]\n",
      " [1.42020856 1.24908293 1.59842532]\n",
      " [1.80122537 0.66129716 1.26059947]\n",
      " [1.25807786 1.08618002 0.86411064]]\n"
     ]
    }
   ],
   "source": [
    "# Esercizio 3: basta usare l'operatore +\n",
    "print(a+b) # Il risultato ha le stesse dimensioni di a e b"
   ]
  },
  {
   "cell_type": "code",
   "execution_count": 104,
   "metadata": {},
   "outputs": [
    {
     "name": "stdout",
     "output_type": "stream",
     "text": [
      "[[0.78198064 0.76399066 0.44483638 0.85150033]\n",
      " [1.20152744 0.94859118 0.86910416 1.14217167]\n",
      " [1.21683962 1.11905139 0.53917666 1.32479385]\n",
      " [1.17232207 0.89343332 0.86593423 1.09279906]]\n"
     ]
    }
   ],
   "source": [
    "# Esercizio 4: basta usare l'operatore @\n",
    "print(a@c) # Poiché a è 4x3 e c 3x4 il risultato è un array 4x4"
   ]
  },
  {
   "cell_type": "markdown",
   "metadata": {},
   "source": [
    "#### Esercizio: calcolo del più grande punto di sella\n",
    "Scrivere una funzione che prende in input un array bidimensionale **a** e restituisce (se esiste) la tupla (i,j) della posizione del più grande punto di sella presente nell'array. Se non esiste deve restituire la tupla (-1,-1). Si definisce *punto di sella (i,j)* una posizione tale che a\\[i,j\\] è il **minimo valore della riga i** e il **massimo valore della colonna j** o viceversa. Assumete, per semplicità, che ogni riga e ogni colonna abbia uno e un solo massimo e minimo."
   ]
  },
  {
   "cell_type": "code",
   "execution_count": 105,
   "metadata": {},
   "outputs": [],
   "source": [
    "import numpy as np\n",
    "\n",
    "def maxPuntoSella(a):\n",
    "    ris = (-1,-1) # per ora non ho trovato punti di sella\n",
    "    minrighe = np.argmin(a,axis=1) # Trova gli indici dei minimi per riga e.g. [4, 1, 1, 4, 4])\n",
    "    maxrighe = np.argmax(a,axis=1) # Trova gli indici dei massimi per riga\n",
    "    mincol = np.argmin(a,axis=0) # Trova gli indici dei minimi per colonna\n",
    "    maxcol = np.argmax(a,axis=0) # Trova gli indici dei massimi per colonna\n",
    "    # un punto di sella (i,j) minimo sulle righe e massimo sulle colonne ha la proprietà che\n",
    "    # j = minrighe[i] e i = maxcol[j], la colonna j è la minima sulla riga i e la riga i\n",
    "    # è la massima nella colonna j. per l'altro tipo di punto di sella vale il simmetrico\n",
    "    for i in range(a.shape[0]):\n",
    "        j = minrighe[i] # cerco punti di sella minriga-maxcol\n",
    "        if i == maxcol[j]: # Trovato un punto di sella minriga-maxcol\n",
    "            if ris == (-1,-1): # primo punto di sella trovato\n",
    "                ris = (i,j)\n",
    "            elif a[i,j] > a[ris]: # Trovato un nuovo punto di sella, più grande del massimo precedente\n",
    "                ris = (i,j)\n",
    "        j = maxrighe[i] # cerco punti di sella maxriga-mincol\n",
    "        if i == mincol[j]: # Trovato un punto di sella maxriga-mincol \n",
    "            if ris == (-1,-1): # primo punto di sella trovato\n",
    "                ris = (i,j)\n",
    "            elif a[i,j] > a[ris]: # Trovato un nuovo punto di sella, più grande del massimo precedente\n",
    "                ris = (i,j)\n",
    "    return ris"
   ]
  },
  {
   "cell_type": "code",
   "execution_count": 106,
   "metadata": {},
   "outputs": [
    {
     "name": "stdout",
     "output_type": "stream",
     "text": [
      "[[0.87042376 0.52699357 0.46370222 0.7646989  0.23714434]\n",
      " [0.59917603 0.77851099 0.33160482 0.26235236 0.35474939]\n",
      " [0.82769057 0.39684053 0.12543879 0.56734361 0.53954194]\n",
      " [0.42889899 0.22643297 0.09552203 0.27170772 0.05268543]\n",
      " [0.66150139 0.76233083 0.68033128 0.58532054 0.8313214 ]] (3, 0)\n"
     ]
    }
   ],
   "source": [
    "ps=(-1,-1)\n",
    "while ps==(-1,-1):\n",
    "    a=np.random.random((5,5))\n",
    "    ps=maxPuntoSella(a)\n",
    "print(a,maxPuntoSella(a))"
   ]
  },
  {
   "cell_type": "markdown",
   "metadata": {},
   "source": [
    "### Altre funzioni e librerie\n",
    "Python ha un numero molto elevato di altri moduli e librerie predefinite che sono a disposizione dei programmatori, quali ad esempio [SciPy](https://www.scipy.org/) per il calcolo scientifico, [Pandas](https://pandas.pydata.org/) per l'analisi dei dati, [Keras](https://keras.io/), [TensorFlow](https://www.tensorflow.org/) e [PyTorch](https://pytorch.org/) per il cosiddetto *deep learning* e molte altre. Qui ora mostriamo solo alcune funzionalità della libreria *IPython.display* per la gestione delle immagini."
   ]
  },
  {
   "cell_type": "markdown",
   "metadata": {},
   "source": [
    "#### Caricare, visualizzare e cancellare immagini\n",
    "La libreria IPython.display ci mette a disposizione 3 funzioni per le immagini, cioè le funzioni *Image*, *display* e *clear_output*. Il loro comportamento è il seguente:\n",
    "- La funzione `Image(url)` carica un immagine da un indirizzo web (url) o e restituisce un oggetto di tipo image\n",
    "- La funzione `display(image)` visualizza sullo schermo un oggetto di tipo image\n",
    "- la funzione `clear_output()` cancella quanto visualizzato dalla cella.\n",
    "\n",
    "Vediamo un semplice esempio:"
   ]
  },
  {
   "cell_type": "code",
   "execution_count": 107,
   "metadata": {},
   "outputs": [],
   "source": [
    "from IPython.display import display, Image, clear_output\n",
    "\n",
    "url1 = \"https://upload.wikimedia.org/wikipedia/commons/thumb/c/c9/Interno_del_Colosseo.jpg/281px-Interno_del_Colosseo.jpg\"\n",
    "url2 = \"https://upload.wikimedia.org/wikipedia/commons/thumb/d/d8/Colosseum_in_Rome-April_2007-1-_copie_2B.jpg/390px-Colosseum_in_Rome-April_2007-1-_copie_2B.jpg\"\n",
    "\n",
    "image1 = Image(url1) # carica l'immagine alla url1 nell'oggetto image1\n",
    "image2 = Image(url2) # carica l'immagine alla url2 nell'oggetto image2\n",
    "image3=Image(open('Eiffel.png',\"rb\").read())\n",
    "display(image1) # visualizza image1\n",
    "input() # il programma aspetta un invio ('enter') prima di andare avanti\n",
    "clear_output() # cancella output\n",
    "display(image2) # visualizza image1\n",
    "input() # il programma aspetta un invio ('enter') prima di andare avanti\n",
    "clear_output() # cancella output\n",
    "display(image3) # visualizza image2\n",
    "input() # il programma aspetta un invio ('enter') prima di andare avanti\n",
    "clear_output() # cancella output e termina\n"
   ]
  },
  {
   "cell_type": "markdown",
   "metadata": {},
   "source": [
    "## Esercizi\n",
    "Completate questi esercizi prima di cominciare il prossimo argomento"
   ]
  },
  {
   "cell_type": "markdown",
   "metadata": {},
   "source": [
    "### Esercizio 1:\n",
    "Scrivere una funzione che riceve in input il nome di un file contenente un array 2D e restituisce la lista degli indici delle righe che contengono il massimo numero di valori strettamente positivi. Assumere che il file sia ben formato, cioè tutte le righe contengono lo stesso numero di elementi."
   ]
  },
  {
   "cell_type": "code",
   "execution_count": 111,
   "metadata": {
    "scrolled": true
   },
   "outputs": [
    {
     "name": "stdout",
     "output_type": "stream",
     "text": [
      "0\n",
      ".\n",
      "5\n",
      " \n",
      "1\n",
      "0\n",
      ".\n",
      "2\n",
      " \n",
      "3\n",
      ".\n",
      "5\n",
      " \n",
      "2\n",
      ".\n",
      "3\n",
      " \n",
      "3\n",
      ".\n",
      "1\n",
      " \n",
      "-\n",
      "1\n",
      ".\n",
      "3\n",
      "3\n",
      "\n",
      "\n",
      "0\n",
      ".\n",
      "5\n",
      " \n",
      "1\n",
      "1\n",
      ".\n",
      "2\n",
      " \n",
      "-\n",
      "3\n",
      ".\n",
      "5\n",
      " \n",
      "1\n",
      ".\n",
      "3\n",
      " \n",
      "3\n",
      ".\n",
      "1\n",
      " \n",
      "-\n",
      "2\n",
      ".\n",
      "3\n",
      "3\n",
      "\n",
      "\n",
      "1\n",
      ".\n",
      "5\n",
      " \n",
      "1\n",
      ".\n",
      "2\n",
      " \n",
      "3\n",
      ".\n",
      "7\n",
      "5\n",
      " \n",
      "-\n",
      "2\n",
      ".\n",
      "3\n",
      " \n",
      "3\n",
      ".\n",
      "1\n",
      " \n",
      "-\n",
      "1\n",
      ".\n",
      "3\n",
      "3\n"
     ]
    }
   ],
   "source": [
    "import numpy as np\n",
    "fin=open('array1.txt','r',encoding='UTF-8')\n",
    "testo=fin.read()\n",
    "maxri=np.argmax(testo)"
   ]
  },
  {
   "cell_type": "markdown",
   "metadata": {
    "tags": []
   },
   "source": [
    "### Esercizio 2:\n",
    "Scrivere una funzione che riceve in input il nome di un file contenente un array 2D e restituisce la colonna il cui valore medio sia, in valore assoluto, più piccolo. Assumere che il file sia ben formato, cioè tutte le righe contengono lo stesso numero di elementi."
   ]
  },
  {
   "cell_type": "code",
   "execution_count": null,
   "metadata": {
    "scrolled": true
   },
   "outputs": [],
   "source": [
    "import numpy as np\n",
    "\n"
   ]
  }
 ],
 "metadata": {
  "kernelspec": {
   "display_name": "Python 3 (ipykernel)",
   "language": "python",
   "name": "python3"
  },
  "language_info": {
   "codemirror_mode": {
    "name": "ipython",
    "version": 3
   },
   "file_extension": ".py",
   "mimetype": "text/x-python",
   "name": "python",
   "nbconvert_exporter": "python",
   "pygments_lexer": "ipython3",
   "version": "3.12.0"
  }
 },
 "nbformat": 4,
 "nbformat_minor": 4
}
