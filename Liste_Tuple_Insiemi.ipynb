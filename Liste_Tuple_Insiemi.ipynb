{
 "cells": [
  {
   "cell_type": "markdown",
   "metadata": {
    "slideshow": {
     "slide_type": "slide"
    }
   },
   "source": [
    "#### Autori: Domenico Lembo, Antonella Poggi, Giuseppe Santucci and Marco Schaerf\n",
    "\n",
    "[Dipartimento di Ingegneria informatica, automatica e gestionale](https://www.diag.uniroma1.it)\n",
    "\n",
    "<img src=\"https://mirrors.creativecommons.org/presskit/buttons/88x31/png/by-nc-sa.eu.png\"\n",
    "     alt=\"License\"\n",
    "     style=\"float: left;\"\n",
    "     height=\"40\" width=\"100\" />\n",
    "This notebook is distributed with license Creative Commons *CC BY-NC-SA*"
   ]
  },
  {
   "cell_type": "markdown",
   "metadata": {},
   "source": [
    "# Liste, tuple ed insiemi\n",
    "1. Liste\n",
    "2. Operatori sulle liste\n",
    "3. Accesso e modifica degli elementi, slicing\n",
    "4. Variabili di tipo lista, copia superficiale e profonda\n",
    "2. Alcune funzioni predefinite su Liste\n",
    "3. Metodi per le liste\n",
    "4. Operatore `in`\n",
    "5. Inizializzazione compatta di una lista\n",
    "6. Esercizio: crea lista dei caratteri DISTINTI di una stringa presa in input\n",
    "7. Funzione `list()`\n",
    "11. Tuple\n",
    "12. Metodi per le tuple\n",
    "13. Tuple di dimensione 1\n",
    "14. Assegnazioni multiple\n",
    "15. Funzioni che restituiscono più valori\n",
    "16. Funzioni con un numero variabile di argomenti\n",
    "17. Insiemi\n",
    "18. Creazione di insiemi\n",
    "19. Modificare gli insiemi\n",
    "20. Operatori su insiemi\n",
    "21. Esercizio: crea lista dei caratteri DISTINTI di una stringa presa in input, usando gli insiemi"
   ]
  },
  {
   "cell_type": "markdown",
   "metadata": {},
   "source": [
    "### Liste\n",
    "In Python le liste servono per raccogliere, in modo **ordinato** e **sequenziale**, elementi di qualunque tipo, anche disomogenei tra di loro. Le caratteristiche fondamentali delle liste sono:\n",
    "  * possono contenere elementi eterogenei\n",
    "  * sono oggetti mutabili\n",
    "  * sono ordinabili (se composte da elementi compatibili per l'ordinamento)\n",
    "  * la loro copia può essere superficiale o profonda\n",
    "\n",
    "Come per le stringhe, ogni elemento di una lista ha una sua posizione, sempre a partire dalla posizione 0. Vediamo ora alcuni esempi:"
   ]
  },
  {
   "cell_type": "code",
   "execution_count": 2,
   "metadata": {},
   "outputs": [],
   "source": [
    "# Primi esempi di liste e loro uso\n",
    "L1 = [2, 4, 6, 7] #Lista di numeri interi.\n",
    "# Tutti gli elementi sono dello stesso tipo (omogenea e ordinabile)\n",
    "\n",
    "L2 = ['casa', 'palla', 'strada'] #Lista di stringhe.\n",
    "# Tutti gli elementi sono dello stesso tipo (omogenea e ordinabile)\n",
    "\n",
    "L3 = ['casa', -7.5, 'a', 33] #Lista di elementi di tipo diverso.\n",
    "# NON tutti gli elementi sono dello stesso tipo (disomogenea e non ordinabile)\n",
    "# Python ammette l'uso di liste disomogenee"
   ]
  },
  {
   "cell_type": "code",
   "execution_count": 3,
   "metadata": {},
   "outputs": [
    {
     "name": "stdout",
     "output_type": "stream",
     "text": [
      "4\n"
     ]
    }
   ],
   "source": [
    "print(len(L3)) #stampa la lunghezza della lista (numero di elementi)"
   ]
  },
  {
   "cell_type": "code",
   "execution_count": 4,
   "metadata": {},
   "outputs": [
    {
     "name": "stdout",
     "output_type": "stream",
     "text": [
      "casa\n",
      "-7.5\n",
      "a\n",
      "33\n"
     ]
    }
   ],
   "source": [
    "for elem in L3: #ciclo sugli elementi\n",
    "    print(elem) "
   ]
  },
  {
   "cell_type": "code",
   "execution_count": 5,
   "metadata": {},
   "outputs": [
    {
     "name": "stdout",
     "output_type": "stream",
     "text": [
      "0 casa\n",
      "1 -7.5\n",
      "2 a\n",
      "3 33\n"
     ]
    }
   ],
   "source": [
    "for i in range(len(L3)): #ciclo sulle posizioni\n",
    "    print(i,L3[i]) "
   ]
  },
  {
   "cell_type": "markdown",
   "metadata": {},
   "source": [
    "Lista costruita con espressioni. Le espressioni vengono calcolate e la lista contiene i risultati"
   ]
  },
  {
   "cell_type": "code",
   "execution_count": 31,
   "metadata": {},
   "outputs": [
    {
     "name": "stdout",
     "output_type": "stream",
     "text": [
      "[2, 26, False]\n"
     ]
    }
   ],
   "source": [
    "x = 2\n",
    "y = -5\n",
    "L = [x, y**2 + 1, x == 3] #Lista contenente espressioni e variabili.\n",
    "print(L) "
   ]
  },
  {
   "cell_type": "markdown",
   "metadata": {},
   "source": [
    "### Operatori sulle liste\n",
    "\n",
    "Di seguito riportiamo un elenco dei pricipali operatori definiti per liste\n",
    "\n",
    "sintassi | descrizione\n",
    "--- | ---\n",
    "lista1 == lista2  | confronto (\"uguale a\")\n",
    "lista1 != lista2  | confronto (\"diverso da\")\n",
    "espressione in lista | verifica la presenza di un valore (calcolato da una espressione) nella lista\n",
    "espressione not in lista | verifica l'assenza di un valore dalla lista\n",
    "lista1 + lista2| crea una nuova lista attraverso la concatenazione degli elementi di lista1 e lista2\n",
    "lista * num | crea una nuova lista replicando per num volte gli elementi di lista\n",
    "lista[i] | indicizzazione:accesso all'elemento di posizione i\n",
    "lista[i:j] | slicing: accesso alla sottolista identificata dagli indici i (incluso) e j (escluso)\n",
    "\n",
    "\n",
    "Semantica degli operatori `==` e `!=`: due liste sono considerate uguali se sono composte dallo stesso numero di elementi, e se ogni elemento è uguale all’elemento che si trova nella stessa posizione nell’altra lista. In altri termini, le due liste L1 ed L2 sono uguali se `len(L1)==len(L2)`, e per ogni `0 <= i < len(L1)` abbiamo che `L1[i]==L2[i]`. Se una delle precedenti condizioni non è vera allora L1 ed L2 sono diverse."
   ]
  },
  {
   "cell_type": "code",
   "execution_count": 32,
   "metadata": {},
   "outputs": [
    {
     "name": "stdout",
     "output_type": "stream",
     "text": [
      "le due liste [1, 2, 'pippo'] e [1, 2, 'pippo'] sono uguali? True\n"
     ]
    }
   ],
   "source": [
    "LL1 = [1,2,'pippo']\n",
    "LL2 = [1,2,'pippo']\n",
    "\n",
    "print('le due liste', LL1, 'e' ,LL2, 'sono uguali?', LL1==LL2)"
   ]
  },
  {
   "cell_type": "code",
   "execution_count": 8,
   "metadata": {},
   "outputs": [
    {
     "name": "stdout",
     "output_type": "stream",
     "text": [
      "le due liste [1, 2, 'pippo'] e [1, 2, 'pippo'] sono uguali? True\n"
     ]
    }
   ],
   "source": [
    "LL2 = [1,1+1,'pippo']\n",
    "\n",
    "print('le due liste', LL1, 'e' ,LL2, 'sono uguali?', LL1==LL2)"
   ]
  },
  {
   "cell_type": "code",
   "execution_count": 9,
   "metadata": {},
   "outputs": [
    {
     "name": "stdout",
     "output_type": "stream",
     "text": [
      "le due liste [1, 2, 'pippo'] e [1.0, 2, 'pippo'] sono uguali? True\n"
     ]
    }
   ],
   "source": [
    "LL2 = [1.0,2,'pippo']\n",
    "\n",
    "print('le due liste', LL1, 'e' ,LL2, 'sono uguali?', LL1==LL2)\n"
   ]
  },
  {
   "cell_type": "code",
   "execution_count": 10,
   "metadata": {},
   "outputs": [
    {
     "name": "stdout",
     "output_type": "stream",
     "text": [
      "le due liste [1, 2, 'pippo'] e ['1', 2, 'pippo'] sono uguali? False\n"
     ]
    }
   ],
   "source": [
    "LL2 = ['1',2,'pippo']\n",
    "\n",
    "print('le due liste', LL1, 'e' ,LL2, 'sono uguali?', LL1==LL2)"
   ]
  },
  {
   "cell_type": "code",
   "execution_count": 11,
   "metadata": {},
   "outputs": [
    {
     "name": "stdout",
     "output_type": "stream",
     "text": [
      "concateno [1, 2, 'pippo'] e ['1', 2, 'pippo'] \n",
      " [1, 2, 'pippo', '1', 2, 'pippo']\n"
     ]
    }
   ],
   "source": [
    "print('concateno', LL1, 'e' ,LL2, '\\n',LL1+LL2)"
   ]
  },
  {
   "cell_type": "markdown",
   "metadata": {},
   "source": [
    "### Accesso e modifica degli elementi, slicing\n",
    "Come per le stringhe, si può accedere ai singoli elementi di una lista usando la notazione con le parentesi quadre '[' e ']'. *A differenza delle stringhe*, le liste sono **mutabili** e quindi è possibile cambiare il valore di una posizione. \n",
    "\n",
    "Come per le stringhe, è possibile selezionare una parte di una lista usando lo *slicing* con la stessa notazione delle stringhe. Vediamo degli esempi:"
   ]
  },
  {
   "cell_type": "code",
   "execution_count": 36,
   "metadata": {},
   "outputs": [
    {
     "name": "stdout",
     "output_type": "stream",
     "text": [
      "[2, 4, 6, 7]\n",
      "2\n",
      "\n",
      " [-7.5, 'a']\n"
     ]
    }
   ],
   "source": [
    "# Ogni elemento della lista ha una posizione (indice)\n",
    "# come per le stringhe. Operazioni su liste\n",
    "\n",
    "# Accesso ad un elemento della lista\n",
    "print(L1)\n",
    "print(L1[0])\n",
    "\n",
    "L3 = ['casa', -7.5, 'a',33] \n",
    "\n",
    "# Slicing della lista\n",
    "print('\\n',L3[1:3])"
   ]
  },
  {
   "cell_type": "code",
   "execution_count": 13,
   "metadata": {},
   "outputs": [
    {
     "name": "stdout",
     "output_type": "stream",
     "text": [
      "4\n",
      "['casa', -7.5, 'a', 33]\n",
      "['casa', 'pino', 'a', 33]\n"
     ]
    }
   ],
   "source": [
    "# Calcolo della lunghezza (numero di elementi) della lista\n",
    "print(len(L3))\n",
    "\n",
    "# Le liste sono oggetti MUTABILI a differenza delle stringhe,\n",
    "# quindi è ammissibile cambiare il valore di un elemento:\n",
    "print(L3)\n",
    "L3[1] = 'pino'\n",
    "print(L3)"
   ]
  },
  {
   "cell_type": "markdown",
   "metadata": {},
   "source": [
    "### Variabili di tipo lista, copia superficiale e profonda\n",
    "Una variabile di tipo lista è un *riferimento* ad una zona di memoria in cui è contenuta la lista. Se scrivo `L1 = L` **non sto creando una nuova lista**, ma solo un nuovo riferimento alla **stessa zona di memoria**. Esiste una **unica** lista modificabile tramite `L1` o `L`. \n",
    "\n",
    "\n",
    "<img src=\"Immagini/copiaSuperficialeProfonda.png\" width=\"600\" />\n",
    "\n",
    "\n",
    "\n",
    "Questa si chiama una *copia superficiale* della lista, perché in realtà ha copiato solo il riferimento, non la lista. Se voglio creare una *vera copia* (detta *copia profonda*) della lista `L3` devo usare il metodo `copy()`, che usa una *nuova zona di memoria* in cui copia il contenuto della lista. Vediamo alcuni esempi:"
   ]
  },
  {
   "cell_type": "code",
   "execution_count": 14,
   "metadata": {},
   "outputs": [],
   "source": [
    "# La variabile che denota una lista è solo un nome (riferimento)\n",
    "# Se faccio:\n",
    "L4 = L3\n",
    "# NON HO CREATO UNA NUOVA LISTA, ma solo un nuovo nome della STESSA lista\n",
    "L4[2] = 'alfa'"
   ]
  },
  {
   "cell_type": "code",
   "execution_count": 15,
   "metadata": {},
   "outputs": [
    {
     "name": "stdout",
     "output_type": "stream",
     "text": [
      "L4 vale: ['casa', 'pino', 'alfa', 33]\n",
      "L3 vale: ['casa', 'pino', 'alfa', 33]\n"
     ]
    }
   ],
   "source": [
    "print('L4 vale:',L4)\n",
    "print('L3 vale:',L3)\n",
    "# Ho modificato sia L4 che L3, poichè L4 è solo un altro nome per L3."
   ]
  },
  {
   "cell_type": "code",
   "execution_count": 16,
   "metadata": {},
   "outputs": [],
   "source": [
    " # Per fare vera copia di L3 devo usare la funzione copy():\n",
    "L4 = L3.copy()\n",
    "L4[2] = 'beta'"
   ]
  },
  {
   "cell_type": "code",
   "execution_count": 17,
   "metadata": {},
   "outputs": [
    {
     "name": "stdout",
     "output_type": "stream",
     "text": [
      "L4 vale: ['casa', 'pino', 'beta', 33]\n",
      "L3 vale: ['casa', 'pino', 'alfa', 33]\n"
     ]
    }
   ],
   "source": [
    "print('L4 vale:',L4)\n",
    "print('L3 vale:',L3)\n",
    "# Ora L4 ed L3 sono diverse"
   ]
  },
  {
   "cell_type": "markdown",
   "metadata": {},
   "source": [
    "### Alcune funzioni predefinite su Liste\n",
    "\n",
    "Di seguito si riporta una lista di funzioni predefinite per liste\n",
    "\n",
    "nome | descrizione\n",
    "--- | ---\n",
    "len(lista) | restituisce la lunghezza della lista\n",
    "min(lista) | restituisce l'elemento più piccolo su una lista di elementi su<br>cui è definito un ordinamento (solo numeri, solo stringhe, ecc.).<br>Se l'ordinamento non è definito si ottiene un errore\n",
    "max(lista) | restituisce l'elemento più grande su una lista di elementi<br>su cui è definito un ordinamento. Se l'ordinamento non è<br>definito si ottiene un errore\n",
    "sum(lista) | restituisce la somma degli elementi della lista, se questi<br>sono numeri (int o float). Se la lista in input non è di soli<br>numeri, si ottiene un errore.\n",
    "\n",
    "\n"
   ]
  },
  {
   "cell_type": "markdown",
   "metadata": {},
   "source": [
    "\n",
    "### Metodi per le liste\n",
    "Le liste hanno molti metodi predefiniti che permettono di calcolare proprietà e modificare il contenuto delle liste. Vediamo i principali metodi:\n",
    "  * append\n",
    "  * clear\n",
    "  * copy\n",
    "  * count\n",
    "  * extend\n",
    "  * index\n",
    "  * insert\n",
    "  * pop\n",
    "  * remove\n",
    "  * reverse\n",
    "  * sort"
   ]
  },
  {
   "cell_type": "code",
   "execution_count": 18,
   "metadata": {},
   "outputs": [
    {
     "name": "stdout",
     "output_type": "stream",
     "text": [
      "['casa', 'pino', 'beta', 33]\n",
      "['casa', 'pino', 'beta', 33, -3.14]\n"
     ]
    }
   ],
   "source": [
    "# append(elem)    serve per aggiungere un elemento\n",
    "#                 IN FONDO alla lista. MODIFICA LA LISTA\n",
    "print(L4)\n",
    "L4.append(-3.14) # ad L4 viene aggiunto in fondo l'elemento -3.14\n",
    "print(L4)"
   ]
  },
  {
   "cell_type": "code",
   "execution_count": 19,
   "metadata": {},
   "outputs": [
    {
     "name": "stdout",
     "output_type": "stream",
     "text": [
      "['casa', 'pino', 'beta', 33, -3.14]\n",
      "[]\n"
     ]
    }
   ],
   "source": [
    "# clear()     serve per inizializzare la lista alla lista vuota.\n",
    "#             MODIFICA LA LISTA, se conteneva elementi vengono cancellati\n",
    "print(L4)\n",
    "L4.clear() # L4 diventa la lista vuota []\n",
    "print(L4)"
   ]
  },
  {
   "cell_type": "code",
   "execution_count": 20,
   "metadata": {},
   "outputs": [
    {
     "name": "stdout",
     "output_type": "stream",
     "text": [
      "3\n",
      "1\n",
      "0\n",
      "[7, 5, 11, 5, 9, 9, 0, 9]\n"
     ]
    }
   ],
   "source": [
    "# count(elem)     conta quante vole un elemento compare nella lista.\n",
    "#                 NON MODIFICA LA LISTA\n",
    "#                 prende sempre un solo argomento (diversamente dal metodo analogo per le stringhe)\n",
    "L5 = [7, 5, 11, 5, 9, 9, 0, 9]\n",
    "print(L5.count(9)) # restituisce 3\n",
    "print(L5.count(7)) # restituisce 1\n",
    "print(L5.count('alfa')) # restituisce 0\n",
    "print(L5) # L5 non è cambiata"
   ]
  },
  {
   "cell_type": "code",
   "execution_count": 21,
   "metadata": {},
   "outputs": [
    {
     "name": "stdout",
     "output_type": "stream",
     "text": [
      "['casa', -7.5, 'a', 33]\n",
      "['casa', -7.5, 'a', 33, 'casa', 'palla', 'strada']\n",
      "['casa', 'palla', 'strada']\n"
     ]
    }
   ],
   "source": [
    "# extend(lista)    aggiunge alla lista una nuova lista.\n",
    "#                  MODIFICA LA LISTA\n",
    "\n",
    "L2 = ['casa', 'palla', 'strada'] \n",
    "L4 = ['casa', -7.5, 'a',33] \n",
    "\n",
    "print(L4) # lista originaria\n",
    "L4.extend(L2) # Tutti gli elementi di L2 sono aggiunti (in fondo) a L4\n",
    "print(L4) # L4 è cambiata\n",
    "print(L2) # L2 NON è cambiata"
   ]
  },
  {
   "cell_type": "code",
   "execution_count": 22,
   "metadata": {},
   "outputs": [
    {
     "name": "stdout",
     "output_type": "stream",
     "text": [
      "4\n",
      "0\n"
     ]
    }
   ],
   "source": [
    "# index(elem)    trova la (prima) posizione dell'elemento nella lista.\n",
    "#                Se l'elemento NON è presente va in ERRORE\n",
    "#                NON MODIFICA LA LISTA\n",
    "L6 = [7, 5, 11, 5, 9, 9, 0, 9]\n",
    "print(L6.index(9)) # restituisce 4, prima posizione in cui c'è un 9\n",
    "print(L6.index(7)) # restituisce 0\n",
    "if 'alfa' in L6:\n",
    "    print(L6.index('alfa')) # va in errore (ValueError: 'alfa' is not in list)"
   ]
  },
  {
   "cell_type": "code",
   "execution_count": 23,
   "metadata": {},
   "outputs": [
    {
     "name": "stdout",
     "output_type": "stream",
     "text": [
      "8\n",
      "[7, 5, 'alfa', 11, 5, 9, 9, 0, 9]\n",
      "9\n"
     ]
    }
   ],
   "source": [
    "# insert(indice,elem)    inserisce l'elemento nella lista nella posizione indice\n",
    "#                        sposta gli altri elementi a destra. MODIFICA LA LISTA\n",
    "L7 = [7, 5, 11, 5, 9, 9, 0, 9]\n",
    "print(len(L7)) # la lista L7 ha 8 elementi\n",
    "L7.insert(2,'alfa') # inserisce l'elemento 'alfa' in posizione 2\n",
    "print(L7)\n",
    "print(len(L7)) # ora la lista L7 ha 9 elementi"
   ]
  },
  {
   "cell_type": "code",
   "execution_count": 24,
   "metadata": {},
   "outputs": [
    {
     "name": "stdout",
     "output_type": "stream",
     "text": [
      "Lunghezza lista: 7 [7, 5, 11, 5, 'a', 0, 9]\n",
      "6 [7, 5, 11, 5, 'a', 0]\n",
      "9\n",
      "5 [7, 5, 11, 5, 0]\n",
      "a\n"
     ]
    }
   ],
   "source": [
    "# pop()    elimina l'ultimo elemento della lista e lo restituisce\n",
    "#          come risultato. MODIFICA LA LISTA\n",
    "L8 = [7, 5, 11, 5, 'a', 0, 9]\n",
    "print('Lunghezza lista:',len(L8),L8) # la lista L8 ha 7 elementi\n",
    "el = L8.pop()                        # elimina l'ultimo elemento (9) e lo restituisce come risultato\n",
    "print(len(L8),L8)                    # ora la lista L8 ha 6 elementi\n",
    "print(el)                            # el ha il valore dell'elemento eliminato (9)\n",
    "\n",
    "el = L8.pop(4) # elimina l'elemento in posizione 4 ('a') e lo restituisce come risultato\n",
    "print(len(L8),L8)\n",
    "print(el)"
   ]
  },
  {
   "cell_type": "code",
   "execution_count": 25,
   "metadata": {},
   "outputs": [
    {
     "name": "stdout",
     "output_type": "stream",
     "text": [
      "7\n",
      "6 [7, 5, 11, 5, 0, 'a']\n"
     ]
    }
   ],
   "source": [
    "# remove(elem)  elimina la prima occorrenza dell'elemento elem\n",
    "#               dalla lista. MODIFICA LA LISTA\n",
    "L8 = [7, 5, 11, 5, 'a', 0, 'a']\n",
    "print(len(L8)) # la lista L8 ha 7 elementi\n",
    "\n",
    "L8.remove('a') # elimina la prima 'a' dalla lista\n",
    "\n",
    "print(len(L8),L8) # ora la lista L8 ha 6 elementi\n",
    "\n",
    "if 'b' in L8:\n",
    "    L8.remove('b') # VA IN ERRORE"
   ]
  },
  {
   "cell_type": "code",
   "execution_count": 26,
   "metadata": {},
   "outputs": [
    {
     "name": "stdout",
     "output_type": "stream",
     "text": [
      "['a', 0, 'a', 5, 11, 5, 7]\n",
      "[7, 5, 11, 5, 'a', 0, 'a']\n"
     ]
    }
   ],
   "source": [
    "# reverse()  rovescia la lista, mettendo gli elementi in ordine inverso.\n",
    "#            MODIFICA LA LISTA\n",
    "L8 = [7, 5, 11, 5, 'a', 0, 'a']\n",
    "L8.reverse() # rovescia la lista\n",
    "print(L8)\n",
    "L8.reverse() # rovescia nuovamente la lista riottenendo quella originale\n",
    "print(L8)"
   ]
  },
  {
   "cell_type": "code",
   "execution_count": 27,
   "metadata": {},
   "outputs": [
    {
     "name": "stdout",
     "output_type": "stream",
     "text": [
      "['alfa', 'alta', 'beta', 'gamma']\n"
     ]
    }
   ],
   "source": [
    "# sort()  ordina la lista, mettendo gli elementi in ordine crescente\n",
    "#         SE GLI ELEMENTI SONO OMOGENEI, altrimenti va in errore\n",
    "#         MODIFICA LA LISTA\n",
    "L9 = ['alfa', 'gamma', 'beta', 'alta']\n",
    "L9.sort() # ordina in ordine alfabetico la lista\n",
    "print(L9)\n",
    "#L8.sort()  va in ERRORE perché non può confrontare stringhe e numeri"
   ]
  },
  {
   "cell_type": "markdown",
   "metadata": {
    "tags": []
   },
   "source": [
    "### Operatore `in`\n",
    "Un operatore delle stringhe che si può usare anche per le liste è l'operatore booleano `in`, che restituisce `True` se l'elemento appartiene alla lista. Ad esempio, l'espressione `2 in [4,7,'alfa',2,5]` restituisce `True`, mentre `2 in [4,7,'alfa','beta',5]` restituisce `False`.\n",
    "\n",
    "Vediamo degli esempi:"
   ]
  },
  {
   "cell_type": "code",
   "execution_count": 28,
   "metadata": {},
   "outputs": [
    {
     "name": "stdout",
     "output_type": "stream",
     "text": [
      "'gatta' (compare) in ['tanto', 'va', 'la', 'gatta'] vale: True\n",
      "'tanto ' (compare) in ['tanto', 'va', 'la', 'gatta'] vale: False\n"
     ]
    }
   ],
   "source": [
    "l1 = ['tanto', 'va', 'la','gatta']\n",
    "print(\"'gatta' (compare) in\",l1,'vale:','gatta' in l1)\n",
    "print(\"'tanto ' (compare) in\",l1,'vale:','tanto ' in l1)\n",
    "#notate che l'elemento deve comparire IDENTICO nella lista (attenzione allo spazio in 'tanto ')"
   ]
  },
  {
   "cell_type": "markdown",
   "metadata": {
    "tags": []
   },
   "source": [
    "### Inizializzazione compatta di una lista\n",
    "E' possibile inizializzare una lista tramite un for **all'interno** della lista.\n",
    "Vediamo degli esempi:"
   ]
  },
  {
   "cell_type": "code",
   "execution_count": 29,
   "metadata": {
    "tags": []
   },
   "outputs": [
    {
     "name": "stdout",
     "output_type": "stream",
     "text": [
      "[0, 0, 0, 0, 0, 0, 0, 0, 0, 0]\n",
      "[0, 1, 2, 3, 4, 5, 6, 7, 8, 9]\n",
      "['A', 'B', 'C', 'D', 'E', 'F', 'G', 'H', 'I', 'J', 'K', 'L', 'M', 'N', 'O', 'P', 'Q', 'R', 'S', 'T', 'U', 'V', 'W', 'X', 'Y', 'Z']\n",
      "[26, 77, 17, 26, 14, 39, 57, 35, 52, 7]\n"
     ]
    }
   ],
   "source": [
    "from random import randint\n",
    "L10 = [0 for i in range(10)]\n",
    "print(L10)\n",
    "L11 = [i for i in range(10)]\n",
    "print(L11)\n",
    "L12 = [chr(i) for i in range(ord('A'), ord('Z')+1)]\n",
    "print(L12)\n",
    "L13 = [randint(1,100) for i in range(10)]\n",
    "print(L13)"
   ]
  },
  {
   "cell_type": "markdown",
   "metadata": {},
   "source": [
    "### Esercizio: crea la lista dei caratteri DISTINTI di una stringa presa in input\n",
    "Scriviamo una *funzione* che prende in ingresso una stringa e restituisce la lista dei caratteri **distinti** della stringa nell'ordine in cui compaiono nella stringa."
   ]
  },
  {
   "cell_type": "code",
   "execution_count": 30,
   "metadata": {},
   "outputs": [
    {
     "ename": "ModuleNotFoundError",
     "evalue": "No module named 'tester'",
     "output_type": "error",
     "traceback": [
      "\u001b[1;31m---------------------------------------------------------------------------\u001b[0m",
      "\u001b[1;31mModuleNotFoundError\u001b[0m                       Traceback (most recent call last)",
      "Cell \u001b[1;32mIn[30], line 2\u001b[0m\n\u001b[0;32m      1\u001b[0m \u001b[38;5;66;03m# carico la mia funzione di test\u001b[39;00m\n\u001b[1;32m----> 2\u001b[0m \u001b[38;5;28;01mfrom\u001b[39;00m \u001b[38;5;21;01mtester\u001b[39;00m \u001b[38;5;28;01mimport\u001b[39;00m tester_fun\n\u001b[0;32m      4\u001b[0m \u001b[38;5;66;03m# crea una lista con i caratteri distinti di una stringa\u001b[39;00m\n\u001b[0;32m      5\u001b[0m \u001b[38;5;28;01mdef\u001b[39;00m \u001b[38;5;21mcreaListaCD\u001b[39m(s):\n",
      "\u001b[1;31mModuleNotFoundError\u001b[0m: No module named 'tester'"
     ]
    }
   ],
   "source": [
    "# carico la mia funzione di test\n",
    "from tester import tester_fun\n",
    "\n",
    "# crea una lista con i caratteri distinti di una stringa\n",
    "def creaListaCD(s):\n",
    "    lista=[]\n",
    "    for c in s:\n",
    "        if c not in lista:\n",
    "            lista.append(c)\n",
    "    return lista\n",
    "\n",
    "l=creaListaCD('casale')\n",
    "print(l)\n",
    "tester_fun(creaListaCD,[\"paperopoli\"],['p', 'a', 'e', 'r', 'o', 'l', 'i'])\n",
    "tester_fun(creaListaCD,[\"casa bella\"],['c', 'a', 's', ' ', 'b', 'e', 'l'])"
   ]
  },
  {
   "cell_type": "markdown",
   "metadata": {},
   "source": [
    "### Funzione `list()`\n",
    "La funzione `list()` converte in lista un valore \"iterabile\". Nota che un valore è **iterabile** se è costituito da uno o più componenti a cui è possibile accedere per \"iterare\" un'operazione, per esempio usando un ciclo `for`. Esempi di valori iterabili che abbiamo già visto sono le stringhe e le sequenze restituite dalla funzione `range()`. Sotto ne vedremo degli altri."
   ]
  },
  {
   "cell_type": "code",
   "execution_count": null,
   "metadata": {},
   "outputs": [
    {
     "name": "stdout",
     "output_type": "stream",
     "text": [
      "['m', 'a', 'm', 'm', 'a']\n"
     ]
    }
   ],
   "source": [
    "s='mamma'\n",
    "l=list(s)\n",
    "print(l)"
   ]
  },
  {
   "cell_type": "markdown",
   "metadata": {},
   "source": [
    "Può essere utile per ``applicare'' ad una stringa funzioni e metodi predefiniti per le stringhe. "
   ]
  },
  {
   "cell_type": "code",
   "execution_count": null,
   "metadata": {},
   "outputs": [
    {
     "name": "stdout",
     "output_type": "stream",
     "text": [
      "aammm\n"
     ]
    }
   ],
   "source": [
    "# ordina i caratteri di una stringa\n",
    "def ordinaStringa(s):\n",
    "    l=list(s)\n",
    "    l.sort()\n",
    "    s=''\n",
    "    for i in l:\n",
    "        s+=i\n",
    "    return s\n",
    "\n",
    "l=ordinaStringa('mamma')\n",
    "print(l)"
   ]
  },
  {
   "cell_type": "markdown",
   "metadata": {},
   "source": [
    "### Tuple\n",
    "\n",
    "Le tuple consentono di rappresentare **sequenze immutabili** di qualsiasi tipo di dato. Sono quindi del tutto simili alle liste, ma non possono essere modificate (come le stringhe, che però sono sequenze immutabili di soli caratteri). Sintatticamente sono simili alle liste, ma al posto delle parentesi quadre `[` e `]` si usano le parentesi tonde `(` e `)`.\n",
    "\n",
    "In realtà è *possibile anche non usare le parentesi*. "
   ]
  },
  {
   "cell_type": "code",
   "execution_count": null,
   "metadata": {},
   "outputs": [
    {
     "name": "stdout",
     "output_type": "stream",
     "text": [
      "(10, -3, 4)\n",
      "(20, 1, 12)\n",
      "12\n"
     ]
    },
    {
     "ename": "TypeError",
     "evalue": "'tuple' object does not support item assignment",
     "output_type": "error",
     "traceback": [
      "\u001b[1;31m---------------------------------------------------------------------------\u001b[0m",
      "\u001b[1;31mTypeError\u001b[0m                                 Traceback (most recent call last)",
      "\u001b[1;32mc:\\Users\\Vittorio\\Desktop\\Vittorio UNI\\Programazione\\Liste_Tuple_Insiemi.ipynb Cell 47\u001b[0m line \u001b[0;36m9\n\u001b[0;32m      <a href='vscode-notebook-cell:/c%3A/Users/Vittorio/Desktop/Vittorio%20UNI/Programazione/Liste_Tuple_Insiemi.ipynb#X64sZmlsZQ%3D%3D?line=5'>6</a>\u001b[0m \u001b[39mprint\u001b[39m(coordinatePunto[\u001b[39m2\u001b[39m])\n\u001b[0;32m      <a href='vscode-notebook-cell:/c%3A/Users/Vittorio/Desktop/Vittorio%20UNI/Programazione/Liste_Tuple_Insiemi.ipynb#X64sZmlsZQ%3D%3D?line=7'>8</a>\u001b[0m \u001b[39m# La tupla è immutabile\u001b[39;00m\n\u001b[1;32m----> <a href='vscode-notebook-cell:/c%3A/Users/Vittorio/Desktop/Vittorio%20UNI/Programazione/Liste_Tuple_Insiemi.ipynb#X64sZmlsZQ%3D%3D?line=8'>9</a>\u001b[0m coordinatePunto[\u001b[39m0\u001b[39;49m] \u001b[39m=\u001b[39m \u001b[39m25\u001b[39m \u001b[39m# genera un errore\u001b[39;00m\n",
      "\u001b[1;31mTypeError\u001b[0m: 'tuple' object does not support item assignment"
     ]
    }
   ],
   "source": [
    "# Alla variabile coordinatePunto è assegnata una tupla\n",
    "coordinatePunto = (10, -3, 4)\n",
    "print(coordinatePunto)\n",
    "coordinatePunto = 20, 1, 12\n",
    "print(coordinatePunto)\n",
    "print(coordinatePunto[2])\n",
    "\n",
    "# La tupla è immutabile\n",
    "coordinatePunto[0] = 25 # genera un errore"
   ]
  },
  {
   "cell_type": "markdown",
   "metadata": {},
   "source": [
    "\n",
    "Molti degli **operatori** e delle **funzioni** che abbiamo introdotto fino ad ora per le liste posso essere usati anche sulle tuple: `+`, `==`, `!=`, `in`, `not in`, `tupla[indice]`, `tupla[indice1:indice2]`, `len`, `min`, `max`, `sum…`\n",
    "\n",
    "Esiste inoltre la funzione `tuple()` che trasforma in tuple un valore \"iterabile\". Se invocata senza argomenti, questa funzione restituisce la tupla vuota `()`. Questa funzione è l'analogo per le tuple della funzione `list()` vista sopra."
   ]
  },
  {
   "cell_type": "markdown",
   "metadata": {},
   "source": [
    "### Metodi per le tuple\n",
    "Essendo le tuple immutabili, non esistono metodi che modificano la tupla (come quelli visti sulle liste). Gli unici due metodi disponibili sono `count` e `index`, che si comportano come su valori di tipo lista."
   ]
  },
  {
   "cell_type": "code",
   "execution_count": null,
   "metadata": {},
   "outputs": [
    {
     "name": "stdout",
     "output_type": "stream",
     "text": [
      "4\n",
      "10\n",
      "('a', 10)\n"
     ]
    }
   ],
   "source": [
    "# Ulteriori esempi di uso di tuple\n",
    "\n",
    "t1 = ('a', 10, 'b', 20)\n",
    "print(len(t1))\n",
    "print(t1[1])\n",
    "print(t1[:2])"
   ]
  },
  {
   "cell_type": "code",
   "execution_count": null,
   "metadata": {},
   "outputs": [
    {
     "name": "stdout",
     "output_type": "stream",
     "text": [
      "('a', 10, 'b', 20, 'a', 20, 'b', 40)\n",
      "2\n"
     ]
    }
   ],
   "source": [
    "l  = ['a', 20, 'b', 40]\n",
    "t2 = tuple(l)\n",
    "print(t1+t2)\n",
    "x=(t1+t2).count('a')\n",
    "print(x)"
   ]
  },
  {
   "cell_type": "markdown",
   "metadata": {},
   "source": [
    "### Tuple di dimensione 1\n",
    "\n",
    "Per evitare ambiguità, una tupla di dimensione 1 deve essere scritta con una virgola dopo il primo (ed unico) elemento (senza la virgola, infatti, il comando viene considerato come una espressione fra parentesi) "
   ]
  },
  {
   "cell_type": "code",
   "execution_count": null,
   "metadata": {},
   "outputs": [
    {
     "name": "stdout",
     "output_type": "stream",
     "text": [
      "1\n"
     ]
    },
    {
     "ename": "TypeError",
     "evalue": "object of type 'int' has no len()",
     "output_type": "error",
     "traceback": [
      "\u001b[1;31m---------------------------------------------------------------------------\u001b[0m",
      "\u001b[1;31mTypeError\u001b[0m                                 Traceback (most recent call last)",
      "\u001b[1;32mc:\\Users\\Vittorio\\Desktop\\Vittorio UNI\\Programazione\\Liste_Tuple_Insiemi.ipynb Cell 53\u001b[0m line \u001b[0;36m4\n\u001b[0;32m      <a href='vscode-notebook-cell:/c%3A/Users/Vittorio/Desktop/Vittorio%20UNI/Programazione/Liste_Tuple_Insiemi.ipynb#Y103sZmlsZQ%3D%3D?line=1'>2</a>\u001b[0m \u001b[39mprint\u001b[39m(\u001b[39mlen\u001b[39m(t))\n\u001b[0;32m      <a href='vscode-notebook-cell:/c%3A/Users/Vittorio/Desktop/Vittorio%20UNI/Programazione/Liste_Tuple_Insiemi.ipynb#Y103sZmlsZQ%3D%3D?line=2'>3</a>\u001b[0m t \u001b[39m=\u001b[39m (\u001b[39m1\u001b[39m) \u001b[39m# assegna a t il valore 1\u001b[39;00m\n\u001b[1;32m----> <a href='vscode-notebook-cell:/c%3A/Users/Vittorio/Desktop/Vittorio%20UNI/Programazione/Liste_Tuple_Insiemi.ipynb#Y103sZmlsZQ%3D%3D?line=3'>4</a>\u001b[0m \u001b[39mprint\u001b[39m(\u001b[39mlen\u001b[39;49m(t))\n",
      "\u001b[1;31mTypeError\u001b[0m: object of type 'int' has no len()"
     ]
    }
   ],
   "source": [
    "t = (1,) # assegna a t la tupla con il solo elemento 1\n",
    "print(len(t))\n",
    "t = (1) # assegna a t il valore 1\n",
    "print(len(t))"
   ]
  },
  {
   "cell_type": "markdown",
   "metadata": {},
   "source": [
    "### Assegnazioni multiple\n",
    "\n",
    "In Python si possono assegnare diversi valori a più variabili usando un unico enunciato. Si tratta in effetti di una assegnazione ad una tupla (che, ricordiamo, si può scrivere anche senza parentesi), in cui a sinistra dell'`=` si usa una variabile per ogni componente della tupla. Tali variabili possono poi essere richiamate ed usate singolarmente."
   ]
  },
  {
   "cell_type": "code",
   "execution_count": null,
   "metadata": {},
   "outputs": [
    {
     "name": "stdout",
     "output_type": "stream",
     "text": [
      "(19.95, 12)\n",
      "19.95\n"
     ]
    }
   ],
   "source": [
    "(prezzo, quantita) = (19.95, 12) # analogo a scrivere \n",
    "                             # prezzo, quantita = 19.95, 12\n",
    "\n",
    "print((prezzo, quantita))\n",
    "print(prezzo)\n",
    "\n",
    "# Da notare che questo non aggiunge potere espressivo \n",
    "# al linguaggio. (prezzo, quantita) = (19.95, 12) è del tutto \n",
    "# equivalente a scrivere\n",
    "# prezzo = 19.95\n",
    "# quantita = 12"
   ]
  },
  {
   "cell_type": "markdown",
   "metadata": {},
   "source": [
    "### Funzioni che restituiscono più valori \n",
    "\n",
    "Ovviamente una tupla può essere restituita anche da una funzione, esattamente come avviene per una lista.\n",
    "\n",
    "Come visto in precedenza, possiamo poi assegnare la tupla restituita a più variabili, una per ciascuna delle sue componenti."
   ]
  },
  {
   "cell_type": "code",
   "execution_count": null,
   "metadata": {},
   "outputs": [
    {
     "name": "stdout",
     "output_type": "stream",
     "text": [
      "Inserisci una data\n",
      "10\n",
      "3\n",
      "2001\n"
     ]
    }
   ],
   "source": [
    "##### \n",
    "def leggiData() :\n",
    "    print(\"Inserisci una data\")\n",
    "    giorno = int(input(\"inserisci il giorno: \"))\n",
    "    mese = int(input(\"inserisci il mese: \"))\n",
    "    anno = int(input(\"inserisci l'anno: \"))\n",
    "    return (giorno, mese, anno) # è come scrivere (giorno, mese, anno)\n",
    "\n",
    "\n",
    "g,m,a = leggiData()\n",
    "print(g)\n",
    "print(m)\n",
    "print(a)\n"
   ]
  },
  {
   "cell_type": "markdown",
   "metadata": {},
   "source": [
    "### Funzioni con un numero variabile di argomenti.\n",
    "\n",
    "Come visto in una precedente lezione, in Python è possibile definire funzioni con funzioni con un numero variabile di argomenti (come ad esempio la funzioni built-in `print()`)."
   ]
  },
  {
   "cell_type": "code",
   "execution_count": null,
   "metadata": {},
   "outputs": [
    {
     "name": "stdout",
     "output_type": "stream",
     "text": [
      "Test funzione: somma \n",
      "\n",
      "Input funzione: 1, 2, 3 \n",
      "\n",
      "Output atteso:\n",
      "6\n",
      "\n",
      "----- print interne funzione -----\n",
      "\n",
      "----------------------------------\n",
      "\n",
      "Output ottenuto:\n",
      "6\n",
      "\n",
      "Risultato Test: POSITIVO\n",
      "\n",
      "******************************\n",
      "\n",
      "Test funzione: somma \n",
      "\n",
      "Input funzione: 5, 6 \n",
      "\n",
      "Output atteso:\n",
      "11\n",
      "\n",
      "----- print interne funzione -----\n",
      "\n",
      "----------------------------------\n",
      "\n",
      "Output ottenuto:\n",
      "11\n",
      "\n",
      "Risultato Test: POSITIVO\n",
      "\n",
      "******************************\n",
      "\n"
     ]
    },
    {
     "data": {
      "text/plain": [
       "1"
      ]
     },
     "execution_count": 61,
     "metadata": {},
     "output_type": "execute_result"
    }
   ],
   "source": [
    "# Esempio di funzione con numero arbitrario di argomenti\n",
    "\n",
    "from tester import tester_fun\n",
    "\n",
    "def somma (*valori) :\n",
    "    totale = 0\n",
    "    for elemento in valori :\n",
    "        totale = totale + elemento\n",
    "\n",
    "    return totale\n",
    "\n",
    "tester_fun(somma,[1,2,3],6)\n",
    "tester_fun(somma,[5,6],11)"
   ]
  },
  {
   "cell_type": "markdown",
   "metadata": {},
   "source": [
    "L’asterisco prima del parametro `valori` indica che la funzione può ricevere un numero di argomenti qualsiasi. **Il parametro `valori` è in effetti una tupla** che contiene tutti gli argomenti che vengono passati alla funzione (se non vengono passati argomenti è la tupla vuota `()`)."
   ]
  },
  {
   "cell_type": "markdown",
   "metadata": {},
   "source": [
    "### Insiemi\n",
    "In Python è anche definito il tipo di dato insieme `set`, che ha molte delle caratteristiche delle liste ma non permette che ci siano più copie dello stesso elemento all'interno dello stesso set. Gli insiemi sono oggetti mutabili. Vediamo di seguito come si definiscono gli insiemi e quali sono gli operatori principali."
   ]
  },
  {
   "cell_type": "markdown",
   "metadata": {},
   "source": [
    "### Creazione di insiemi\n",
    "Gli insiemi possono essere creati sia direttamente, elencando gli elementi all'interno delle parentesi graffe '{' e '}', che usando la funzione `set()`. In questo caso, se non inserite alcun valore tra le parentesi, viene restituito un insieme vuoto, se inserite una stringa, viene restituito l'insieme dei caratteri che compaiono nella stringa (senza ripetizioni), se inserite una lista, viene restituito l'insieme degli elementi della lista (sempre senza ripetizioni). Notate che l'ordine degli elementi *non è fissato* negli insiemi e che *NON è possibile accedere direttamente ai singoli elementi di un insieme*."
   ]
  },
  {
   "cell_type": "code",
   "execution_count": null,
   "metadata": {
    "scrolled": true
   },
   "outputs": [
    {
     "name": "stdout",
     "output_type": "stream",
     "text": [
      "{1, 2, 'palla'} set() {'a', 'c', 's'} {1, 2, 3}\n",
      "True\n"
     ]
    },
    {
     "ename": "TypeError",
     "evalue": "'set' object is not subscriptable",
     "output_type": "error",
     "traceback": [
      "\u001b[1;31m---------------------------------------------------------------------------\u001b[0m",
      "\u001b[1;31mTypeError\u001b[0m                                 Traceback (most recent call last)",
      "\u001b[1;32mc:\\Users\\Vittorio\\Desktop\\Vittorio UNI\\Programazione\\Liste_Tuple_Insiemi.ipynb Cell 63\u001b[0m line \u001b[0;36m7\n\u001b[0;32m      <a href='vscode-notebook-cell:/c%3A/Users/Vittorio/Desktop/Vittorio%20UNI/Programazione/Liste_Tuple_Insiemi.ipynb#Y116sZmlsZQ%3D%3D?line=4'>5</a>\u001b[0m \u001b[39mprint\u001b[39m(insieme1,insieme2,insieme3,insieme4)\n\u001b[0;32m      <a href='vscode-notebook-cell:/c%3A/Users/Vittorio/Desktop/Vittorio%20UNI/Programazione/Liste_Tuple_Insiemi.ipynb#Y116sZmlsZQ%3D%3D?line=5'>6</a>\u001b[0m \u001b[39mprint\u001b[39m({\u001b[39m1\u001b[39m,\u001b[39m2\u001b[39m,\u001b[39m3\u001b[39m} \u001b[39m==\u001b[39m {\u001b[39m3\u001b[39m,\u001b[39m1\u001b[39m,\u001b[39m2\u001b[39m}) \u001b[39m#l'ordine non è rilevante negli insiemi. Restituisce True\u001b[39;00m\n\u001b[1;32m----> <a href='vscode-notebook-cell:/c%3A/Users/Vittorio/Desktop/Vittorio%20UNI/Programazione/Liste_Tuple_Insiemi.ipynb#Y116sZmlsZQ%3D%3D?line=6'>7</a>\u001b[0m insieme1[\u001b[39m1\u001b[39;49m] \u001b[39m# gli elementi non sono associati ad un indice che ne individua la posizione\u001b[39;00m\n",
      "\u001b[1;31mTypeError\u001b[0m: 'set' object is not subscriptable"
     ]
    }
   ],
   "source": [
    "insieme1 = {1,2,'palla'}\n",
    "insieme2 = set()\n",
    "insieme3 = set('casa')  #restituisce un isieme senza ripetizioni e con ordine non fissato\n",
    "insieme4 = set([1, 2, 3, 3, 2])\n",
    "print(insieme1,insieme2,insieme3,insieme4)\n",
    "print({1,2,3} == {3,1,2}) #l'ordine non è rilevante negli insiemi. Restituisce True\n",
    "insieme1[1] # gli elementi non sono associati ad un indice che ne individua la posizione"
   ]
  },
  {
   "cell_type": "markdown",
   "metadata": {},
   "source": [
    "### Modificare gli insiemi\n",
    "Per aggiungere un elemento ad un insieme si può usare il metodo `add`, che aggiunge un elemento all'insieme (ma solo se non è già presente). Il metodo complementare per eliminare un elemento è `discard`. Per scandire gli elementi di un insieme si può usare il `for` e per verificare se un elemento appartiene ad un insieme si applica l'operatore `in`. Vediamo degli esempi: "
   ]
  },
  {
   "cell_type": "code",
   "execution_count": null,
   "metadata": {},
   "outputs": [
    {
     "name": "stdout",
     "output_type": "stream",
     "text": [
      "{1, 2, 'palla'} {'a', 'c', 's'}\n",
      "{1, 2, 7, 'palla'} {'c', 's'}\n",
      "1\n",
      "2\n",
      "7\n",
      "palla\n",
      "False\n",
      "True\n"
     ]
    }
   ],
   "source": [
    "print(insieme1,insieme3)\n",
    "insieme1.add(7) #aggiunge l'elemento 7\n",
    "insieme1.add('palla') #NON aggiunge l'elemento 'palla', perché già presente\n",
    "insieme3.discard('a') #elimina l'elemento 'a'\n",
    "insieme3.discard('x') #NON elimina l'elemento 'x' perché non presente\n",
    "print(insieme1,insieme3)\n",
    "\n",
    "for e in insieme1: #stampa tutti gli elementi dell'insieme. Non è definito in che ordine\n",
    "    print(e)\n",
    "    \n",
    "print('a' in insieme1) #Verifica se l'elemento 'a' appartiene all'insieme (False)\n",
    "print(7 in insieme1) #Verifica se l'elemento 7 appartiene all'insieme (True)"
   ]
  },
  {
   "cell_type": "markdown",
   "metadata": {},
   "source": [
    "### Operatori su insiemi\n",
    "Sugli insiemi sono definiti molti operatori e metodi, tra cui:\n",
    "\n",
    "operatore | metodo | effetto\n",
    "--- | --- | ---\n",
    "A <code>&#124;</code> B | A.union(B) | restituisce l'insieme unione di A e B\n",
    "A & B | A.intersection(B)| restituisce l'insieme intersezione di A e B \n",
    "A - B | A.difference(B)| restituisce l'insieme differenza di A e B\n",
    "A ^ B | A.symmetric_difference(B)|restituisce l'insieme differenza simmetrica di A e B\n",
    "A <= B | A.issubset(B)| restituisce True se l'insieme A è contenuto (anche non strettamente) nell'insieme B\n",
    "A >= B | A.issuperset(B)| restituisce True se l'insieme A contiene (anche non strettamente) l'insieme B\n",
    "\n",
    "\n",
    "<img src=\"Immagini/SymDiff.png\" width=\"200\" />\n",
    "\n",
    "\n",
    "\n",
    "\n",
    "\n",
    "Vediamo alcuni esempi:"
   ]
  },
  {
   "cell_type": "code",
   "execution_count": null,
   "metadata": {},
   "outputs": [
    {
     "name": "stdout",
     "output_type": "stream",
     "text": [
      "Unione: {1, 2, 3, 'a', 'b'}\n",
      "Intersezione: {3}\n",
      "Differenza: {1, 2}\n",
      "Differenza simmetrica: {1, 2, 'a', 'b'}\n",
      "Contenimento ?: False\n"
     ]
    }
   ],
   "source": [
    "insieme1 = {1,2,3}\n",
    "insieme2 = {3,'a','b'}\n",
    "print('Unione:',insieme1 | insieme2)\n",
    "print('Intersezione:',insieme1 & insieme2)\n",
    "print('Differenza:',insieme1 - insieme2)\n",
    "print('Differenza simmetrica:',insieme1 ^ insieme2) \n",
    "print('Contenimento ?:',insieme1 <= insieme2)"
   ]
  },
  {
   "cell_type": "markdown",
   "metadata": {},
   "source": [
    "### Esercizio: crea lista dei caratteri DISTINTI di una stringa presa in input, usando gli insiemi\n",
    "Scriviamo una *funzione* che prende in ingresso una stringa e restituisce la lista dei caratteri **distinti** della stringa ordinata alfabeticamente."
   ]
  },
  {
   "cell_type": "code",
   "execution_count": null,
   "metadata": {},
   "outputs": [
    {
     "name": "stdout",
     "output_type": "stream",
     "text": [
      "Test funzione: creaInsieme \n",
      "\n",
      "Input funzione: 'paperopoli' \n",
      "\n",
      "Output atteso:\n",
      "['a', 'e', 'i', 'l', 'o', 'p', 'r']\n",
      "\n",
      "----- print interne funzione -----\n",
      "\n",
      "lista: ['e', 'p', 'l', 'i', 'r', 'a', 'o']\n",
      "----------------------------------\n",
      "\n",
      "Output ottenuto:\n",
      "['a', 'e', 'i', 'l', 'o', 'p', 'r']\n",
      "\n",
      "Risultato Test: POSITIVO\n",
      "\n",
      "******************************\n",
      "\n",
      "Test funzione: creaInsieme \n",
      "\n",
      "Input funzione: 'casa bella' \n",
      "\n",
      "Output atteso:\n",
      "[' ', 'a', 'b', 'c', 'e', 'l', 's']\n",
      "\n",
      "----- print interne funzione -----\n",
      "\n",
      "lista: ['e', ' ', 'c', 'l', 's', 'b', 'a']\n",
      "----------------------------------\n",
      "\n",
      "Output ottenuto:\n",
      "[' ', 'a', 'b', 'c', 'e', 'l', 's']\n",
      "\n",
      "Risultato Test: POSITIVO\n",
      "\n",
      "******************************\n",
      "\n"
     ]
    },
    {
     "data": {
      "text/plain": [
       "1"
      ]
     },
     "execution_count": 69,
     "metadata": {},
     "output_type": "execute_result"
    }
   ],
   "source": [
    "# carico la mia funzione di test\n",
    "from tester import tester_fun\n",
    "\n",
    "# crea una lista con i caratteri distinti di una stringa ordinati alfabeticamente\n",
    "def creaInsieme(s):\n",
    "    insieme=set(s) #crea l'insieme delle lettere\n",
    "    lista = list(insieme) # trasforma l'insieme in una lista\n",
    "    print(\"lista:\",lista)\n",
    "    lista.sort()\n",
    "    return lista #restituisce la lista ordinata N.B return lista.sort() NON funziona\n",
    "\n",
    "# N.B. l'insieme non rispetta necessariamente l'ordine in cui compaiono (e nessun altro ordine...)\n",
    "#l'uso degli insiemi ha fatto perdere l'informazione sull'ordine\n",
    "#all'interno della stringa, che non si può più ricostruire \n",
    "#per questo motivo è richiesto di ordinare alfabeticamente la lista \n",
    "\n",
    "tester_fun(creaInsieme,[\"paperopoli\"], ['a', 'e', 'i', 'l', 'o', 'p', 'r'])\n",
    "tester_fun(creaInsieme,[\"casa bella\"], [' ', 'a', 'b', 'c', 'e', 'l', 's'])"
   ]
  },
  {
   "cell_type": "markdown",
   "metadata": {},
   "source": [
    "### Esercizi\n",
    "Completate questi esercizi prima di cominciare il prossimo argomento"
   ]
  },
  {
   "cell_type": "markdown",
   "metadata": {},
   "source": [
    "### Esercizio 1: \n",
    "Scrivere una funzione che prende in ingresso una lista non vuota l e restituisce l'elemento più frequente. Se più elementi compaiono lo stesso numero di volte, restituire quello che compare più all'inizio della lista. Assumete che la lista non sia vuota."
   ]
  },
  {
   "cell_type": "code",
   "execution_count": null,
   "metadata": {},
   "outputs": [
    {
     "name": "stdout",
     "output_type": "stream",
     "text": [
      "Test funzione: maxfrequenza \n",
      "\n",
      "Input funzione: [1, 2, 3, 4, 2, 3, 2] \n",
      "\n",
      "Output atteso:\n",
      "2\n",
      "\n",
      "----- print interne funzione -----\n",
      "\n",
      "----------------------------------\n",
      "\n",
      "Output ottenuto:\n",
      "2\n",
      "\n",
      "Risultato Test: POSITIVO\n",
      "\n",
      "******************************\n",
      "\n",
      "Test funzione: maxfrequenza \n",
      "\n",
      "Input funzione: [1, 2, 3, 4, 2, 3, 2, 'alfa', 1, 1, 1] \n",
      "\n",
      "Output atteso:\n",
      "1\n",
      "\n",
      "----- print interne funzione -----\n",
      "\n",
      "----------------------------------\n",
      "\n",
      "Output ottenuto:\n",
      "1\n",
      "\n",
      "Risultato Test: POSITIVO\n",
      "\n",
      "******************************\n",
      "\n",
      "Test funzione: maxfrequenza \n",
      "\n",
      "Input funzione: [1, 2, 3, 4, 2, 3, 'alfa', 'a', 'a', 1, 'a'] \n",
      "\n",
      "Output atteso:\n",
      "'a'\n",
      "\n",
      "----- print interne funzione -----\n",
      "\n",
      "----------------------------------\n",
      "\n",
      "Output ottenuto:\n",
      "'a'\n",
      "\n",
      "Risultato Test: POSITIVO\n",
      "\n",
      "******************************\n",
      "\n",
      "Test funzione: maxfrequenza \n",
      "\n",
      "Input funzione: ['a', 1] \n",
      "\n",
      "Output atteso:\n",
      "'a'\n",
      "\n",
      "----- print interne funzione -----\n",
      "\n",
      "----------------------------------\n",
      "\n",
      "Output ottenuto:\n",
      "'a'\n",
      "\n",
      "Risultato Test: POSITIVO\n",
      "\n",
      "******************************\n",
      "\n",
      "Test funzione: maxfrequenza \n",
      "\n",
      "Input funzione: [1] \n",
      "\n",
      "Output atteso:\n",
      "1\n",
      "\n",
      "----- print interne funzione -----\n",
      "\n",
      "----------------------------------\n",
      "\n",
      "Output ottenuto:\n",
      "1\n",
      "\n",
      "Risultato Test: POSITIVO\n",
      "\n",
      "******************************\n",
      "\n"
     ]
    },
    {
     "data": {
      "text/plain": [
       "1"
      ]
     },
     "execution_count": 43,
     "metadata": {},
     "output_type": "execute_result"
    }
   ],
   "source": [
    "from tester import tester_fun\n",
    "\n",
    "def maxfrequenza(l):\n",
    "    d=0\n",
    "    t=[]\n",
    "    for i in range(len(l)):\n",
    "        if l.count(l[i])>d:\n",
    "            d=l.count(l[i])\n",
    "            t=l[i]\n",
    "            \n",
    "    return(t)\n",
    "\n",
    "\n",
    "tester_fun(maxfrequenza,[[1,2,3,4,2,3,2]],2)\n",
    "tester_fun(maxfrequenza,[[1,2,3,4,2,3,2,'alfa',1,1,1]],1)\n",
    "tester_fun(maxfrequenza,[[1,2,3,4,2,3,'alfa','a','a',1,'a']],'a')\n",
    "tester_fun(maxfrequenza,[['a',1]],'a')\n",
    "tester_fun(maxfrequenza,[[1]],1)"
   ]
  },
  {
   "cell_type": "code",
   "execution_count": null,
   "metadata": {},
   "outputs": [
    {
     "name": "stdout",
     "output_type": "stream",
     "text": [
      "Test funzione: maxfrequenza \n",
      "\n",
      "Input funzione: [1, 2, 3, 4, 2, 3, 2] \n",
      "\n",
      "Output atteso:\n",
      "2\n",
      "\n",
      "----- print interne funzione -----\n",
      "\n",
      "----------------------------------\n",
      "\n",
      "Output ottenuto:\n",
      "2\n",
      "\n",
      "Risultato Test: POSITIVO\n",
      "\n",
      "******************************\n",
      "\n",
      "Test funzione: maxfrequenza \n",
      "\n",
      "Input funzione: [1, 2, 3, 4, 2, 3, 2, 'alfa', 1, 1, 1] \n",
      "\n",
      "Output atteso:\n",
      "1\n",
      "\n",
      "----- print interne funzione -----\n",
      "\n",
      "----------------------------------\n",
      "\n",
      "Output ottenuto:\n",
      "1\n",
      "\n",
      "Risultato Test: POSITIVO\n",
      "\n",
      "******************************\n",
      "\n",
      "Test funzione: maxfrequenza \n",
      "\n",
      "Input funzione: [1, 2, 3, 4, 2, 3, 'alfa', 'a', 'a', 1, 'a'] \n",
      "\n",
      "Output atteso:\n",
      "'a'\n",
      "\n",
      "----- print interne funzione -----\n",
      "\n",
      "----------------------------------\n",
      "\n",
      "Output ottenuto:\n",
      "'a'\n",
      "\n",
      "Risultato Test: POSITIVO\n",
      "\n",
      "******************************\n",
      "\n",
      "Test funzione: maxfrequenza \n",
      "\n",
      "Input funzione: ['a', 1] \n",
      "\n",
      "Output atteso:\n",
      "'a'\n",
      "\n",
      "----- print interne funzione -----\n",
      "\n",
      "----------------------------------\n",
      "\n",
      "La funzione ha lanciato una eccezione durante il test\n",
      "\n",
      "Traceback (most recent call last):\n",
      "  File \"c:\\Users\\Vittorio\\Desktop\\Vittorio UNI\\Programazione\\tester.py\", line 100, in helper_tester_function\n",
      "    returned_value = function(*input_data)\n",
      "                     ^^^^^^^^^^^^^^^^^^^^^\n",
      "  File \"C:\\Users\\Vittorio\\AppData\\Local\\Temp\\ipykernel_15172\\1946520664.py\", line 8, in maxfrequenza\n",
      "    risultato = max(elemento for elemento, frequenza in frequenze.items() if frequenza == massima_frequenza)\n",
      "                ^^^^^^^^^^^^^^^^^^^^^^^^^^^^^^^^^^^^^^^^^^^^^^^^^^^^^^^^^^^^^^^^^^^^^^^^^^^^^^^^^^^^^^^^^^^^\n",
      "TypeError: '>' not supported between instances of 'int' and 'str'\n",
      "\n",
      "Risultato Test: NEGATIVO\n",
      "\n",
      "******************************\n",
      "\n",
      "Test funzione: maxfrequenza \n",
      "\n",
      "Input funzione: [1] \n",
      "\n",
      "Output atteso:\n",
      "1\n",
      "\n",
      "----- print interne funzione -----\n",
      "\n",
      "----------------------------------\n",
      "\n",
      "Output ottenuto:\n",
      "1\n",
      "\n",
      "Risultato Test: POSITIVO\n",
      "\n",
      "******************************\n",
      "\n"
     ]
    },
    {
     "data": {
      "text/plain": [
       "1"
      ]
     },
     "execution_count": 53,
     "metadata": {},
     "output_type": "execute_result"
    }
   ],
   "source": [
    "from tester import tester_fun\n",
    "\n",
    "def maxfrequenza(l):\n",
    "    d = 0\n",
    "    t = None  # Inizializzo t a None per gestire il caso in cui la lista sia vuota\n",
    "    for i in range(len(l)):\n",
    "        if l.count(l[i]) > d:\n",
    "            d = l.count(l[i])\n",
    "            t = l[i]\n",
    "            \n",
    "    return t\n",
    "\n",
    "tester_fun(maxfrequenza, [[1,2,3,4,2,3,2]], 2)\n",
    "tester_fun(maxfrequenza, [[1,2,3,4,2,3,2,'alfa',1,1,1]], 1)\n",
    "tester_fun(maxfrequenza, [[1,2,3,4,2,3,'alfa','a','a',1,'a']], 'a')\n",
    "tester_fun(maxfrequenza, [['a',1]], 'a')\n",
    "tester_fun(maxfrequenza, [[1]], 1)\n"
   ]
  },
  {
   "cell_type": "markdown",
   "metadata": {},
   "source": [
    "### Esercizio 2:\n",
    "Scrivere una funzione che prende in ingresso una lista l di stringhe ed una stringa s e restituisce la lista composta dagli elementi di l che contengono s, ordinata alfabeticamente."
   ]
  },
  {
   "cell_type": "code",
   "execution_count": null,
   "metadata": {},
   "outputs": [
    {
     "name": "stdout",
     "output_type": "stream",
     "text": [
      "Test funzione: listaContiene \n",
      "\n",
      "Input funzione: ['casa', 'sala', 'pasta', 'prosciutto'], 'sa' \n",
      "\n",
      "Output atteso:\n",
      "['casa', 'sala']\n",
      "\n",
      "----- print interne funzione -----\n",
      "\n",
      "----------------------------------\n",
      "\n",
      "Output ottenuto:\n",
      "['casa', 'sala']\n",
      "\n",
      "Risultato Test: POSITIVO\n",
      "\n",
      "******************************\n",
      "\n",
      "Test funzione: listaContiene \n",
      "\n",
      "Input funzione: ['casa', 'sala', 'pasta', 'prosciutto'], 'a' \n",
      "\n",
      "Output atteso:\n",
      "['casa', 'pasta', 'sala']\n",
      "\n",
      "----- print interne funzione -----\n",
      "\n",
      "----------------------------------\n",
      "\n",
      "Output ottenuto:\n",
      "['casa', 'pasta', 'sala']\n",
      "\n",
      "Risultato Test: POSITIVO\n",
      "\n",
      "******************************\n",
      "\n",
      "Test funzione: listaContiene \n",
      "\n",
      "Input funzione: ['casa', 'saluti', 'sala', 'pasta', 'prosciutto'], 'sa' \n",
      "\n",
      "Output atteso:\n",
      "['casa', 'sala', 'saluti']\n",
      "\n",
      "----- print interne funzione -----\n",
      "\n",
      "----------------------------------\n",
      "\n",
      "Output ottenuto:\n",
      "['casa', 'sala', 'saluti']\n",
      "\n",
      "Risultato Test: POSITIVO\n",
      "\n",
      "******************************\n",
      "\n",
      "Test funzione: listaContiene \n",
      "\n",
      "Input funzione: ['casa', 'sala', 'pasta', 'prosciutto'], 'se' \n",
      "\n",
      "Output atteso:\n",
      "[]\n",
      "\n",
      "----- print interne funzione -----\n",
      "\n",
      "----------------------------------\n",
      "\n",
      "Output ottenuto:\n",
      "[]\n",
      "\n",
      "Risultato Test: POSITIVO\n",
      "\n",
      "******************************\n",
      "\n",
      "Test funzione: listaContiene \n",
      "\n",
      "Input funzione: ['salto', 'casa', 'sala', 'pasta', 'prosciutto'], 'sa' \n",
      "\n",
      "Output atteso:\n",
      "['casa', 'sala', 'salto']\n",
      "\n",
      "----- print interne funzione -----\n",
      "\n",
      "----------------------------------\n",
      "\n",
      "Output ottenuto:\n",
      "['casa', 'sala', 'salto']\n",
      "\n",
      "Risultato Test: POSITIVO\n",
      "\n",
      "******************************\n",
      "\n"
     ]
    },
    {
     "data": {
      "text/plain": [
       "1"
      ]
     },
     "execution_count": 40,
     "metadata": {},
     "output_type": "execute_result"
    }
   ],
   "source": [
    "from tester import tester_fun\n",
    "\n",
    "def listaContiene(l,s):\n",
    "    l.sort()\n",
    "    d=[]\n",
    "    for i in range(len(l)):\n",
    "        if s in l[i]:\n",
    "            d.append(l[i])\n",
    "    return d\n",
    "\n",
    "tester_fun(listaContiene,[['casa', 'sala', 'pasta','prosciutto'],'sa'],['casa', 'sala'])\n",
    "tester_fun(listaContiene,[['casa', 'sala', 'pasta','prosciutto'],'a'],['casa', 'pasta', 'sala'])\n",
    "tester_fun(listaContiene,[['casa','saluti', 'sala', 'pasta','prosciutto'],'sa'],['casa', 'sala','saluti'])\n",
    "tester_fun(listaContiene,[['casa', 'sala', 'pasta','prosciutto'],'se'],[])\n",
    "tester_fun(listaContiene,[['salto','casa', 'sala', 'pasta','prosciutto'],'sa'],['casa', 'sala', 'salto'])"
   ]
  },
  {
   "cell_type": "markdown",
   "metadata": {},
   "source": [
    "### Esercizio 3:\n",
    "Scrivere una funzione che prende in input una lista ls di stringhe ed una lista ln di numeri e restituisce una nuova lista contenente le stringhe di ls che si trovano nelle posizioni corrispondenti ai numeri di ln, nell'ordine di ln. Se il numero presente in ln non corrisponde ad una posizione di ls allora va ignorato. Notate che i numeri di ln possono anche essere negativi, ma devono corrispondere a posizioni di ls"
   ]
  },
  {
   "cell_type": "code",
   "execution_count": null,
   "metadata": {},
   "outputs": [
    {
     "name": "stdout",
     "output_type": "stream",
     "text": [
      "Test funzione: listaSelezioni \n",
      "\n",
      "Input funzione: ['casa', 'sala', 'pasta', 'prosciutto'], [2, 3, 0] \n",
      "\n",
      "Output atteso:\n",
      "['pasta', 'prosciutto', 'casa']\n",
      "\n",
      "----- print interne funzione -----\n",
      "\n",
      "----------------------------------\n",
      "\n",
      "Output ottenuto:\n",
      "['pasta', 'prosciutto', 'casa']\n",
      "\n",
      "Risultato Test: POSITIVO\n",
      "\n",
      "******************************\n",
      "\n",
      "Test funzione: listaSelezioni \n",
      "\n",
      "Input funzione: ['casa', 'sala', 'pasta', 'prosciutto'], [2, 7, -1] \n",
      "\n",
      "Output atteso:\n",
      "['pasta', 'prosciutto']\n",
      "\n",
      "----- print interne funzione -----\n",
      "\n",
      "----------------------------------\n",
      "\n",
      "La funzione ha lanciato una eccezione durante il test\n",
      "\n",
      "Traceback (most recent call last):\n",
      "  File \"c:\\Users\\Vittorio\\Desktop\\Vittorio UNI\\Programazione\\tester.py\", line 100, in helper_tester_function\n",
      "    returned_value = function(*input_data)\n",
      "                     ^^^^^^^^^^^^^^^^^^^^^\n",
      "  File \"C:\\Users\\Vittorio\\AppData\\Local\\Temp\\ipykernel_15956\\2859510255.py\", line 15, in listaSelezioni\n",
      "    for i in (ls.reverse()):\n",
      "TypeError: 'NoneType' object is not iterable\n",
      "\n",
      "Risultato Test: NEGATIVO\n",
      "\n",
      "******************************\n",
      "\n",
      "Test funzione: listaSelezioni \n",
      "\n",
      "Input funzione: ['casa', 'saluti', 'sala', 'pasta', 'prosciutto'], [2, -3, 0, 6] \n",
      "\n",
      "Output atteso:\n",
      "['sala', 'sala', 'casa']\n",
      "\n",
      "----- print interne funzione -----\n",
      "\n",
      "----------------------------------\n",
      "\n",
      "La funzione ha lanciato una eccezione durante il test\n",
      "\n",
      "Traceback (most recent call last):\n",
      "  File \"c:\\Users\\Vittorio\\Desktop\\Vittorio UNI\\Programazione\\tester.py\", line 100, in helper_tester_function\n",
      "    returned_value = function(*input_data)\n",
      "                     ^^^^^^^^^^^^^^^^^^^^^\n",
      "  File \"C:\\Users\\Vittorio\\AppData\\Local\\Temp\\ipykernel_15956\\2859510255.py\", line 15, in listaSelezioni\n",
      "    for i in (ls.reverse()):\n",
      "TypeError: 'NoneType' object is not iterable\n",
      "\n",
      "Risultato Test: NEGATIVO\n",
      "\n",
      "******************************\n",
      "\n",
      "Test funzione: listaSelezioni \n",
      "\n",
      "Input funzione: ['casa', 'sala', 'pasta', 'prosciutto'], [0, -5, -4, 0] \n",
      "\n",
      "Output atteso:\n",
      "['casa', 'casa', 'casa']\n",
      "\n",
      "----- print interne funzione -----\n",
      "\n",
      "----------------------------------\n",
      "\n",
      "La funzione ha lanciato una eccezione durante il test\n",
      "\n",
      "Traceback (most recent call last):\n",
      "  File \"c:\\Users\\Vittorio\\Desktop\\Vittorio UNI\\Programazione\\tester.py\", line 100, in helper_tester_function\n",
      "    returned_value = function(*input_data)\n",
      "                     ^^^^^^^^^^^^^^^^^^^^^\n",
      "  File \"C:\\Users\\Vittorio\\AppData\\Local\\Temp\\ipykernel_15956\\2859510255.py\", line 15, in listaSelezioni\n",
      "    for i in (ls.reverse()):\n",
      "TypeError: 'NoneType' object is not iterable\n",
      "\n",
      "Risultato Test: NEGATIVO\n",
      "\n",
      "******************************\n",
      "\n",
      "Test funzione: listaSelezioni \n",
      "\n",
      "Input funzione: ['salto', 'casa', 'sala', 'pasta', 'prosciutto'], [-1, 3, 3, -7] \n",
      "\n",
      "Output atteso:\n",
      "['prosciutto', 'pasta', 'pasta']\n",
      "\n",
      "----- print interne funzione -----\n",
      "\n",
      "----------------------------------\n",
      "\n",
      "La funzione ha lanciato una eccezione durante il test\n",
      "\n",
      "Traceback (most recent call last):\n",
      "  File \"c:\\Users\\Vittorio\\Desktop\\Vittorio UNI\\Programazione\\tester.py\", line 100, in helper_tester_function\n",
      "    returned_value = function(*input_data)\n",
      "                     ^^^^^^^^^^^^^^^^^^^^^\n",
      "  File \"C:\\Users\\Vittorio\\AppData\\Local\\Temp\\ipykernel_15956\\2859510255.py\", line 15, in listaSelezioni\n",
      "    for i in (ls.reverse()):\n",
      "TypeError: 'NoneType' object is not iterable\n",
      "\n",
      "Risultato Test: NEGATIVO\n",
      "\n",
      "******************************\n",
      "\n"
     ]
    },
    {
     "data": {
      "text/plain": [
       "0"
      ]
     },
     "execution_count": 108,
     "metadata": {},
     "output_type": "execute_result"
    }
   ],
   "source": [
    "from tester import tester_fun\n",
    "\n",
    "def listaSelezioni(ls,ln):\n",
    "    d=[]\n",
    "    f=-1\n",
    "    ls=list(ls)\n",
    "    for e in range(len(ln)):\n",
    "        if ln[e]>f:\n",
    "            for i in range(len(ls)):\n",
    "                if i == ln[e]:\n",
    "                    d.append(ls[i])\n",
    "\n",
    "        if ln[e]<=f:\n",
    "            ls.reverse()\n",
    "            for i in range(len(ls)):\n",
    "                \n",
    "                    if i == ln[e]:\n",
    "                        d.append(ls[i])\n",
    "    return d\n",
    "\n",
    "\n",
    "\n",
    "tester_fun(listaSelezioni,[['casa', 'sala', 'pasta','prosciutto'],[2,3,0]],['pasta', 'prosciutto', 'casa'])\n",
    "tester_fun(listaSelezioni,[['casa', 'sala', 'pasta','prosciutto'],[2,7,-1]],['pasta', 'prosciutto'])\n",
    "tester_fun(listaSelezioni,[['casa','saluti', 'sala', 'pasta','prosciutto'],[2,-3,0,6]],['sala', 'sala', 'casa'])\n",
    "tester_fun(listaSelezioni,[['casa', 'sala', 'pasta','prosciutto'],[0,-5,-4,0]],['casa', 'casa', 'casa'])\n",
    "tester_fun(listaSelezioni,[['salto','casa', 'sala', 'pasta','prosciutto'],[-1,3,3,-7]],['prosciutto', 'pasta', 'pasta'])"
   ]
  },
  {
   "cell_type": "markdown",
   "metadata": {},
   "source": [
    "### Esercizio 4:\n",
    "Scrivere una funzione che prende in input 2 liste di stringhe l1 e l2 e restituisce il numero di volte che le stringhe nella stessa posizione  nelle 2 liste iniziano per lo stesso carattere."
   ]
  },
  {
   "cell_type": "code",
   "execution_count": null,
   "metadata": {},
   "outputs": [
    {
     "name": "stdout",
     "output_type": "stream",
     "text": [
      "Test funzione: contaIniziali \n",
      "\n",
      "Input funzione: ['casa', 'sala', 'pasta', 'prosciutto'], ['sala', 'pasta', 'prosciutto', 'casa', 'saluti'] \n",
      "\n",
      "Output atteso:\n",
      "1\n",
      "\n",
      "----- print interne funzione -----\n",
      "\n",
      "----------------------------------\n",
      "\n",
      "Output ottenuto:\n",
      "1\n",
      "\n",
      "Risultato Test: POSITIVO\n",
      "\n",
      "******************************\n",
      "\n",
      "Test funzione: contaIniziali \n",
      "\n",
      "Input funzione: ['casa', 'sala', 'pasta', 'prosciutto'], ['pasta', 'palla', 'prosciutto'] \n",
      "\n",
      "Output atteso:\n",
      "1\n",
      "\n",
      "----- print interne funzione -----\n",
      "\n",
      "----------------------------------\n",
      "\n",
      "Output ottenuto:\n",
      "1\n",
      "\n",
      "Risultato Test: POSITIVO\n",
      "\n",
      "******************************\n",
      "\n",
      "Test funzione: contaIniziali \n",
      "\n",
      "Input funzione: ['casa', 'saluti', 'sala', 'pasta', 'prosciutto'], ['casa', 'sala', 'pasta', 'prosciutto'] \n",
      "\n",
      "Output atteso:\n",
      "3\n",
      "\n",
      "----- print interne funzione -----\n",
      "\n",
      "----------------------------------\n",
      "\n",
      "Output ottenuto:\n",
      "3\n",
      "\n",
      "Risultato Test: POSITIVO\n",
      "\n",
      "******************************\n",
      "\n",
      "Test funzione: contaIniziali \n",
      "\n",
      "Input funzione: ['sala', 'pasta', 'prosciutto'], ['casa', 'casa', 'casa'] \n",
      "\n",
      "Output atteso:\n",
      "0\n",
      "\n",
      "----- print interne funzione -----\n",
      "\n",
      "----------------------------------\n",
      "\n",
      "Output ottenuto:\n",
      "0\n",
      "\n",
      "Risultato Test: POSITIVO\n",
      "\n",
      "******************************\n",
      "\n",
      "Test funzione: contaIniziali \n",
      "\n",
      "Input funzione: ['salto', 'casa', 'sala', 'pasta', 'prosciutto'], ['casa', '', 'sala', 'pasta', 'prosciutto'] \n",
      "\n",
      "Output atteso:\n",
      "3\n",
      "\n",
      "----- print interne funzione -----\n",
      "\n",
      "----------------------------------\n",
      "\n",
      "Output ottenuto:\n",
      "3\n",
      "\n",
      "Risultato Test: POSITIVO\n",
      "\n",
      "******************************\n",
      "\n"
     ]
    },
    {
     "data": {
      "text/plain": [
       "1"
      ]
     },
     "execution_count": 15,
     "metadata": {},
     "output_type": "execute_result"
    }
   ],
   "source": [
    "from tester import tester_fun\n",
    "\n",
    "def contaIniziali(l1,l2):\n",
    "    c=0\n",
    "    min0=min(len(l1),len(l2))\n",
    "    for i in range(min0):\n",
    "            if l1[i] and l2[i] and l1[i][0].lower()==l2[i][0].lower():\n",
    "                    c+=1\n",
    "    return c\n",
    "\n",
    "\n",
    "        \n",
    "\n",
    "tester_fun(contaIniziali,[['casa', 'sala', 'pasta','prosciutto'],['sala', 'pasta','prosciutto', 'casa','saluti']],1)\n",
    "tester_fun(contaIniziali,[['casa', 'sala', 'pasta','prosciutto'],['pasta', 'palla', 'prosciutto']],1)\n",
    "tester_fun(contaIniziali,[['casa','saluti', 'sala', 'pasta','prosciutto'],['casa', 'sala', 'pasta','prosciutto']],3)\n",
    "tester_fun(contaIniziali,[['sala', 'pasta','prosciutto'],['casa', 'casa', 'casa']],0)\n",
    "tester_fun(contaIniziali,[['salto','casa', 'sala', 'pasta','prosciutto'],['casa', '', 'sala', 'pasta','prosciutto']],3)"
   ]
  },
  {
   "cell_type": "markdown",
   "metadata": {},
   "source": [
    "### Esercizio 5:\n",
    "Scrivere una funzione che riceve in ingresso due liste di stringhe l1 ed l2 e restituisce una nuova lista di lunghezza uguale al minimo tra le lunghezze di l1 ed l2 in cui ogni elemento è una tupla composta dai valori corrispondenti in l1 e l2."
   ]
  },
  {
   "cell_type": "code",
   "execution_count": null,
   "metadata": {},
   "outputs": [
    {
     "name": "stdout",
     "output_type": "stream",
     "text": [
      "Test funzione: unisci \n",
      "\n",
      "Input funzione: ['casa', 'sala', 'pasta', 'prosciutto'], ['sala', 'pasta', 'prosciutto', 'casa', 'saluti'] \n",
      "\n",
      "Output atteso:\n",
      "[('casa', 'sala'), ('sala', 'pasta'), ('pasta', 'prosciutto'), ('prosciutto', 'casa')]\n",
      "\n",
      "----- print interne funzione -----\n",
      "\n",
      "4\n",
      "----------------------------------\n",
      "\n",
      "Output ottenuto:\n",
      "[('casa', 'sala'), ('sala', 'pasta'), ('pasta', 'prosciutto'), ('prosciutto', 'casa')]\n",
      "\n",
      "Risultato Test: POSITIVO\n",
      "\n",
      "******************************\n",
      "\n",
      "Test funzione: unisci \n",
      "\n",
      "Input funzione: ['casa', 'sala', 'pasta', 'prosciutto'], ['pasta', 'palla', 'prosciutto'] \n",
      "\n",
      "Output atteso:\n",
      "[('casa', 'pasta'), ('sala', 'palla'), ('pasta', 'prosciutto')]\n",
      "\n",
      "----- print interne funzione -----\n",
      "\n",
      "3\n",
      "----------------------------------\n",
      "\n",
      "Output ottenuto:\n",
      "[('casa', 'pasta'), ('sala', 'palla'), ('pasta', 'prosciutto')]\n",
      "\n",
      "Risultato Test: POSITIVO\n",
      "\n",
      "******************************\n",
      "\n",
      "Test funzione: unisci \n",
      "\n",
      "Input funzione: ['casa', 'saluti', 'sala', 'pasta', 'prosciutto'], ['casa', 'sala', 'pasta', 'prosciutto'] \n",
      "\n",
      "Output atteso:\n",
      "[('casa', 'casa'), ('saluti', 'sala'), ('sala', 'pasta'), ('pasta', 'prosciutto')]\n",
      "\n",
      "----- print interne funzione -----\n",
      "\n",
      "4\n",
      "----------------------------------\n",
      "\n",
      "Output ottenuto:\n",
      "[('casa', 'casa'), ('saluti', 'sala'), ('sala', 'pasta'), ('pasta', 'prosciutto')]\n",
      "\n",
      "Risultato Test: POSITIVO\n",
      "\n",
      "******************************\n",
      "\n",
      "Test funzione: unisci \n",
      "\n",
      "Input funzione: ['sala', 'pasta', 'prosciutto'], ['casa', 'casa', 'casa'] \n",
      "\n",
      "Output atteso:\n",
      "[('sala', 'casa'), ('pasta', 'casa'), ('prosciutto', 'casa')]\n",
      "\n",
      "----- print interne funzione -----\n",
      "\n",
      "3\n",
      "----------------------------------\n",
      "\n",
      "Output ottenuto:\n",
      "[('sala', 'casa'), ('pasta', 'casa'), ('prosciutto', 'casa')]\n",
      "\n",
      "Risultato Test: POSITIVO\n",
      "\n",
      "******************************\n",
      "\n",
      "Test funzione: unisci \n",
      "\n",
      "Input funzione: ['salto', 'casa', 'sala', 'pasta', 'prosciutto'], [] \n",
      "\n",
      "Output atteso:\n",
      "[]\n",
      "\n",
      "----- print interne funzione -----\n",
      "\n",
      "0\n",
      "----------------------------------\n",
      "\n",
      "Output ottenuto:\n",
      "[]\n",
      "\n",
      "Risultato Test: POSITIVO\n",
      "\n",
      "******************************\n",
      "\n"
     ]
    },
    {
     "data": {
      "text/plain": [
       "1"
      ]
     },
     "execution_count": 106,
     "metadata": {},
     "output_type": "execute_result"
    }
   ],
   "source": [
    "from tester import tester_fun\n",
    "\n",
    "def unisci(l1,l2):\n",
    "    t=tuple()\n",
    "    l=[]\n",
    "    c=[]\n",
    "    min_=min(len(l1),len(l2))\n",
    "    print(min_)\n",
    "    for i in range(min_):\n",
    "        \n",
    "        l.append((l1[i],l2[i]))\n",
    "    return l\n",
    "\n",
    "    \n",
    "tester_fun(unisci,[['casa', 'sala', 'pasta','prosciutto'],['sala', 'pasta','prosciutto', 'casa','saluti']],[('casa', 'sala'), ('sala', 'pasta'), ('pasta', 'prosciutto'), ('prosciutto', 'casa')])\n",
    "tester_fun(unisci,[['casa', 'sala', 'pasta','prosciutto'],['pasta', 'palla', 'prosciutto']],[('casa', 'pasta'), ('sala', 'palla'), ('pasta', 'prosciutto')])\n",
    "tester_fun(unisci,[['casa','saluti', 'sala', 'pasta','prosciutto'],['casa', 'sala', 'pasta','prosciutto']],[('casa', 'casa'), ('saluti', 'sala'), ('sala', 'pasta'), ('pasta', 'prosciutto')])\n",
    "tester_fun(unisci,[['sala', 'pasta','prosciutto'],['casa', 'casa', 'casa']],[('sala', 'casa'), ('pasta', 'casa'), ('prosciutto', 'casa')])\n",
    "tester_fun(unisci,[['salto','casa', 'sala', 'pasta','prosciutto'],[]],[])"
   ]
  },
  {
   "cell_type": "code",
   "execution_count": null,
   "metadata": {},
   "outputs": [
    {
     "name": "stdout",
     "output_type": "stream",
     "text": [
      "Test funzione: unisci \n",
      "\n",
      "Input funzione: ['casa', 'sala', 'pasta', 'prosciutto'], ['sala', 'pasta', 'prosciutto', 'casa', 'saluti'] \n",
      "\n",
      "Output atteso:\n",
      "[('casa', 'sala'), ('sala', 'pasta'), ('pasta', 'prosciutto'), ('prosciutto', 'casa')]\n",
      "\n",
      "----- print interne funzione -----\n",
      "\n",
      "----------------------------------\n",
      "\n",
      "Output ottenuto:\n",
      "[('casa', 'sala'), ('sala', 'pasta'), ('pasta', 'prosciutto'), ('prosciutto', 'casa')]\n",
      "\n",
      "Risultato Test: POSITIVO\n",
      "\n",
      "******************************\n",
      "\n",
      "Test funzione: unisci \n",
      "\n",
      "Input funzione: ['casa', 'sala', 'pasta', 'prosciutto'], ['pasta', 'palla', 'prosciutto'] \n",
      "\n",
      "Output atteso:\n",
      "[('casa', 'pasta'), ('sala', 'palla'), ('pasta', 'prosciutto')]\n",
      "\n",
      "----- print interne funzione -----\n",
      "\n",
      "----------------------------------\n",
      "\n",
      "Output ottenuto:\n",
      "[('casa', 'pasta'), ('sala', 'palla'), ('pasta', 'prosciutto')]\n",
      "\n",
      "Risultato Test: POSITIVO\n",
      "\n",
      "******************************\n",
      "\n",
      "Test funzione: unisci \n",
      "\n",
      "Input funzione: ['casa', 'saluti', 'sala', 'pasta', 'prosciutto'], ['casa', 'sala', 'pasta', 'prosciutto'] \n",
      "\n",
      "Output atteso:\n",
      "[('casa', 'casa'), ('saluti', 'sala'), ('sala', 'pasta'), ('pasta', 'prosciutto')]\n",
      "\n",
      "----- print interne funzione -----\n",
      "\n",
      "----------------------------------\n",
      "\n",
      "Output ottenuto:\n",
      "[('casa', 'casa'), ('saluti', 'sala'), ('sala', 'pasta'), ('pasta', 'prosciutto')]\n",
      "\n",
      "Risultato Test: POSITIVO\n",
      "\n",
      "******************************\n",
      "\n",
      "Test funzione: unisci \n",
      "\n",
      "Input funzione: ['sala', 'pasta', 'prosciutto'], ['casa', 'casa', 'casa'] \n",
      "\n",
      "Output atteso:\n",
      "[('sala', 'casa'), ('pasta', 'casa'), ('prosciutto', 'casa')]\n",
      "\n",
      "----- print interne funzione -----\n",
      "\n",
      "----------------------------------\n",
      "\n",
      "Output ottenuto:\n",
      "[('sala', 'casa'), ('pasta', 'casa'), ('prosciutto', 'casa')]\n",
      "\n",
      "Risultato Test: POSITIVO\n",
      "\n",
      "******************************\n",
      "\n",
      "Test funzione: unisci \n",
      "\n",
      "Input funzione: ['salto', 'casa', 'sala', 'pasta', 'prosciutto'], [] \n",
      "\n",
      "Output atteso:\n",
      "[]\n",
      "\n",
      "----- print interne funzione -----\n",
      "\n",
      "----------------------------------\n",
      "\n",
      "Output ottenuto:\n",
      "[]\n",
      "\n",
      "Risultato Test: POSITIVO\n",
      "\n",
      "******************************\n",
      "\n"
     ]
    },
    {
     "data": {
      "text/plain": [
       "1"
      ]
     },
     "execution_count": 104,
     "metadata": {},
     "output_type": "execute_result"
    }
   ],
   "source": [
    "from tester import tester_fun\n",
    "\n",
    "def unisci(l1, l2):\n",
    "    l = []\n",
    "    min_ = min(len(l1), len(l2))\n",
    "    for i in range(min_):\n",
    "        l.append((l1[i], l2[i]))\n",
    "    return l\n",
    "\n",
    "tester_fun(unisci, [['casa', 'sala', 'pasta', 'prosciutto'], ['sala', 'pasta', 'prosciutto', 'casa', 'saluti']], [('casa', 'sala'), ('sala', 'pasta'), ('pasta', 'prosciutto'), ('prosciutto', 'casa')])\n",
    "tester_fun(unisci, [['casa', 'sala', 'pasta', 'prosciutto'], ['pasta', 'palla', 'prosciutto']], [('casa', 'pasta'), ('sala', 'palla'), ('pasta', 'prosciutto')])\n",
    "tester_fun(unisci, [['casa', 'saluti', 'sala', 'pasta', 'prosciutto'], ['casa', 'sala', 'pasta', 'prosciutto']], [('casa', 'casa'), ('saluti', 'sala'), ('sala', 'pasta'), ('pasta', 'prosciutto')])\n",
    "tester_fun(unisci, [['sala', 'pasta', 'prosciutto'], ['casa', 'casa', 'casa']], [('sala', 'casa'), ('pasta', 'casa'), ('prosciutto', 'casa')])\n",
    "tester_fun(unisci, [['salto', 'casa', 'sala', 'pasta', 'prosciutto'], []], [])\n"
   ]
  },
  {
   "cell_type": "markdown",
   "metadata": {},
   "source": [
    "### Esercizio 6:\n",
    "Scrivere una funzione che prende in ingresso una lista di numeri interi l e restituisce l'insieme dei numeri che sono divisori di TUTTI i numeri della lista."
   ]
  },
  {
   "cell_type": "code",
   "execution_count": null,
   "metadata": {},
   "outputs": [
    {
     "name": "stdout",
     "output_type": "stream",
     "text": [
      "Test funzione: divisoriComuni \n",
      "\n",
      "Input funzione: [2, 4] \n",
      "\n",
      "Output atteso:\n",
      "{1, 2}\n",
      "\n",
      "----- print interne funzione -----\n",
      "\n",
      "2\n",
      "----------------------------------\n",
      "\n",
      "La funzione non ha ritornato nessun output (None), controllare di aver inserito il comando return\n",
      "\n",
      "Risultato Test: NEGATIVO\n",
      "\n",
      "******************************\n",
      "\n",
      "Test funzione: divisoriComuni \n",
      "\n",
      "Input funzione: [4, 6, 8] \n",
      "\n",
      "Output atteso:\n",
      "{1, 2}\n",
      "\n",
      "----- print interne funzione -----\n",
      "\n",
      "4\n",
      "----------------------------------\n",
      "\n",
      "La funzione non ha ritornato nessun output (None), controllare di aver inserito il comando return\n",
      "\n",
      "Risultato Test: NEGATIVO\n",
      "\n",
      "******************************\n",
      "\n",
      "Test funzione: divisoriComuni \n",
      "\n",
      "Input funzione: [3, 6, 12] \n",
      "\n",
      "Output atteso:\n",
      "{1, 3}\n",
      "\n",
      "----- print interne funzione -----\n",
      "\n",
      "3\n",
      "----------------------------------\n",
      "\n",
      "La funzione non ha ritornato nessun output (None), controllare di aver inserito il comando return\n",
      "\n",
      "Risultato Test: NEGATIVO\n",
      "\n",
      "******************************\n",
      "\n",
      "Test funzione: divisoriComuni \n",
      "\n",
      "Input funzione: [25, 5, 15] \n",
      "\n",
      "Output atteso:\n",
      "{1, 5}\n",
      "\n",
      "----- print interne funzione -----\n",
      "\n",
      "5\n",
      "----------------------------------\n",
      "\n",
      "La funzione non ha ritornato nessun output (None), controllare di aver inserito il comando return\n",
      "\n",
      "Risultato Test: NEGATIVO\n",
      "\n",
      "******************************\n",
      "\n",
      "Test funzione: divisoriComuni \n",
      "\n",
      "Input funzione: [2, 3] \n",
      "\n",
      "Output atteso:\n",
      "{1}\n",
      "\n",
      "----- print interne funzione -----\n",
      "\n",
      "2\n",
      "----------------------------------\n",
      "\n",
      "La funzione non ha ritornato nessun output (None), controllare di aver inserito il comando return\n",
      "\n",
      "Risultato Test: NEGATIVO\n",
      "\n",
      "******************************\n",
      "\n"
     ]
    },
    {
     "data": {
      "text/plain": [
       "0"
      ]
     },
     "execution_count": 121,
     "metadata": {},
     "output_type": "execute_result"
    }
   ],
   "source": [
    "from tester import tester_fun\n",
    "\n",
    "def divisoriComuni(l):\n",
    "    d={}\n",
    "    t=max(l)\n",
    "    w=[]\n",
    "    for i in range(len(l)):\n",
    "        if l[i]l[1]:\n",
    "            if min(l)/\n",
    "            w=min(l)\n",
    "           \n",
    "    print(w)\n",
    "            \n",
    "\n",
    "tester_fun(divisoriComuni,[[2,4]],{1,2})\n",
    "tester_fun(divisoriComuni,[[4,6,8]],{1, 2})\n",
    "tester_fun(divisoriComuni,[[3,6,12]],{1, 3})\n",
    "tester_fun(divisoriComuni,[[25,5,15]], {1, 5} )\n",
    "tester_fun(divisoriComuni,[[2,3]],{1})"
   ]
  },
  {
   "cell_type": "code",
   "execution_count": null,
   "metadata": {},
   "outputs": [
    {
     "name": "stdout",
     "output_type": "stream",
     "text": [
      "Test funzione: divisoriComuni \n",
      "\n",
      "Input funzione: [2, 4] \n",
      "\n",
      "Output atteso:\n",
      "{1, 2}\n",
      "\n",
      "----- print interne funzione -----\n",
      "\n",
      "----------------------------------\n",
      "\n",
      "Output ottenuto:\n",
      "{1, 2}\n",
      "\n",
      "Risultato Test: POSITIVO\n",
      "\n",
      "******************************\n",
      "\n",
      "Test funzione: divisoriComuni \n",
      "\n",
      "Input funzione: [4, 6, 8] \n",
      "\n",
      "Output atteso:\n",
      "{1, 2}\n",
      "\n",
      "----- print interne funzione -----\n",
      "\n",
      "----------------------------------\n",
      "\n",
      "Output ottenuto:\n",
      "{1, 2}\n",
      "\n",
      "Risultato Test: POSITIVO\n",
      "\n",
      "******************************\n",
      "\n",
      "Test funzione: divisoriComuni \n",
      "\n",
      "Input funzione: [3, 6, 12] \n",
      "\n",
      "Output atteso:\n",
      "{1, 3}\n",
      "\n",
      "----- print interne funzione -----\n",
      "\n",
      "----------------------------------\n",
      "\n",
      "Output ottenuto:\n",
      "{1, 3}\n",
      "\n",
      "Risultato Test: POSITIVO\n",
      "\n",
      "******************************\n",
      "\n",
      "Test funzione: divisoriComuni \n",
      "\n",
      "Input funzione: [25, 5, 15] \n",
      "\n",
      "Output atteso:\n",
      "{1, 5}\n",
      "\n",
      "----- print interne funzione -----\n",
      "\n",
      "----------------------------------\n",
      "\n",
      "Output ottenuto:\n",
      "{1, 5}\n",
      "\n",
      "Risultato Test: POSITIVO\n",
      "\n",
      "******************************\n",
      "\n",
      "Test funzione: divisoriComuni \n",
      "\n",
      "Input funzione: [2, 3] \n",
      "\n",
      "Output atteso:\n",
      "{1}\n",
      "\n",
      "----- print interne funzione -----\n",
      "\n",
      "----------------------------------\n",
      "\n",
      "Output ottenuto:\n",
      "{1}\n",
      "\n",
      "Risultato Test: POSITIVO\n",
      "\n",
      "******************************\n",
      "\n"
     ]
    },
    {
     "data": {
      "text/plain": [
       "1"
      ]
     },
     "execution_count": 124,
     "metadata": {},
     "output_type": "execute_result"
    }
   ],
   "source": [
    "from tester import tester_fun\n",
    "\n",
    "def divisoriComuni(l):\n",
    "    if not l:\n",
    "        return set()\n",
    "\n",
    "    # Trova il massimo nella lista\n",
    "    t = max(l)\n",
    "\n",
    "    # Inizializza l'insieme dei divisori comuni con i divisori del massimo\n",
    "    divisori_comuni = set(divisori(t))\n",
    "\n",
    "    # Itera attraverso gli altri numeri nella lista\n",
    "    for numero in l:\n",
    "        # Trova i divisori del numero corrente\n",
    "        divisori_numero = set(divisori(numero))\n",
    "\n",
    "        # Interseca l'insieme dei divisori comuni con i divisori del numero corrente\n",
    "        divisori_comuni = divisori_comuni.intersection(divisori_numero)\n",
    "\n",
    "    return divisori_comuni\n",
    "\n",
    "def divisori(numero):\n",
    "    # Trova i divisori di un numero\n",
    "    return [i for i in range(1, abs(numero) + 1) if numero % i == 0]\n",
    "\n",
    "\n",
    "tester_fun(divisoriComuni,[[2,4]],{1,2})\n",
    "tester_fun(divisoriComuni,[[4,6,8]],{1, 2})\n",
    "tester_fun(divisoriComuni,[[3,6,12]],{1, 3})\n",
    "tester_fun(divisoriComuni,[[25,5,15]], {1, 5} )\n",
    "tester_fun(divisoriComuni,[[2,3]],{1})"
   ]
  }
 ],
 "metadata": {
  "kernelspec": {
   "display_name": "Python 3 (ipykernel)",
   "language": "python",
   "name": "python3"
  },
  "language_info": {
   "codemirror_mode": {
    "name": "ipython",
    "version": 3
   },
   "file_extension": ".py",
   "mimetype": "text/x-python",
   "name": "python",
   "nbconvert_exporter": "python",
   "pygments_lexer": "ipython3",
   "version": "3.12.0"
  }
 },
 "nbformat": 4,
 "nbformat_minor": 4
}
